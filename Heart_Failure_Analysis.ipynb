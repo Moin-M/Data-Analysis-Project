{
  "nbformat": 4,
  "nbformat_minor": 0,
  "metadata": {
    "colab": {
      "provenance": [],
      "authorship_tag": "ABX9TyMwztjYRChHoatM47ddcyj6",
      "include_colab_link": true
    },
    "kernelspec": {
      "name": "python3",
      "display_name": "Python 3"
    },
    "language_info": {
      "name": "python"
    }
  },
  "cells": [
    {
      "cell_type": "markdown",
      "metadata": {
        "id": "view-in-github",
        "colab_type": "text"
      },
      "source": [
        "<a href=\"https://colab.research.google.com/github/Moin-M/Data-Analysis-Projects/blob/main/Heart_Failure_Analysis.ipynb\" target=\"_parent\"><img src=\"https://colab.research.google.com/assets/colab-badge.svg\" alt=\"Open In Colab\"/></a>"
      ]
    },
    {
      "cell_type": "markdown",
      "source": [
        "#Introduction\n",
        "#About - Dataset:\n",
        "Cardiovascular diseases kill approximately 17 million people globally every year and they mainly exhibit as myocardial infarctions and heart failures. Heart failure (HF) occurs when the heart cannot pump enough blood to meet the needs of the body. In this project, we analyze a dataset containing the medical records of 299 heart failure patients collected at the Faisalabad Institute of Cardiology and at the Allied Hospital in Faisalabad (Punjab - Pakistan) during the months of April - December in 2015. It consists of 105 women and 194 men with their ages range between 40 and 95 years old. All 299 patients had left ventricular systolic dysfunction and had previous heart failures. This dataset contains 13 features, which reports clinical, body and lifestyle information of a patient namely Age, Anaemia, High Blood Pressure, Creatinine Phosphokinase (CPK), Diabetes, Ejection Fraction, Sex, Platelets, Serum Creatinine, Serum Sodium, Smoking Habit etc."
      ],
      "metadata": {
        "id": "pp4x4478uEHU"
      }
    },
    {
      "cell_type": "markdown",
      "source": [
        "#About - Project:\n",
        "This Exploratory Data Analysis project is a part of \"Data Analysis with Python: Zero to Pandas\" course structured and provided by Jovian. In this project, we'll analyse the relationship between the different features of the heart failure patient included in this dataset namely the distribution of age among the patients, death rate, percentage of male and female patients, variation in the platelets amount, creatinine and sodium level in the blood. The graphical representation and visualisation of data using matplotlib and seaborn library in python helps us to easily understand a lot better about the dataset."
      ],
      "metadata": {
        "id": "e9VJcllduudC"
      }
    },
    {
      "cell_type": "code",
      "execution_count": 5,
      "metadata": {
        "id": "KAj4oWYut-B6"
      },
      "outputs": [],
      "source": [
        "import pandas as pd \n",
        "import numpy as np "
      ]
    },
    {
      "cell_type": "code",
      "source": [
        "#convert the csv file into pandas data frame \n",
        "heart_failure_raw_df = pd.read_csv('heart_failure_clinical_records_dataset.csv')\n",
        "#let's extract a copy of raw df to keep the raw df unaffected / untouched \n",
        "heart_failure_df = heart_failure_raw_df.copy()\n",
        "heart_failure_df "
      ],
      "metadata": {
        "colab": {
          "base_uri": "https://localhost:8080/",
          "height": 488
        },
        "id": "riY0AWilvIQA",
        "outputId": "bcf154b2-cd67-40c1-b616-f86cbe7d439f"
      },
      "execution_count": 6,
      "outputs": [
        {
          "output_type": "execute_result",
          "data": {
            "text/plain": [
              "      age  anaemia  creatinine_phosphokinase  diabetes  ejection_fraction  \\\n",
              "0    75.0        0                       582         0                 20   \n",
              "1    55.0        0                      7861         0                 38   \n",
              "2    65.0        0                       146         0                 20   \n",
              "3    50.0        1                       111         0                 20   \n",
              "4    65.0        1                       160         1                 20   \n",
              "..    ...      ...                       ...       ...                ...   \n",
              "294  62.0        0                        61         1                 38   \n",
              "295  55.0        0                      1820         0                 38   \n",
              "296  45.0        0                      2060         1                 60   \n",
              "297  45.0        0                      2413         0                 38   \n",
              "298  50.0        0                       196         0                 45   \n",
              "\n",
              "     high_blood_pressure  platelets  serum_creatinine  serum_sodium  sex  \\\n",
              "0                      1  265000.00               1.9           130    1   \n",
              "1                      0  263358.03               1.1           136    1   \n",
              "2                      0  162000.00               1.3           129    1   \n",
              "3                      0  210000.00               1.9           137    1   \n",
              "4                      0  327000.00               2.7           116    0   \n",
              "..                   ...        ...               ...           ...  ...   \n",
              "294                    1  155000.00               1.1           143    1   \n",
              "295                    0  270000.00               1.2           139    0   \n",
              "296                    0  742000.00               0.8           138    0   \n",
              "297                    0  140000.00               1.4           140    1   \n",
              "298                    0  395000.00               1.6           136    1   \n",
              "\n",
              "     smoking  time  DEATH_EVENT  \n",
              "0          0     4            1  \n",
              "1          0     6            1  \n",
              "2          1     7            1  \n",
              "3          0     7            1  \n",
              "4          0     8            1  \n",
              "..       ...   ...          ...  \n",
              "294        1   270            0  \n",
              "295        0   271            0  \n",
              "296        0   278            0  \n",
              "297        1   280            0  \n",
              "298        1   285            0  \n",
              "\n",
              "[299 rows x 13 columns]"
            ],
            "text/html": [
              "\n",
              "  <div id=\"df-16f3fa06-7a96-47c9-bf14-7117de0ae6f4\">\n",
              "    <div class=\"colab-df-container\">\n",
              "      <div>\n",
              "<style scoped>\n",
              "    .dataframe tbody tr th:only-of-type {\n",
              "        vertical-align: middle;\n",
              "    }\n",
              "\n",
              "    .dataframe tbody tr th {\n",
              "        vertical-align: top;\n",
              "    }\n",
              "\n",
              "    .dataframe thead th {\n",
              "        text-align: right;\n",
              "    }\n",
              "</style>\n",
              "<table border=\"1\" class=\"dataframe\">\n",
              "  <thead>\n",
              "    <tr style=\"text-align: right;\">\n",
              "      <th></th>\n",
              "      <th>age</th>\n",
              "      <th>anaemia</th>\n",
              "      <th>creatinine_phosphokinase</th>\n",
              "      <th>diabetes</th>\n",
              "      <th>ejection_fraction</th>\n",
              "      <th>high_blood_pressure</th>\n",
              "      <th>platelets</th>\n",
              "      <th>serum_creatinine</th>\n",
              "      <th>serum_sodium</th>\n",
              "      <th>sex</th>\n",
              "      <th>smoking</th>\n",
              "      <th>time</th>\n",
              "      <th>DEATH_EVENT</th>\n",
              "    </tr>\n",
              "  </thead>\n",
              "  <tbody>\n",
              "    <tr>\n",
              "      <th>0</th>\n",
              "      <td>75.0</td>\n",
              "      <td>0</td>\n",
              "      <td>582</td>\n",
              "      <td>0</td>\n",
              "      <td>20</td>\n",
              "      <td>1</td>\n",
              "      <td>265000.00</td>\n",
              "      <td>1.9</td>\n",
              "      <td>130</td>\n",
              "      <td>1</td>\n",
              "      <td>0</td>\n",
              "      <td>4</td>\n",
              "      <td>1</td>\n",
              "    </tr>\n",
              "    <tr>\n",
              "      <th>1</th>\n",
              "      <td>55.0</td>\n",
              "      <td>0</td>\n",
              "      <td>7861</td>\n",
              "      <td>0</td>\n",
              "      <td>38</td>\n",
              "      <td>0</td>\n",
              "      <td>263358.03</td>\n",
              "      <td>1.1</td>\n",
              "      <td>136</td>\n",
              "      <td>1</td>\n",
              "      <td>0</td>\n",
              "      <td>6</td>\n",
              "      <td>1</td>\n",
              "    </tr>\n",
              "    <tr>\n",
              "      <th>2</th>\n",
              "      <td>65.0</td>\n",
              "      <td>0</td>\n",
              "      <td>146</td>\n",
              "      <td>0</td>\n",
              "      <td>20</td>\n",
              "      <td>0</td>\n",
              "      <td>162000.00</td>\n",
              "      <td>1.3</td>\n",
              "      <td>129</td>\n",
              "      <td>1</td>\n",
              "      <td>1</td>\n",
              "      <td>7</td>\n",
              "      <td>1</td>\n",
              "    </tr>\n",
              "    <tr>\n",
              "      <th>3</th>\n",
              "      <td>50.0</td>\n",
              "      <td>1</td>\n",
              "      <td>111</td>\n",
              "      <td>0</td>\n",
              "      <td>20</td>\n",
              "      <td>0</td>\n",
              "      <td>210000.00</td>\n",
              "      <td>1.9</td>\n",
              "      <td>137</td>\n",
              "      <td>1</td>\n",
              "      <td>0</td>\n",
              "      <td>7</td>\n",
              "      <td>1</td>\n",
              "    </tr>\n",
              "    <tr>\n",
              "      <th>4</th>\n",
              "      <td>65.0</td>\n",
              "      <td>1</td>\n",
              "      <td>160</td>\n",
              "      <td>1</td>\n",
              "      <td>20</td>\n",
              "      <td>0</td>\n",
              "      <td>327000.00</td>\n",
              "      <td>2.7</td>\n",
              "      <td>116</td>\n",
              "      <td>0</td>\n",
              "      <td>0</td>\n",
              "      <td>8</td>\n",
              "      <td>1</td>\n",
              "    </tr>\n",
              "    <tr>\n",
              "      <th>...</th>\n",
              "      <td>...</td>\n",
              "      <td>...</td>\n",
              "      <td>...</td>\n",
              "      <td>...</td>\n",
              "      <td>...</td>\n",
              "      <td>...</td>\n",
              "      <td>...</td>\n",
              "      <td>...</td>\n",
              "      <td>...</td>\n",
              "      <td>...</td>\n",
              "      <td>...</td>\n",
              "      <td>...</td>\n",
              "      <td>...</td>\n",
              "    </tr>\n",
              "    <tr>\n",
              "      <th>294</th>\n",
              "      <td>62.0</td>\n",
              "      <td>0</td>\n",
              "      <td>61</td>\n",
              "      <td>1</td>\n",
              "      <td>38</td>\n",
              "      <td>1</td>\n",
              "      <td>155000.00</td>\n",
              "      <td>1.1</td>\n",
              "      <td>143</td>\n",
              "      <td>1</td>\n",
              "      <td>1</td>\n",
              "      <td>270</td>\n",
              "      <td>0</td>\n",
              "    </tr>\n",
              "    <tr>\n",
              "      <th>295</th>\n",
              "      <td>55.0</td>\n",
              "      <td>0</td>\n",
              "      <td>1820</td>\n",
              "      <td>0</td>\n",
              "      <td>38</td>\n",
              "      <td>0</td>\n",
              "      <td>270000.00</td>\n",
              "      <td>1.2</td>\n",
              "      <td>139</td>\n",
              "      <td>0</td>\n",
              "      <td>0</td>\n",
              "      <td>271</td>\n",
              "      <td>0</td>\n",
              "    </tr>\n",
              "    <tr>\n",
              "      <th>296</th>\n",
              "      <td>45.0</td>\n",
              "      <td>0</td>\n",
              "      <td>2060</td>\n",
              "      <td>1</td>\n",
              "      <td>60</td>\n",
              "      <td>0</td>\n",
              "      <td>742000.00</td>\n",
              "      <td>0.8</td>\n",
              "      <td>138</td>\n",
              "      <td>0</td>\n",
              "      <td>0</td>\n",
              "      <td>278</td>\n",
              "      <td>0</td>\n",
              "    </tr>\n",
              "    <tr>\n",
              "      <th>297</th>\n",
              "      <td>45.0</td>\n",
              "      <td>0</td>\n",
              "      <td>2413</td>\n",
              "      <td>0</td>\n",
              "      <td>38</td>\n",
              "      <td>0</td>\n",
              "      <td>140000.00</td>\n",
              "      <td>1.4</td>\n",
              "      <td>140</td>\n",
              "      <td>1</td>\n",
              "      <td>1</td>\n",
              "      <td>280</td>\n",
              "      <td>0</td>\n",
              "    </tr>\n",
              "    <tr>\n",
              "      <th>298</th>\n",
              "      <td>50.0</td>\n",
              "      <td>0</td>\n",
              "      <td>196</td>\n",
              "      <td>0</td>\n",
              "      <td>45</td>\n",
              "      <td>0</td>\n",
              "      <td>395000.00</td>\n",
              "      <td>1.6</td>\n",
              "      <td>136</td>\n",
              "      <td>1</td>\n",
              "      <td>1</td>\n",
              "      <td>285</td>\n",
              "      <td>0</td>\n",
              "    </tr>\n",
              "  </tbody>\n",
              "</table>\n",
              "<p>299 rows × 13 columns</p>\n",
              "</div>\n",
              "      <button class=\"colab-df-convert\" onclick=\"convertToInteractive('df-16f3fa06-7a96-47c9-bf14-7117de0ae6f4')\"\n",
              "              title=\"Convert this dataframe to an interactive table.\"\n",
              "              style=\"display:none;\">\n",
              "        \n",
              "  <svg xmlns=\"http://www.w3.org/2000/svg\" height=\"24px\"viewBox=\"0 0 24 24\"\n",
              "       width=\"24px\">\n",
              "    <path d=\"M0 0h24v24H0V0z\" fill=\"none\"/>\n",
              "    <path d=\"M18.56 5.44l.94 2.06.94-2.06 2.06-.94-2.06-.94-.94-2.06-.94 2.06-2.06.94zm-11 1L8.5 8.5l.94-2.06 2.06-.94-2.06-.94L8.5 2.5l-.94 2.06-2.06.94zm10 10l.94 2.06.94-2.06 2.06-.94-2.06-.94-.94-2.06-.94 2.06-2.06.94z\"/><path d=\"M17.41 7.96l-1.37-1.37c-.4-.4-.92-.59-1.43-.59-.52 0-1.04.2-1.43.59L10.3 9.45l-7.72 7.72c-.78.78-.78 2.05 0 2.83L4 21.41c.39.39.9.59 1.41.59.51 0 1.02-.2 1.41-.59l7.78-7.78 2.81-2.81c.8-.78.8-2.07 0-2.86zM5.41 20L4 18.59l7.72-7.72 1.47 1.35L5.41 20z\"/>\n",
              "  </svg>\n",
              "      </button>\n",
              "      \n",
              "  <style>\n",
              "    .colab-df-container {\n",
              "      display:flex;\n",
              "      flex-wrap:wrap;\n",
              "      gap: 12px;\n",
              "    }\n",
              "\n",
              "    .colab-df-convert {\n",
              "      background-color: #E8F0FE;\n",
              "      border: none;\n",
              "      border-radius: 50%;\n",
              "      cursor: pointer;\n",
              "      display: none;\n",
              "      fill: #1967D2;\n",
              "      height: 32px;\n",
              "      padding: 0 0 0 0;\n",
              "      width: 32px;\n",
              "    }\n",
              "\n",
              "    .colab-df-convert:hover {\n",
              "      background-color: #E2EBFA;\n",
              "      box-shadow: 0px 1px 2px rgba(60, 64, 67, 0.3), 0px 1px 3px 1px rgba(60, 64, 67, 0.15);\n",
              "      fill: #174EA6;\n",
              "    }\n",
              "\n",
              "    [theme=dark] .colab-df-convert {\n",
              "      background-color: #3B4455;\n",
              "      fill: #D2E3FC;\n",
              "    }\n",
              "\n",
              "    [theme=dark] .colab-df-convert:hover {\n",
              "      background-color: #434B5C;\n",
              "      box-shadow: 0px 1px 3px 1px rgba(0, 0, 0, 0.15);\n",
              "      filter: drop-shadow(0px 1px 2px rgba(0, 0, 0, 0.3));\n",
              "      fill: #FFFFFF;\n",
              "    }\n",
              "  </style>\n",
              "\n",
              "      <script>\n",
              "        const buttonEl =\n",
              "          document.querySelector('#df-16f3fa06-7a96-47c9-bf14-7117de0ae6f4 button.colab-df-convert');\n",
              "        buttonEl.style.display =\n",
              "          google.colab.kernel.accessAllowed ? 'block' : 'none';\n",
              "\n",
              "        async function convertToInteractive(key) {\n",
              "          const element = document.querySelector('#df-16f3fa06-7a96-47c9-bf14-7117de0ae6f4');\n",
              "          const dataTable =\n",
              "            await google.colab.kernel.invokeFunction('convertToInteractive',\n",
              "                                                     [key], {});\n",
              "          if (!dataTable) return;\n",
              "\n",
              "          const docLinkHtml = 'Like what you see? Visit the ' +\n",
              "            '<a target=\"_blank\" href=https://colab.research.google.com/notebooks/data_table.ipynb>data table notebook</a>'\n",
              "            + ' to learn more about interactive tables.';\n",
              "          element.innerHTML = '';\n",
              "          dataTable['output_type'] = 'display_data';\n",
              "          await google.colab.output.renderOutput(dataTable, element);\n",
              "          const docLink = document.createElement('div');\n",
              "          docLink.innerHTML = docLinkHtml;\n",
              "          element.appendChild(docLink);\n",
              "        }\n",
              "      </script>\n",
              "    </div>\n",
              "  </div>\n",
              "  "
            ]
          },
          "metadata": {},
          "execution_count": 6
        }
      ]
    },
    {
      "cell_type": "markdown",
      "source": [
        "  <p style='text-align:justify;'> Let's modify our \"heart_failure_df\" data frame by dropping unnecessary columns / rows, renaming the column names, changing the data type of column and so on.</p>"
      ],
      "metadata": {
        "id": "0mW8ZD4vxHtx"
      }
    },
    {
      "cell_type": "code",
      "source": [
        "#renaming DEATH_EVENT as patient_dead for my convenience \n",
        "heart_failure_df.rename(columns = {'DEATH_EVENT':'patient_dead'}, inplace = True)\n",
        "#drop the time column which is not necessary for our analysis \n",
        "heart_failure_df.drop(['time'],axis=1, inplace =True, errors = 'ignore')\n",
        "#changing the data type of age column from float to int\n",
        "heart_failure_df.age = heart_failure_df.age.astype(int)\n",
        "#changing the data type of following columns to bool type for our convenience \n",
        "heart_failure_df[['anaemia','diabetes','high_blood_pressure', 'smoking', 'patient_dead']] = heart_failure_df[['anaemia','diabetes', 'high_blood_pressure', 'smoking', 'patient_dead']].astype(bool)\n",
        "#changing the value of sex column to male or female\n",
        "heart_failure_df['sex'] = np.where(heart_failure_df['sex'] == 1, 'Male','Female')\n",
        "#to convert the platelet-count into kilo-platelets/mcL \n",
        "heart_failure_df.platelets = (heart_failure_df. platelets/1000).astype(int)\n",
        "heart_failure_df "
      ],
      "metadata": {
        "colab": {
          "base_uri": "https://localhost:8080/",
          "height": 488
        },
        "id": "66kb67AxvS6Z",
        "outputId": "d66f3d62-05a5-4fb2-d3a5-233e902b7766"
      },
      "execution_count": 7,
      "outputs": [
        {
          "output_type": "execute_result",
          "data": {
            "text/plain": [
              "     age  anaemia  creatinine_phosphokinase  diabetes  ejection_fraction  \\\n",
              "0     75    False                       582     False                 20   \n",
              "1     55    False                      7861     False                 38   \n",
              "2     65    False                       146     False                 20   \n",
              "3     50     True                       111     False                 20   \n",
              "4     65     True                       160      True                 20   \n",
              "..   ...      ...                       ...       ...                ...   \n",
              "294   62    False                        61      True                 38   \n",
              "295   55    False                      1820     False                 38   \n",
              "296   45    False                      2060      True                 60   \n",
              "297   45    False                      2413     False                 38   \n",
              "298   50    False                       196     False                 45   \n",
              "\n",
              "     high_blood_pressure  platelets  serum_creatinine  serum_sodium     sex  \\\n",
              "0                   True        265               1.9           130    Male   \n",
              "1                  False        263               1.1           136    Male   \n",
              "2                  False        162               1.3           129    Male   \n",
              "3                  False        210               1.9           137    Male   \n",
              "4                  False        327               2.7           116  Female   \n",
              "..                   ...        ...               ...           ...     ...   \n",
              "294                 True        155               1.1           143    Male   \n",
              "295                False        270               1.2           139  Female   \n",
              "296                False        742               0.8           138  Female   \n",
              "297                False        140               1.4           140    Male   \n",
              "298                False        395               1.6           136    Male   \n",
              "\n",
              "     smoking  patient_dead  \n",
              "0      False          True  \n",
              "1      False          True  \n",
              "2       True          True  \n",
              "3      False          True  \n",
              "4      False          True  \n",
              "..       ...           ...  \n",
              "294     True         False  \n",
              "295    False         False  \n",
              "296    False         False  \n",
              "297     True         False  \n",
              "298     True         False  \n",
              "\n",
              "[299 rows x 12 columns]"
            ],
            "text/html": [
              "\n",
              "  <div id=\"df-4b5371b0-4125-4926-9411-32be41daf8e0\">\n",
              "    <div class=\"colab-df-container\">\n",
              "      <div>\n",
              "<style scoped>\n",
              "    .dataframe tbody tr th:only-of-type {\n",
              "        vertical-align: middle;\n",
              "    }\n",
              "\n",
              "    .dataframe tbody tr th {\n",
              "        vertical-align: top;\n",
              "    }\n",
              "\n",
              "    .dataframe thead th {\n",
              "        text-align: right;\n",
              "    }\n",
              "</style>\n",
              "<table border=\"1\" class=\"dataframe\">\n",
              "  <thead>\n",
              "    <tr style=\"text-align: right;\">\n",
              "      <th></th>\n",
              "      <th>age</th>\n",
              "      <th>anaemia</th>\n",
              "      <th>creatinine_phosphokinase</th>\n",
              "      <th>diabetes</th>\n",
              "      <th>ejection_fraction</th>\n",
              "      <th>high_blood_pressure</th>\n",
              "      <th>platelets</th>\n",
              "      <th>serum_creatinine</th>\n",
              "      <th>serum_sodium</th>\n",
              "      <th>sex</th>\n",
              "      <th>smoking</th>\n",
              "      <th>patient_dead</th>\n",
              "    </tr>\n",
              "  </thead>\n",
              "  <tbody>\n",
              "    <tr>\n",
              "      <th>0</th>\n",
              "      <td>75</td>\n",
              "      <td>False</td>\n",
              "      <td>582</td>\n",
              "      <td>False</td>\n",
              "      <td>20</td>\n",
              "      <td>True</td>\n",
              "      <td>265</td>\n",
              "      <td>1.9</td>\n",
              "      <td>130</td>\n",
              "      <td>Male</td>\n",
              "      <td>False</td>\n",
              "      <td>True</td>\n",
              "    </tr>\n",
              "    <tr>\n",
              "      <th>1</th>\n",
              "      <td>55</td>\n",
              "      <td>False</td>\n",
              "      <td>7861</td>\n",
              "      <td>False</td>\n",
              "      <td>38</td>\n",
              "      <td>False</td>\n",
              "      <td>263</td>\n",
              "      <td>1.1</td>\n",
              "      <td>136</td>\n",
              "      <td>Male</td>\n",
              "      <td>False</td>\n",
              "      <td>True</td>\n",
              "    </tr>\n",
              "    <tr>\n",
              "      <th>2</th>\n",
              "      <td>65</td>\n",
              "      <td>False</td>\n",
              "      <td>146</td>\n",
              "      <td>False</td>\n",
              "      <td>20</td>\n",
              "      <td>False</td>\n",
              "      <td>162</td>\n",
              "      <td>1.3</td>\n",
              "      <td>129</td>\n",
              "      <td>Male</td>\n",
              "      <td>True</td>\n",
              "      <td>True</td>\n",
              "    </tr>\n",
              "    <tr>\n",
              "      <th>3</th>\n",
              "      <td>50</td>\n",
              "      <td>True</td>\n",
              "      <td>111</td>\n",
              "      <td>False</td>\n",
              "      <td>20</td>\n",
              "      <td>False</td>\n",
              "      <td>210</td>\n",
              "      <td>1.9</td>\n",
              "      <td>137</td>\n",
              "      <td>Male</td>\n",
              "      <td>False</td>\n",
              "      <td>True</td>\n",
              "    </tr>\n",
              "    <tr>\n",
              "      <th>4</th>\n",
              "      <td>65</td>\n",
              "      <td>True</td>\n",
              "      <td>160</td>\n",
              "      <td>True</td>\n",
              "      <td>20</td>\n",
              "      <td>False</td>\n",
              "      <td>327</td>\n",
              "      <td>2.7</td>\n",
              "      <td>116</td>\n",
              "      <td>Female</td>\n",
              "      <td>False</td>\n",
              "      <td>True</td>\n",
              "    </tr>\n",
              "    <tr>\n",
              "      <th>...</th>\n",
              "      <td>...</td>\n",
              "      <td>...</td>\n",
              "      <td>...</td>\n",
              "      <td>...</td>\n",
              "      <td>...</td>\n",
              "      <td>...</td>\n",
              "      <td>...</td>\n",
              "      <td>...</td>\n",
              "      <td>...</td>\n",
              "      <td>...</td>\n",
              "      <td>...</td>\n",
              "      <td>...</td>\n",
              "    </tr>\n",
              "    <tr>\n",
              "      <th>294</th>\n",
              "      <td>62</td>\n",
              "      <td>False</td>\n",
              "      <td>61</td>\n",
              "      <td>True</td>\n",
              "      <td>38</td>\n",
              "      <td>True</td>\n",
              "      <td>155</td>\n",
              "      <td>1.1</td>\n",
              "      <td>143</td>\n",
              "      <td>Male</td>\n",
              "      <td>True</td>\n",
              "      <td>False</td>\n",
              "    </tr>\n",
              "    <tr>\n",
              "      <th>295</th>\n",
              "      <td>55</td>\n",
              "      <td>False</td>\n",
              "      <td>1820</td>\n",
              "      <td>False</td>\n",
              "      <td>38</td>\n",
              "      <td>False</td>\n",
              "      <td>270</td>\n",
              "      <td>1.2</td>\n",
              "      <td>139</td>\n",
              "      <td>Female</td>\n",
              "      <td>False</td>\n",
              "      <td>False</td>\n",
              "    </tr>\n",
              "    <tr>\n",
              "      <th>296</th>\n",
              "      <td>45</td>\n",
              "      <td>False</td>\n",
              "      <td>2060</td>\n",
              "      <td>True</td>\n",
              "      <td>60</td>\n",
              "      <td>False</td>\n",
              "      <td>742</td>\n",
              "      <td>0.8</td>\n",
              "      <td>138</td>\n",
              "      <td>Female</td>\n",
              "      <td>False</td>\n",
              "      <td>False</td>\n",
              "    </tr>\n",
              "    <tr>\n",
              "      <th>297</th>\n",
              "      <td>45</td>\n",
              "      <td>False</td>\n",
              "      <td>2413</td>\n",
              "      <td>False</td>\n",
              "      <td>38</td>\n",
              "      <td>False</td>\n",
              "      <td>140</td>\n",
              "      <td>1.4</td>\n",
              "      <td>140</td>\n",
              "      <td>Male</td>\n",
              "      <td>True</td>\n",
              "      <td>False</td>\n",
              "    </tr>\n",
              "    <tr>\n",
              "      <th>298</th>\n",
              "      <td>50</td>\n",
              "      <td>False</td>\n",
              "      <td>196</td>\n",
              "      <td>False</td>\n",
              "      <td>45</td>\n",
              "      <td>False</td>\n",
              "      <td>395</td>\n",
              "      <td>1.6</td>\n",
              "      <td>136</td>\n",
              "      <td>Male</td>\n",
              "      <td>True</td>\n",
              "      <td>False</td>\n",
              "    </tr>\n",
              "  </tbody>\n",
              "</table>\n",
              "<p>299 rows × 12 columns</p>\n",
              "</div>\n",
              "      <button class=\"colab-df-convert\" onclick=\"convertToInteractive('df-4b5371b0-4125-4926-9411-32be41daf8e0')\"\n",
              "              title=\"Convert this dataframe to an interactive table.\"\n",
              "              style=\"display:none;\">\n",
              "        \n",
              "  <svg xmlns=\"http://www.w3.org/2000/svg\" height=\"24px\"viewBox=\"0 0 24 24\"\n",
              "       width=\"24px\">\n",
              "    <path d=\"M0 0h24v24H0V0z\" fill=\"none\"/>\n",
              "    <path d=\"M18.56 5.44l.94 2.06.94-2.06 2.06-.94-2.06-.94-.94-2.06-.94 2.06-2.06.94zm-11 1L8.5 8.5l.94-2.06 2.06-.94-2.06-.94L8.5 2.5l-.94 2.06-2.06.94zm10 10l.94 2.06.94-2.06 2.06-.94-2.06-.94-.94-2.06-.94 2.06-2.06.94z\"/><path d=\"M17.41 7.96l-1.37-1.37c-.4-.4-.92-.59-1.43-.59-.52 0-1.04.2-1.43.59L10.3 9.45l-7.72 7.72c-.78.78-.78 2.05 0 2.83L4 21.41c.39.39.9.59 1.41.59.51 0 1.02-.2 1.41-.59l7.78-7.78 2.81-2.81c.8-.78.8-2.07 0-2.86zM5.41 20L4 18.59l7.72-7.72 1.47 1.35L5.41 20z\"/>\n",
              "  </svg>\n",
              "      </button>\n",
              "      \n",
              "  <style>\n",
              "    .colab-df-container {\n",
              "      display:flex;\n",
              "      flex-wrap:wrap;\n",
              "      gap: 12px;\n",
              "    }\n",
              "\n",
              "    .colab-df-convert {\n",
              "      background-color: #E8F0FE;\n",
              "      border: none;\n",
              "      border-radius: 50%;\n",
              "      cursor: pointer;\n",
              "      display: none;\n",
              "      fill: #1967D2;\n",
              "      height: 32px;\n",
              "      padding: 0 0 0 0;\n",
              "      width: 32px;\n",
              "    }\n",
              "\n",
              "    .colab-df-convert:hover {\n",
              "      background-color: #E2EBFA;\n",
              "      box-shadow: 0px 1px 2px rgba(60, 64, 67, 0.3), 0px 1px 3px 1px rgba(60, 64, 67, 0.15);\n",
              "      fill: #174EA6;\n",
              "    }\n",
              "\n",
              "    [theme=dark] .colab-df-convert {\n",
              "      background-color: #3B4455;\n",
              "      fill: #D2E3FC;\n",
              "    }\n",
              "\n",
              "    [theme=dark] .colab-df-convert:hover {\n",
              "      background-color: #434B5C;\n",
              "      box-shadow: 0px 1px 3px 1px rgba(0, 0, 0, 0.15);\n",
              "      filter: drop-shadow(0px 1px 2px rgba(0, 0, 0, 0.3));\n",
              "      fill: #FFFFFF;\n",
              "    }\n",
              "  </style>\n",
              "\n",
              "      <script>\n",
              "        const buttonEl =\n",
              "          document.querySelector('#df-4b5371b0-4125-4926-9411-32be41daf8e0 button.colab-df-convert');\n",
              "        buttonEl.style.display =\n",
              "          google.colab.kernel.accessAllowed ? 'block' : 'none';\n",
              "\n",
              "        async function convertToInteractive(key) {\n",
              "          const element = document.querySelector('#df-4b5371b0-4125-4926-9411-32be41daf8e0');\n",
              "          const dataTable =\n",
              "            await google.colab.kernel.invokeFunction('convertToInteractive',\n",
              "                                                     [key], {});\n",
              "          if (!dataTable) return;\n",
              "\n",
              "          const docLinkHtml = 'Like what you see? Visit the ' +\n",
              "            '<a target=\"_blank\" href=https://colab.research.google.com/notebooks/data_table.ipynb>data table notebook</a>'\n",
              "            + ' to learn more about interactive tables.';\n",
              "          element.innerHTML = '';\n",
              "          dataTable['output_type'] = 'display_data';\n",
              "          await google.colab.output.renderOutput(dataTable, element);\n",
              "          const docLink = document.createElement('div');\n",
              "          docLink.innerHTML = docLinkHtml;\n",
              "          element.appendChild(docLink);\n",
              "        }\n",
              "      </script>\n",
              "    </div>\n",
              "  </div>\n",
              "  "
            ]
          },
          "metadata": {},
          "execution_count": 7
        }
      ]
    },
    {
      "cell_type": "markdown",
      "source": [
        "#Check for null values in data frame\n",
        "\n",
        "isna().any() function returns 'True', if there's any null (Nan) value in data frame and returns False if there's no null value"
      ],
      "metadata": {
        "id": "U27NOwPzxQMv"
      }
    },
    {
      "cell_type": "code",
      "source": [
        "#checking for NaN values \n",
        "heart_failure_df.isnull().any()"
      ],
      "metadata": {
        "colab": {
          "base_uri": "https://localhost:8080/"
        },
        "id": "lObncJ02wNHQ",
        "outputId": "ef31fe9e-f88e-49e3-c456-8b79551a0e73"
      },
      "execution_count": 8,
      "outputs": [
        {
          "output_type": "execute_result",
          "data": {
            "text/plain": [
              "age                         False\n",
              "anaemia                     False\n",
              "creatinine_phosphokinase    False\n",
              "diabetes                    False\n",
              "ejection_fraction           False\n",
              "high_blood_pressure         False\n",
              "platelets                   False\n",
              "serum_creatinine            False\n",
              "serum_sodium                False\n",
              "sex                         False\n",
              "smoking                     False\n",
              "patient_dead                False\n",
              "dtype: bool"
            ]
          },
          "metadata": {},
          "execution_count": 8
        }
      ]
    },
    {
      "cell_type": "markdown",
      "source": [
        "  <p style='text-align:justify;'> From the above result, it's clear that  there's no null values present in our data frame. If there's limited number of columns, we can also check whether a column has null value or not using info()  function.</p>"
      ],
      "metadata": {
        "id": "-UV7gKHqxZMP"
      }
    },
    {
      "cell_type": "code",
      "source": [
        "heart_failure_df.info()"
      ],
      "metadata": {
        "colab": {
          "base_uri": "https://localhost:8080/"
        },
        "id": "0NWoKP_zxUw8",
        "outputId": "5d8d8576-cf59-4859-c5a8-21ac5239872a"
      },
      "execution_count": 9,
      "outputs": [
        {
          "output_type": "stream",
          "name": "stdout",
          "text": [
            "<class 'pandas.core.frame.DataFrame'>\n",
            "RangeIndex: 299 entries, 0 to 298\n",
            "Data columns (total 12 columns):\n",
            " #   Column                    Non-Null Count  Dtype  \n",
            "---  ------                    --------------  -----  \n",
            " 0   age                       299 non-null    int64  \n",
            " 1   anaemia                   299 non-null    bool   \n",
            " 2   creatinine_phosphokinase  299 non-null    int64  \n",
            " 3   diabetes                  299 non-null    bool   \n",
            " 4   ejection_fraction         299 non-null    int64  \n",
            " 5   high_blood_pressure       299 non-null    bool   \n",
            " 6   platelets                 299 non-null    int64  \n",
            " 7   serum_creatinine          299 non-null    float64\n",
            " 8   serum_sodium              299 non-null    int64  \n",
            " 9   sex                       299 non-null    object \n",
            " 10  smoking                   299 non-null    bool   \n",
            " 11  patient_dead              299 non-null    bool   \n",
            "dtypes: bool(5), float64(1), int64(5), object(1)\n",
            "memory usage: 17.9+ KB\n"
          ]
        }
      ]
    },
    {
      "cell_type": "markdown",
      "source": [
        "  <p style='text-align:justify;'> info() function in pandas module is used to view some basic information of a data frame. From the above output, we can clearly see that there are 299 rows and 12 column and there's no null value. Also we can see the data types of each column in the data frame.</p>"
      ],
      "metadata": {
        "id": "-CBFPaptxkR9"
      }
    },
    {
      "cell_type": "code",
      "source": [
        "heart_failure_df.describe()"
      ],
      "metadata": {
        "colab": {
          "base_uri": "https://localhost:8080/",
          "height": 300
        },
        "id": "lH68RgD9xdnv",
        "outputId": "674d74d4-315f-452c-ca41-8a031da8327a"
      },
      "execution_count": 10,
      "outputs": [
        {
          "output_type": "execute_result",
          "data": {
            "text/plain": [
              "              age  creatinine_phosphokinase  ejection_fraction   platelets  \\\n",
              "count  299.000000                299.000000         299.000000  299.000000   \n",
              "mean    60.829431                581.839465          38.083612  263.327759   \n",
              "std     11.894997                970.287881          11.834841   97.805105   \n",
              "min     40.000000                 23.000000          14.000000   25.000000   \n",
              "25%     51.000000                116.500000          30.000000  212.500000   \n",
              "50%     60.000000                250.000000          38.000000  262.000000   \n",
              "75%     70.000000                582.000000          45.000000  303.500000   \n",
              "max     95.000000               7861.000000          80.000000  850.000000   \n",
              "\n",
              "       serum_creatinine  serum_sodium  \n",
              "count         299.00000    299.000000  \n",
              "mean            1.39388    136.625418  \n",
              "std             1.03451      4.412477  \n",
              "min             0.50000    113.000000  \n",
              "25%             0.90000    134.000000  \n",
              "50%             1.10000    137.000000  \n",
              "75%             1.40000    140.000000  \n",
              "max             9.40000    148.000000  "
            ],
            "text/html": [
              "\n",
              "  <div id=\"df-5038ec7b-8330-4ede-9161-39413575cf90\">\n",
              "    <div class=\"colab-df-container\">\n",
              "      <div>\n",
              "<style scoped>\n",
              "    .dataframe tbody tr th:only-of-type {\n",
              "        vertical-align: middle;\n",
              "    }\n",
              "\n",
              "    .dataframe tbody tr th {\n",
              "        vertical-align: top;\n",
              "    }\n",
              "\n",
              "    .dataframe thead th {\n",
              "        text-align: right;\n",
              "    }\n",
              "</style>\n",
              "<table border=\"1\" class=\"dataframe\">\n",
              "  <thead>\n",
              "    <tr style=\"text-align: right;\">\n",
              "      <th></th>\n",
              "      <th>age</th>\n",
              "      <th>creatinine_phosphokinase</th>\n",
              "      <th>ejection_fraction</th>\n",
              "      <th>platelets</th>\n",
              "      <th>serum_creatinine</th>\n",
              "      <th>serum_sodium</th>\n",
              "    </tr>\n",
              "  </thead>\n",
              "  <tbody>\n",
              "    <tr>\n",
              "      <th>count</th>\n",
              "      <td>299.000000</td>\n",
              "      <td>299.000000</td>\n",
              "      <td>299.000000</td>\n",
              "      <td>299.000000</td>\n",
              "      <td>299.00000</td>\n",
              "      <td>299.000000</td>\n",
              "    </tr>\n",
              "    <tr>\n",
              "      <th>mean</th>\n",
              "      <td>60.829431</td>\n",
              "      <td>581.839465</td>\n",
              "      <td>38.083612</td>\n",
              "      <td>263.327759</td>\n",
              "      <td>1.39388</td>\n",
              "      <td>136.625418</td>\n",
              "    </tr>\n",
              "    <tr>\n",
              "      <th>std</th>\n",
              "      <td>11.894997</td>\n",
              "      <td>970.287881</td>\n",
              "      <td>11.834841</td>\n",
              "      <td>97.805105</td>\n",
              "      <td>1.03451</td>\n",
              "      <td>4.412477</td>\n",
              "    </tr>\n",
              "    <tr>\n",
              "      <th>min</th>\n",
              "      <td>40.000000</td>\n",
              "      <td>23.000000</td>\n",
              "      <td>14.000000</td>\n",
              "      <td>25.000000</td>\n",
              "      <td>0.50000</td>\n",
              "      <td>113.000000</td>\n",
              "    </tr>\n",
              "    <tr>\n",
              "      <th>25%</th>\n",
              "      <td>51.000000</td>\n",
              "      <td>116.500000</td>\n",
              "      <td>30.000000</td>\n",
              "      <td>212.500000</td>\n",
              "      <td>0.90000</td>\n",
              "      <td>134.000000</td>\n",
              "    </tr>\n",
              "    <tr>\n",
              "      <th>50%</th>\n",
              "      <td>60.000000</td>\n",
              "      <td>250.000000</td>\n",
              "      <td>38.000000</td>\n",
              "      <td>262.000000</td>\n",
              "      <td>1.10000</td>\n",
              "      <td>137.000000</td>\n",
              "    </tr>\n",
              "    <tr>\n",
              "      <th>75%</th>\n",
              "      <td>70.000000</td>\n",
              "      <td>582.000000</td>\n",
              "      <td>45.000000</td>\n",
              "      <td>303.500000</td>\n",
              "      <td>1.40000</td>\n",
              "      <td>140.000000</td>\n",
              "    </tr>\n",
              "    <tr>\n",
              "      <th>max</th>\n",
              "      <td>95.000000</td>\n",
              "      <td>7861.000000</td>\n",
              "      <td>80.000000</td>\n",
              "      <td>850.000000</td>\n",
              "      <td>9.40000</td>\n",
              "      <td>148.000000</td>\n",
              "    </tr>\n",
              "  </tbody>\n",
              "</table>\n",
              "</div>\n",
              "      <button class=\"colab-df-convert\" onclick=\"convertToInteractive('df-5038ec7b-8330-4ede-9161-39413575cf90')\"\n",
              "              title=\"Convert this dataframe to an interactive table.\"\n",
              "              style=\"display:none;\">\n",
              "        \n",
              "  <svg xmlns=\"http://www.w3.org/2000/svg\" height=\"24px\"viewBox=\"0 0 24 24\"\n",
              "       width=\"24px\">\n",
              "    <path d=\"M0 0h24v24H0V0z\" fill=\"none\"/>\n",
              "    <path d=\"M18.56 5.44l.94 2.06.94-2.06 2.06-.94-2.06-.94-.94-2.06-.94 2.06-2.06.94zm-11 1L8.5 8.5l.94-2.06 2.06-.94-2.06-.94L8.5 2.5l-.94 2.06-2.06.94zm10 10l.94 2.06.94-2.06 2.06-.94-2.06-.94-.94-2.06-.94 2.06-2.06.94z\"/><path d=\"M17.41 7.96l-1.37-1.37c-.4-.4-.92-.59-1.43-.59-.52 0-1.04.2-1.43.59L10.3 9.45l-7.72 7.72c-.78.78-.78 2.05 0 2.83L4 21.41c.39.39.9.59 1.41.59.51 0 1.02-.2 1.41-.59l7.78-7.78 2.81-2.81c.8-.78.8-2.07 0-2.86zM5.41 20L4 18.59l7.72-7.72 1.47 1.35L5.41 20z\"/>\n",
              "  </svg>\n",
              "      </button>\n",
              "      \n",
              "  <style>\n",
              "    .colab-df-container {\n",
              "      display:flex;\n",
              "      flex-wrap:wrap;\n",
              "      gap: 12px;\n",
              "    }\n",
              "\n",
              "    .colab-df-convert {\n",
              "      background-color: #E8F0FE;\n",
              "      border: none;\n",
              "      border-radius: 50%;\n",
              "      cursor: pointer;\n",
              "      display: none;\n",
              "      fill: #1967D2;\n",
              "      height: 32px;\n",
              "      padding: 0 0 0 0;\n",
              "      width: 32px;\n",
              "    }\n",
              "\n",
              "    .colab-df-convert:hover {\n",
              "      background-color: #E2EBFA;\n",
              "      box-shadow: 0px 1px 2px rgba(60, 64, 67, 0.3), 0px 1px 3px 1px rgba(60, 64, 67, 0.15);\n",
              "      fill: #174EA6;\n",
              "    }\n",
              "\n",
              "    [theme=dark] .colab-df-convert {\n",
              "      background-color: #3B4455;\n",
              "      fill: #D2E3FC;\n",
              "    }\n",
              "\n",
              "    [theme=dark] .colab-df-convert:hover {\n",
              "      background-color: #434B5C;\n",
              "      box-shadow: 0px 1px 3px 1px rgba(0, 0, 0, 0.15);\n",
              "      filter: drop-shadow(0px 1px 2px rgba(0, 0, 0, 0.3));\n",
              "      fill: #FFFFFF;\n",
              "    }\n",
              "  </style>\n",
              "\n",
              "      <script>\n",
              "        const buttonEl =\n",
              "          document.querySelector('#df-5038ec7b-8330-4ede-9161-39413575cf90 button.colab-df-convert');\n",
              "        buttonEl.style.display =\n",
              "          google.colab.kernel.accessAllowed ? 'block' : 'none';\n",
              "\n",
              "        async function convertToInteractive(key) {\n",
              "          const element = document.querySelector('#df-5038ec7b-8330-4ede-9161-39413575cf90');\n",
              "          const dataTable =\n",
              "            await google.colab.kernel.invokeFunction('convertToInteractive',\n",
              "                                                     [key], {});\n",
              "          if (!dataTable) return;\n",
              "\n",
              "          const docLinkHtml = 'Like what you see? Visit the ' +\n",
              "            '<a target=\"_blank\" href=https://colab.research.google.com/notebooks/data_table.ipynb>data table notebook</a>'\n",
              "            + ' to learn more about interactive tables.';\n",
              "          element.innerHTML = '';\n",
              "          dataTable['output_type'] = 'display_data';\n",
              "          await google.colab.output.renderOutput(dataTable, element);\n",
              "          const docLink = document.createElement('div');\n",
              "          docLink.innerHTML = docLinkHtml;\n",
              "          element.appendChild(docLink);\n",
              "        }\n",
              "      </script>\n",
              "    </div>\n",
              "  </div>\n",
              "  "
            ]
          },
          "metadata": {},
          "execution_count": 10
        }
      ]
    },
    {
      "cell_type": "markdown",
      "source": [
        "  <p style='text-align:justify;'> describe() function is used to find some basic statistical information regarding a data frame in pandas. \n",
        "It's normal that, the max age of patient recorded is 95 years and min age is 40 years. All other numeric value records found okay, but the maximum value of Creatinine Phosphokinase (CPK) measured is 7861, that's too high for a normal person. The maximum value of CKP found in a heart failure patient was around 600 micrograms per liter. </p>"
      ],
      "metadata": {
        "id": "oDvtXHTixy-e"
      }
    },
    {
      "cell_type": "code",
      "source": [
        "heart_failure_df[heart_failure_df.creatinine_phosphokinase > 1000].info()"
      ],
      "metadata": {
        "colab": {
          "base_uri": "https://localhost:8080/"
        },
        "id": "XxTFNrjpxpqe",
        "outputId": "d12519c1-2bbd-496d-bc01-b335abb78c78"
      },
      "execution_count": 11,
      "outputs": [
        {
          "output_type": "stream",
          "name": "stdout",
          "text": [
            "<class 'pandas.core.frame.DataFrame'>\n",
            "Int64Index: 36 entries, 1 to 297\n",
            "Data columns (total 12 columns):\n",
            " #   Column                    Non-Null Count  Dtype  \n",
            "---  ------                    --------------  -----  \n",
            " 0   age                       36 non-null     int64  \n",
            " 1   anaemia                   36 non-null     bool   \n",
            " 2   creatinine_phosphokinase  36 non-null     int64  \n",
            " 3   diabetes                  36 non-null     bool   \n",
            " 4   ejection_fraction         36 non-null     int64  \n",
            " 5   high_blood_pressure       36 non-null     bool   \n",
            " 6   platelets                 36 non-null     int64  \n",
            " 7   serum_creatinine          36 non-null     float64\n",
            " 8   serum_sodium              36 non-null     int64  \n",
            " 9   sex                       36 non-null     object \n",
            " 10  smoking                   36 non-null     bool   \n",
            " 11  patient_dead              36 non-null     bool   \n",
            "dtypes: bool(5), float64(1), int64(5), object(1)\n",
            "memory usage: 2.4+ KB\n"
          ]
        }
      ]
    },
    {
      "cell_type": "markdown",
      "source": [
        "  <p style='text-align:justify;'> The normal value of CPK ranges from 10 to 120 micrograms per liter, but around 36 patients has CPK level more than 1000 micrograms per liter in our observation. Since, we are not sure about the source of error or that the recorded data is correct or not. This error and huge difference in value might be due to the different measurement units. So let's drop that column and not include in our analysis.</p>"
      ],
      "metadata": {
        "id": "nlmHlOKryJ6l"
      }
    },
    {
      "cell_type": "code",
      "source": [
        "#to drop creatinine_phosphokinase column\n",
        "heart_failure_df.drop('creatinine_phosphokinase', inplace = True, axis = 1, errors ='ignore')"
      ],
      "metadata": {
        "id": "wLTJVwuGx-yS"
      },
      "execution_count": 12,
      "outputs": []
    },
    {
      "cell_type": "code",
      "source": [
        "#to display column names\n",
        "heart_failure_df.columns "
      ],
      "metadata": {
        "colab": {
          "base_uri": "https://localhost:8080/"
        },
        "id": "xRKrOHcwyRtZ",
        "outputId": "6ea877d7-6a33-4000-c18e-9ddbaf651fe0"
      },
      "execution_count": 13,
      "outputs": [
        {
          "output_type": "execute_result",
          "data": {
            "text/plain": [
              "Index(['age', 'anaemia', 'diabetes', 'ejection_fraction',\n",
              "       'high_blood_pressure', 'platelets', 'serum_creatinine', 'serum_sodium',\n",
              "       'sex', 'smoking', 'patient_dead'],\n",
              "      dtype='object')"
            ]
          },
          "metadata": {},
          "execution_count": 13
        }
      ]
    },
    {
      "cell_type": "markdown",
      "source": [
        "  <p style='text-align:justify;'> There are 11 column in our data frame, where each column represents the attribute of the 299 heart failure patients.</p>\n",
        "  <p style='text-align:justify;'> \n",
        "column names (attributes) of the data frame doesn't provide complete information regarding the data recorded, so we have to refer to the another table or any website for reference to see the complete information regarding the attributes (column names) like explanation and measurement units. Also we have to add normal level value for the attributes, for the required column values.</p>\n",
        "  <p style='text-align:justify;'> \n",
        "Pandas library in python provides various useful functions to read various file formats, here we'll use read_html function to read a table from the source website. Kindly check the reference links at the bottom of this page.</p>"
      ],
      "metadata": {
        "id": "p8owQRZ8ye8o"
      }
    },
    {
      "cell_type": "code",
      "source": [
        "#to save the html table as pandas data frame \n",
        "column_details_df = pd.read_html(\"https://bmcmedinformdecismak.biomedcentral.com/articles/10.1186/s12911-020-1023-5/tables/1 \")[0]\n",
        "#to drop the unnecessary column\n",
        "column_details_df.drop('Range', axis =1,inplace = True, errors='ignore' )\n",
        "#to drop the unnecessary rows\n",
        "column_details_df.drop([3,4,7,13], axis = 0, inplace =True, errors ='ignore')\n",
        "#to rename the column names\n",
        "column_details_df.columns = ['feature', 'explanation', 'measurement_unit']\n",
        "column_details_df "
      ],
      "metadata": {
        "colab": {
          "base_uri": "https://localhost:8080/",
          "height": 394
        },
        "id": "PXwm5sDxyV_C",
        "outputId": "f3636563-4acf-46ef-a48c-f69d96c163d5"
      },
      "execution_count": 14,
      "outputs": [
        {
          "output_type": "execute_result",
          "data": {
            "text/plain": [
              "                 feature                                      explanation  \\\n",
              "0                    Age                               Age of the patient   \n",
              "1                Anaemia        Decrease of red blood cells or hemoglobin   \n",
              "2    High blood pressure                    If a patient has hypertension   \n",
              "5               Diabetes                      If the patient has diabetes   \n",
              "6      Ejection fraction                      Percentage of blood leaving   \n",
              "8                    Sex                                     Woman or man   \n",
              "9              Platelets                           Platelets in the blood   \n",
              "10      Serum creatinine                 Level of creatinine in the blood   \n",
              "11          Serum sodium                     Level of sodium in the blood   \n",
              "12               Smoking                            If the patient smokes   \n",
              "14  (target) death event  If the patient died during the follow-up period   \n",
              "\n",
              "    measurement_unit  \n",
              "0              Years  \n",
              "1            Boolean  \n",
              "2            Boolean  \n",
              "5            Boolean  \n",
              "6         Percentage  \n",
              "8             Binary  \n",
              "9   kiloplatelets/mL  \n",
              "10             mg/dL  \n",
              "11             mEq/L  \n",
              "12           Boolean  \n",
              "14           Boolean  "
            ],
            "text/html": [
              "\n",
              "  <div id=\"df-7c9226b9-8e8f-494f-9eb3-b09771bfb090\">\n",
              "    <div class=\"colab-df-container\">\n",
              "      <div>\n",
              "<style scoped>\n",
              "    .dataframe tbody tr th:only-of-type {\n",
              "        vertical-align: middle;\n",
              "    }\n",
              "\n",
              "    .dataframe tbody tr th {\n",
              "        vertical-align: top;\n",
              "    }\n",
              "\n",
              "    .dataframe thead th {\n",
              "        text-align: right;\n",
              "    }\n",
              "</style>\n",
              "<table border=\"1\" class=\"dataframe\">\n",
              "  <thead>\n",
              "    <tr style=\"text-align: right;\">\n",
              "      <th></th>\n",
              "      <th>feature</th>\n",
              "      <th>explanation</th>\n",
              "      <th>measurement_unit</th>\n",
              "    </tr>\n",
              "  </thead>\n",
              "  <tbody>\n",
              "    <tr>\n",
              "      <th>0</th>\n",
              "      <td>Age</td>\n",
              "      <td>Age of the patient</td>\n",
              "      <td>Years</td>\n",
              "    </tr>\n",
              "    <tr>\n",
              "      <th>1</th>\n",
              "      <td>Anaemia</td>\n",
              "      <td>Decrease of red blood cells or hemoglobin</td>\n",
              "      <td>Boolean</td>\n",
              "    </tr>\n",
              "    <tr>\n",
              "      <th>2</th>\n",
              "      <td>High blood pressure</td>\n",
              "      <td>If a patient has hypertension</td>\n",
              "      <td>Boolean</td>\n",
              "    </tr>\n",
              "    <tr>\n",
              "      <th>5</th>\n",
              "      <td>Diabetes</td>\n",
              "      <td>If the patient has diabetes</td>\n",
              "      <td>Boolean</td>\n",
              "    </tr>\n",
              "    <tr>\n",
              "      <th>6</th>\n",
              "      <td>Ejection fraction</td>\n",
              "      <td>Percentage of blood leaving</td>\n",
              "      <td>Percentage</td>\n",
              "    </tr>\n",
              "    <tr>\n",
              "      <th>8</th>\n",
              "      <td>Sex</td>\n",
              "      <td>Woman or man</td>\n",
              "      <td>Binary</td>\n",
              "    </tr>\n",
              "    <tr>\n",
              "      <th>9</th>\n",
              "      <td>Platelets</td>\n",
              "      <td>Platelets in the blood</td>\n",
              "      <td>kiloplatelets/mL</td>\n",
              "    </tr>\n",
              "    <tr>\n",
              "      <th>10</th>\n",
              "      <td>Serum creatinine</td>\n",
              "      <td>Level of creatinine in the blood</td>\n",
              "      <td>mg/dL</td>\n",
              "    </tr>\n",
              "    <tr>\n",
              "      <th>11</th>\n",
              "      <td>Serum sodium</td>\n",
              "      <td>Level of sodium in the blood</td>\n",
              "      <td>mEq/L</td>\n",
              "    </tr>\n",
              "    <tr>\n",
              "      <th>12</th>\n",
              "      <td>Smoking</td>\n",
              "      <td>If the patient smokes</td>\n",
              "      <td>Boolean</td>\n",
              "    </tr>\n",
              "    <tr>\n",
              "      <th>14</th>\n",
              "      <td>(target) death event</td>\n",
              "      <td>If the patient died during the follow-up period</td>\n",
              "      <td>Boolean</td>\n",
              "    </tr>\n",
              "  </tbody>\n",
              "</table>\n",
              "</div>\n",
              "      <button class=\"colab-df-convert\" onclick=\"convertToInteractive('df-7c9226b9-8e8f-494f-9eb3-b09771bfb090')\"\n",
              "              title=\"Convert this dataframe to an interactive table.\"\n",
              "              style=\"display:none;\">\n",
              "        \n",
              "  <svg xmlns=\"http://www.w3.org/2000/svg\" height=\"24px\"viewBox=\"0 0 24 24\"\n",
              "       width=\"24px\">\n",
              "    <path d=\"M0 0h24v24H0V0z\" fill=\"none\"/>\n",
              "    <path d=\"M18.56 5.44l.94 2.06.94-2.06 2.06-.94-2.06-.94-.94-2.06-.94 2.06-2.06.94zm-11 1L8.5 8.5l.94-2.06 2.06-.94-2.06-.94L8.5 2.5l-.94 2.06-2.06.94zm10 10l.94 2.06.94-2.06 2.06-.94-2.06-.94-.94-2.06-.94 2.06-2.06.94z\"/><path d=\"M17.41 7.96l-1.37-1.37c-.4-.4-.92-.59-1.43-.59-.52 0-1.04.2-1.43.59L10.3 9.45l-7.72 7.72c-.78.78-.78 2.05 0 2.83L4 21.41c.39.39.9.59 1.41.59.51 0 1.02-.2 1.41-.59l7.78-7.78 2.81-2.81c.8-.78.8-2.07 0-2.86zM5.41 20L4 18.59l7.72-7.72 1.47 1.35L5.41 20z\"/>\n",
              "  </svg>\n",
              "      </button>\n",
              "      \n",
              "  <style>\n",
              "    .colab-df-container {\n",
              "      display:flex;\n",
              "      flex-wrap:wrap;\n",
              "      gap: 12px;\n",
              "    }\n",
              "\n",
              "    .colab-df-convert {\n",
              "      background-color: #E8F0FE;\n",
              "      border: none;\n",
              "      border-radius: 50%;\n",
              "      cursor: pointer;\n",
              "      display: none;\n",
              "      fill: #1967D2;\n",
              "      height: 32px;\n",
              "      padding: 0 0 0 0;\n",
              "      width: 32px;\n",
              "    }\n",
              "\n",
              "    .colab-df-convert:hover {\n",
              "      background-color: #E2EBFA;\n",
              "      box-shadow: 0px 1px 2px rgba(60, 64, 67, 0.3), 0px 1px 3px 1px rgba(60, 64, 67, 0.15);\n",
              "      fill: #174EA6;\n",
              "    }\n",
              "\n",
              "    [theme=dark] .colab-df-convert {\n",
              "      background-color: #3B4455;\n",
              "      fill: #D2E3FC;\n",
              "    }\n",
              "\n",
              "    [theme=dark] .colab-df-convert:hover {\n",
              "      background-color: #434B5C;\n",
              "      box-shadow: 0px 1px 3px 1px rgba(0, 0, 0, 0.15);\n",
              "      filter: drop-shadow(0px 1px 2px rgba(0, 0, 0, 0.3));\n",
              "      fill: #FFFFFF;\n",
              "    }\n",
              "  </style>\n",
              "\n",
              "      <script>\n",
              "        const buttonEl =\n",
              "          document.querySelector('#df-7c9226b9-8e8f-494f-9eb3-b09771bfb090 button.colab-df-convert');\n",
              "        buttonEl.style.display =\n",
              "          google.colab.kernel.accessAllowed ? 'block' : 'none';\n",
              "\n",
              "        async function convertToInteractive(key) {\n",
              "          const element = document.querySelector('#df-7c9226b9-8e8f-494f-9eb3-b09771bfb090');\n",
              "          const dataTable =\n",
              "            await google.colab.kernel.invokeFunction('convertToInteractive',\n",
              "                                                     [key], {});\n",
              "          if (!dataTable) return;\n",
              "\n",
              "          const docLinkHtml = 'Like what you see? Visit the ' +\n",
              "            '<a target=\"_blank\" href=https://colab.research.google.com/notebooks/data_table.ipynb>data table notebook</a>'\n",
              "            + ' to learn more about interactive tables.';\n",
              "          element.innerHTML = '';\n",
              "          dataTable['output_type'] = 'display_data';\n",
              "          await google.colab.output.renderOutput(dataTable, element);\n",
              "          const docLink = document.createElement('div');\n",
              "          docLink.innerHTML = docLinkHtml;\n",
              "          element.appendChild(docLink);\n",
              "        }\n",
              "      </script>\n",
              "    </div>\n",
              "  </div>\n",
              "  "
            ]
          },
          "metadata": {},
          "execution_count": 14
        }
      ]
    },
    {
      "cell_type": "code",
      "source": [
        "#to rearrange and rename the rows to match the heart_failure_df \n",
        "column_details_df = column_details_df.reindex([0,1,5,6,2,9,10,11,8,12,14])\n",
        "column_details_df.feature = heart_failure_df.columns"
      ],
      "metadata": {
        "id": "_hOqzSjoyvK5"
      },
      "execution_count": 15,
      "outputs": []
    },
    {
      "cell_type": "code",
      "source": [
        "#to set the feature column as index for our convenience \n",
        "column_details_df.set_index(['feature'], inplace =True)"
      ],
      "metadata": {
        "id": "kmGnsHljy1TP"
      },
      "execution_count": 16,
      "outputs": []
    },
    {
      "cell_type": "markdown",
      "source": [
        "  <p style='text-align:justify;'> Let's correct the data in explanation and measurement unit column and another column mentioning the normal value for the attributes. </p"
      ],
      "metadata": {
        "id": "vbDZO0ypzCpK"
      }
    },
    {
      "cell_type": "code",
      "source": [
        "#to change the details in explanation column \n",
        "column_details_df['explanation']['anaemia', 'diabetes', 'ejection_fraction', 'high_blood_pressure', 'platelets', 'sex', 'smoking', 'patient_dead'] = ['True, if the patient has Anaemia',\n",
        "                                                                                                                                                      'True, if the patient has Diabetes', \n",
        "                                                                                                                                                      '% of blood leaving the heart at each contraction', \n",
        "                                                                                                                                                      'True, if the patient has High blood pressure', \n",
        "                                                                                                                                                      'Amount of platelets in the blood', \n",
        "                                                                                                                                                      'Male or Female',\n",
        "                                                                                                                                                      'True, if the patient smokes', \n",
        "                                                                                                                                                      'True, if the patient died during the follow-up period'] \n"
      ],
      "metadata": {
        "id": "MEpxzX_qy-yl"
      },
      "execution_count": 17,
      "outputs": []
    },
    {
      "cell_type": "code",
      "source": [
        "#to change the details in measurement unit column \n",
        "column_details_df.measurement_unit['sex', 'platelets','serum_creatinine','serum_sodium'] = ['Boolean',\n",
        "                                                                                            'kilo-platelets / mcL (microliter)', \n",
        "                                                                                            'mg/dL (milligrams per deciliter)', \n",
        "                                                                                            'mEq/L (milliequivalents per litre)'\n",
        "                                                                                            ] "
      ],
      "metadata": {
        "id": "aTMOOL4ezMmh"
      },
      "execution_count": 18,
      "outputs": []
    },
    {
      "cell_type": "code",
      "source": [
        "#let's add another column to mention normal values of the attributes \n",
        "column_details_df[\"normal_value\"] = ['None', \n",
        "                                     'None', \n",
        "                                     'None',\n",
        "                                     '55% - 70%',\n",
        "                                     'None', \n",
        "                                     '150 - 400 kilo-platelets / mcL', \n",
        "                                     '0.6 - 1.2 mg/dL', \n",
        "                                     '135 - 145 mEq /L', \n",
        "                                     'None', 'None', 'None'\n",
        "                                    ] \n",
        "column_details_df"
      ],
      "metadata": {
        "colab": {
          "base_uri": "https://localhost:8080/",
          "height": 426
        },
        "id": "IfNDvsVszPlx",
        "outputId": "6ac8d6f2-ad95-4a06-bb09-6a71d69184d4"
      },
      "execution_count": 19,
      "outputs": [
        {
          "output_type": "execute_result",
          "data": {
            "text/plain": [
              "                                                           explanation  \\\n",
              "feature                                                                  \n",
              "age                                                 Age of the patient   \n",
              "anaemia                               True, if the patient has Anaemia   \n",
              "diabetes                             True, if the patient has Diabetes   \n",
              "ejection_fraction     % of blood leaving the heart at each contraction   \n",
              "high_blood_pressure       True, if the patient has High blood pressure   \n",
              "platelets                             Amount of platelets in the blood   \n",
              "serum_creatinine                      Level of creatinine in the blood   \n",
              "serum_sodium                              Level of sodium in the blood   \n",
              "sex                                                     Male or Female   \n",
              "smoking                                    True, if the patient smokes   \n",
              "patient_dead         True, if the patient died during the follow-up...   \n",
              "\n",
              "                                       measurement_unit  \\\n",
              "feature                                                   \n",
              "age                                               Years   \n",
              "anaemia                                         Boolean   \n",
              "diabetes                                        Boolean   \n",
              "ejection_fraction                            Percentage   \n",
              "high_blood_pressure                             Boolean   \n",
              "platelets             kilo-platelets / mcL (microliter)   \n",
              "serum_creatinine       mg/dL (milligrams per deciliter)   \n",
              "serum_sodium         mEq/L (milliequivalents per litre)   \n",
              "sex                                             Boolean   \n",
              "smoking                                         Boolean   \n",
              "patient_dead                                    Boolean   \n",
              "\n",
              "                                       normal_value  \n",
              "feature                                              \n",
              "age                                            None  \n",
              "anaemia                                        None  \n",
              "diabetes                                       None  \n",
              "ejection_fraction                         55% - 70%  \n",
              "high_blood_pressure                            None  \n",
              "platelets            150 - 400 kilo-platelets / mcL  \n",
              "serum_creatinine                    0.6 - 1.2 mg/dL  \n",
              "serum_sodium                       135 - 145 mEq /L  \n",
              "sex                                            None  \n",
              "smoking                                        None  \n",
              "patient_dead                                   None  "
            ],
            "text/html": [
              "\n",
              "  <div id=\"df-70f25519-1664-4eea-8782-4c4c62c0dc1a\">\n",
              "    <div class=\"colab-df-container\">\n",
              "      <div>\n",
              "<style scoped>\n",
              "    .dataframe tbody tr th:only-of-type {\n",
              "        vertical-align: middle;\n",
              "    }\n",
              "\n",
              "    .dataframe tbody tr th {\n",
              "        vertical-align: top;\n",
              "    }\n",
              "\n",
              "    .dataframe thead th {\n",
              "        text-align: right;\n",
              "    }\n",
              "</style>\n",
              "<table border=\"1\" class=\"dataframe\">\n",
              "  <thead>\n",
              "    <tr style=\"text-align: right;\">\n",
              "      <th></th>\n",
              "      <th>explanation</th>\n",
              "      <th>measurement_unit</th>\n",
              "      <th>normal_value</th>\n",
              "    </tr>\n",
              "    <tr>\n",
              "      <th>feature</th>\n",
              "      <th></th>\n",
              "      <th></th>\n",
              "      <th></th>\n",
              "    </tr>\n",
              "  </thead>\n",
              "  <tbody>\n",
              "    <tr>\n",
              "      <th>age</th>\n",
              "      <td>Age of the patient</td>\n",
              "      <td>Years</td>\n",
              "      <td>None</td>\n",
              "    </tr>\n",
              "    <tr>\n",
              "      <th>anaemia</th>\n",
              "      <td>True, if the patient has Anaemia</td>\n",
              "      <td>Boolean</td>\n",
              "      <td>None</td>\n",
              "    </tr>\n",
              "    <tr>\n",
              "      <th>diabetes</th>\n",
              "      <td>True, if the patient has Diabetes</td>\n",
              "      <td>Boolean</td>\n",
              "      <td>None</td>\n",
              "    </tr>\n",
              "    <tr>\n",
              "      <th>ejection_fraction</th>\n",
              "      <td>% of blood leaving the heart at each contraction</td>\n",
              "      <td>Percentage</td>\n",
              "      <td>55% - 70%</td>\n",
              "    </tr>\n",
              "    <tr>\n",
              "      <th>high_blood_pressure</th>\n",
              "      <td>True, if the patient has High blood pressure</td>\n",
              "      <td>Boolean</td>\n",
              "      <td>None</td>\n",
              "    </tr>\n",
              "    <tr>\n",
              "      <th>platelets</th>\n",
              "      <td>Amount of platelets in the blood</td>\n",
              "      <td>kilo-platelets / mcL (microliter)</td>\n",
              "      <td>150 - 400 kilo-platelets / mcL</td>\n",
              "    </tr>\n",
              "    <tr>\n",
              "      <th>serum_creatinine</th>\n",
              "      <td>Level of creatinine in the blood</td>\n",
              "      <td>mg/dL (milligrams per deciliter)</td>\n",
              "      <td>0.6 - 1.2 mg/dL</td>\n",
              "    </tr>\n",
              "    <tr>\n",
              "      <th>serum_sodium</th>\n",
              "      <td>Level of sodium in the blood</td>\n",
              "      <td>mEq/L (milliequivalents per litre)</td>\n",
              "      <td>135 - 145 mEq /L</td>\n",
              "    </tr>\n",
              "    <tr>\n",
              "      <th>sex</th>\n",
              "      <td>Male or Female</td>\n",
              "      <td>Boolean</td>\n",
              "      <td>None</td>\n",
              "    </tr>\n",
              "    <tr>\n",
              "      <th>smoking</th>\n",
              "      <td>True, if the patient smokes</td>\n",
              "      <td>Boolean</td>\n",
              "      <td>None</td>\n",
              "    </tr>\n",
              "    <tr>\n",
              "      <th>patient_dead</th>\n",
              "      <td>True, if the patient died during the follow-up...</td>\n",
              "      <td>Boolean</td>\n",
              "      <td>None</td>\n",
              "    </tr>\n",
              "  </tbody>\n",
              "</table>\n",
              "</div>\n",
              "      <button class=\"colab-df-convert\" onclick=\"convertToInteractive('df-70f25519-1664-4eea-8782-4c4c62c0dc1a')\"\n",
              "              title=\"Convert this dataframe to an interactive table.\"\n",
              "              style=\"display:none;\">\n",
              "        \n",
              "  <svg xmlns=\"http://www.w3.org/2000/svg\" height=\"24px\"viewBox=\"0 0 24 24\"\n",
              "       width=\"24px\">\n",
              "    <path d=\"M0 0h24v24H0V0z\" fill=\"none\"/>\n",
              "    <path d=\"M18.56 5.44l.94 2.06.94-2.06 2.06-.94-2.06-.94-.94-2.06-.94 2.06-2.06.94zm-11 1L8.5 8.5l.94-2.06 2.06-.94-2.06-.94L8.5 2.5l-.94 2.06-2.06.94zm10 10l.94 2.06.94-2.06 2.06-.94-2.06-.94-.94-2.06-.94 2.06-2.06.94z\"/><path d=\"M17.41 7.96l-1.37-1.37c-.4-.4-.92-.59-1.43-.59-.52 0-1.04.2-1.43.59L10.3 9.45l-7.72 7.72c-.78.78-.78 2.05 0 2.83L4 21.41c.39.39.9.59 1.41.59.51 0 1.02-.2 1.41-.59l7.78-7.78 2.81-2.81c.8-.78.8-2.07 0-2.86zM5.41 20L4 18.59l7.72-7.72 1.47 1.35L5.41 20z\"/>\n",
              "  </svg>\n",
              "      </button>\n",
              "      \n",
              "  <style>\n",
              "    .colab-df-container {\n",
              "      display:flex;\n",
              "      flex-wrap:wrap;\n",
              "      gap: 12px;\n",
              "    }\n",
              "\n",
              "    .colab-df-convert {\n",
              "      background-color: #E8F0FE;\n",
              "      border: none;\n",
              "      border-radius: 50%;\n",
              "      cursor: pointer;\n",
              "      display: none;\n",
              "      fill: #1967D2;\n",
              "      height: 32px;\n",
              "      padding: 0 0 0 0;\n",
              "      width: 32px;\n",
              "    }\n",
              "\n",
              "    .colab-df-convert:hover {\n",
              "      background-color: #E2EBFA;\n",
              "      box-shadow: 0px 1px 2px rgba(60, 64, 67, 0.3), 0px 1px 3px 1px rgba(60, 64, 67, 0.15);\n",
              "      fill: #174EA6;\n",
              "    }\n",
              "\n",
              "    [theme=dark] .colab-df-convert {\n",
              "      background-color: #3B4455;\n",
              "      fill: #D2E3FC;\n",
              "    }\n",
              "\n",
              "    [theme=dark] .colab-df-convert:hover {\n",
              "      background-color: #434B5C;\n",
              "      box-shadow: 0px 1px 3px 1px rgba(0, 0, 0, 0.15);\n",
              "      filter: drop-shadow(0px 1px 2px rgba(0, 0, 0, 0.3));\n",
              "      fill: #FFFFFF;\n",
              "    }\n",
              "  </style>\n",
              "\n",
              "      <script>\n",
              "        const buttonEl =\n",
              "          document.querySelector('#df-70f25519-1664-4eea-8782-4c4c62c0dc1a button.colab-df-convert');\n",
              "        buttonEl.style.display =\n",
              "          google.colab.kernel.accessAllowed ? 'block' : 'none';\n",
              "\n",
              "        async function convertToInteractive(key) {\n",
              "          const element = document.querySelector('#df-70f25519-1664-4eea-8782-4c4c62c0dc1a');\n",
              "          const dataTable =\n",
              "            await google.colab.kernel.invokeFunction('convertToInteractive',\n",
              "                                                     [key], {});\n",
              "          if (!dataTable) return;\n",
              "\n",
              "          const docLinkHtml = 'Like what you see? Visit the ' +\n",
              "            '<a target=\"_blank\" href=https://colab.research.google.com/notebooks/data_table.ipynb>data table notebook</a>'\n",
              "            + ' to learn more about interactive tables.';\n",
              "          element.innerHTML = '';\n",
              "          dataTable['output_type'] = 'display_data';\n",
              "          await google.colab.output.renderOutput(dataTable, element);\n",
              "          const docLink = document.createElement('div');\n",
              "          docLink.innerHTML = docLinkHtml;\n",
              "          element.appendChild(docLink);\n",
              "        }\n",
              "      </script>\n",
              "    </div>\n",
              "  </div>\n",
              "  "
            ]
          },
          "metadata": {},
          "execution_count": 19
        }
      ]
    },
    {
      "cell_type": "markdown",
      "source": [
        "#Datasets - Cleaned & Prepared\n",
        "Now, our both the datasets heart_failure_df and column_details_df are ready for our analysis. Let's check some basic information regarding our cleaned datasets before proceeding for visualisation methods."
      ],
      "metadata": {
        "id": "DFAKW2N8zmRA"
      }
    },
    {
      "cell_type": "code",
      "source": [
        "column_details_df.info()"
      ],
      "metadata": {
        "colab": {
          "base_uri": "https://localhost:8080/"
        },
        "id": "NScE9TV_zSwZ",
        "outputId": "6feb0264-dfbc-47e6-e372-bb534b0a24e9"
      },
      "execution_count": 20,
      "outputs": [
        {
          "output_type": "stream",
          "name": "stdout",
          "text": [
            "<class 'pandas.core.frame.DataFrame'>\n",
            "Index: 11 entries, age to patient_dead\n",
            "Data columns (total 3 columns):\n",
            " #   Column            Non-Null Count  Dtype \n",
            "---  ------            --------------  ----- \n",
            " 0   explanation       11 non-null     object\n",
            " 1   measurement_unit  11 non-null     object\n",
            " 2   normal_value      11 non-null     object\n",
            "dtypes: object(3)\n",
            "memory usage: 652.0+ bytes\n"
          ]
        }
      ]
    },
    {
      "cell_type": "code",
      "source": [
        "heart_failure_df.info()"
      ],
      "metadata": {
        "colab": {
          "base_uri": "https://localhost:8080/"
        },
        "id": "t3yTulNwzqEP",
        "outputId": "6b65a0ae-7840-4b01-ea6f-16f880a0f6af"
      },
      "execution_count": 21,
      "outputs": [
        {
          "output_type": "stream",
          "name": "stdout",
          "text": [
            "<class 'pandas.core.frame.DataFrame'>\n",
            "RangeIndex: 299 entries, 0 to 298\n",
            "Data columns (total 11 columns):\n",
            " #   Column               Non-Null Count  Dtype  \n",
            "---  ------               --------------  -----  \n",
            " 0   age                  299 non-null    int64  \n",
            " 1   anaemia              299 non-null    bool   \n",
            " 2   diabetes             299 non-null    bool   \n",
            " 3   ejection_fraction    299 non-null    int64  \n",
            " 4   high_blood_pressure  299 non-null    bool   \n",
            " 5   platelets            299 non-null    int64  \n",
            " 6   serum_creatinine     299 non-null    float64\n",
            " 7   serum_sodium         299 non-null    int64  \n",
            " 8   sex                  299 non-null    object \n",
            " 9   smoking              299 non-null    bool   \n",
            " 10  patient_dead         299 non-null    bool   \n",
            "dtypes: bool(5), float64(1), int64(4), object(1)\n",
            "memory usage: 15.6+ KB\n"
          ]
        }
      ]
    },
    {
      "cell_type": "code",
      "source": [
        "heart_failure_df.describe()"
      ],
      "metadata": {
        "colab": {
          "base_uri": "https://localhost:8080/",
          "height": 300
        },
        "id": "T0zcGp2MzsEk",
        "outputId": "23e62872-6477-4b26-ce7e-081734b43d8e"
      },
      "execution_count": 22,
      "outputs": [
        {
          "output_type": "execute_result",
          "data": {
            "text/plain": [
              "              age  ejection_fraction   platelets  serum_creatinine  \\\n",
              "count  299.000000         299.000000  299.000000         299.00000   \n",
              "mean    60.829431          38.083612  263.327759           1.39388   \n",
              "std     11.894997          11.834841   97.805105           1.03451   \n",
              "min     40.000000          14.000000   25.000000           0.50000   \n",
              "25%     51.000000          30.000000  212.500000           0.90000   \n",
              "50%     60.000000          38.000000  262.000000           1.10000   \n",
              "75%     70.000000          45.000000  303.500000           1.40000   \n",
              "max     95.000000          80.000000  850.000000           9.40000   \n",
              "\n",
              "       serum_sodium  \n",
              "count    299.000000  \n",
              "mean     136.625418  \n",
              "std        4.412477  \n",
              "min      113.000000  \n",
              "25%      134.000000  \n",
              "50%      137.000000  \n",
              "75%      140.000000  \n",
              "max      148.000000  "
            ],
            "text/html": [
              "\n",
              "  <div id=\"df-5e022c80-3a5f-4f1f-b0fb-cd19b47632f3\">\n",
              "    <div class=\"colab-df-container\">\n",
              "      <div>\n",
              "<style scoped>\n",
              "    .dataframe tbody tr th:only-of-type {\n",
              "        vertical-align: middle;\n",
              "    }\n",
              "\n",
              "    .dataframe tbody tr th {\n",
              "        vertical-align: top;\n",
              "    }\n",
              "\n",
              "    .dataframe thead th {\n",
              "        text-align: right;\n",
              "    }\n",
              "</style>\n",
              "<table border=\"1\" class=\"dataframe\">\n",
              "  <thead>\n",
              "    <tr style=\"text-align: right;\">\n",
              "      <th></th>\n",
              "      <th>age</th>\n",
              "      <th>ejection_fraction</th>\n",
              "      <th>platelets</th>\n",
              "      <th>serum_creatinine</th>\n",
              "      <th>serum_sodium</th>\n",
              "    </tr>\n",
              "  </thead>\n",
              "  <tbody>\n",
              "    <tr>\n",
              "      <th>count</th>\n",
              "      <td>299.000000</td>\n",
              "      <td>299.000000</td>\n",
              "      <td>299.000000</td>\n",
              "      <td>299.00000</td>\n",
              "      <td>299.000000</td>\n",
              "    </tr>\n",
              "    <tr>\n",
              "      <th>mean</th>\n",
              "      <td>60.829431</td>\n",
              "      <td>38.083612</td>\n",
              "      <td>263.327759</td>\n",
              "      <td>1.39388</td>\n",
              "      <td>136.625418</td>\n",
              "    </tr>\n",
              "    <tr>\n",
              "      <th>std</th>\n",
              "      <td>11.894997</td>\n",
              "      <td>11.834841</td>\n",
              "      <td>97.805105</td>\n",
              "      <td>1.03451</td>\n",
              "      <td>4.412477</td>\n",
              "    </tr>\n",
              "    <tr>\n",
              "      <th>min</th>\n",
              "      <td>40.000000</td>\n",
              "      <td>14.000000</td>\n",
              "      <td>25.000000</td>\n",
              "      <td>0.50000</td>\n",
              "      <td>113.000000</td>\n",
              "    </tr>\n",
              "    <tr>\n",
              "      <th>25%</th>\n",
              "      <td>51.000000</td>\n",
              "      <td>30.000000</td>\n",
              "      <td>212.500000</td>\n",
              "      <td>0.90000</td>\n",
              "      <td>134.000000</td>\n",
              "    </tr>\n",
              "    <tr>\n",
              "      <th>50%</th>\n",
              "      <td>60.000000</td>\n",
              "      <td>38.000000</td>\n",
              "      <td>262.000000</td>\n",
              "      <td>1.10000</td>\n",
              "      <td>137.000000</td>\n",
              "    </tr>\n",
              "    <tr>\n",
              "      <th>75%</th>\n",
              "      <td>70.000000</td>\n",
              "      <td>45.000000</td>\n",
              "      <td>303.500000</td>\n",
              "      <td>1.40000</td>\n",
              "      <td>140.000000</td>\n",
              "    </tr>\n",
              "    <tr>\n",
              "      <th>max</th>\n",
              "      <td>95.000000</td>\n",
              "      <td>80.000000</td>\n",
              "      <td>850.000000</td>\n",
              "      <td>9.40000</td>\n",
              "      <td>148.000000</td>\n",
              "    </tr>\n",
              "  </tbody>\n",
              "</table>\n",
              "</div>\n",
              "      <button class=\"colab-df-convert\" onclick=\"convertToInteractive('df-5e022c80-3a5f-4f1f-b0fb-cd19b47632f3')\"\n",
              "              title=\"Convert this dataframe to an interactive table.\"\n",
              "              style=\"display:none;\">\n",
              "        \n",
              "  <svg xmlns=\"http://www.w3.org/2000/svg\" height=\"24px\"viewBox=\"0 0 24 24\"\n",
              "       width=\"24px\">\n",
              "    <path d=\"M0 0h24v24H0V0z\" fill=\"none\"/>\n",
              "    <path d=\"M18.56 5.44l.94 2.06.94-2.06 2.06-.94-2.06-.94-.94-2.06-.94 2.06-2.06.94zm-11 1L8.5 8.5l.94-2.06 2.06-.94-2.06-.94L8.5 2.5l-.94 2.06-2.06.94zm10 10l.94 2.06.94-2.06 2.06-.94-2.06-.94-.94-2.06-.94 2.06-2.06.94z\"/><path d=\"M17.41 7.96l-1.37-1.37c-.4-.4-.92-.59-1.43-.59-.52 0-1.04.2-1.43.59L10.3 9.45l-7.72 7.72c-.78.78-.78 2.05 0 2.83L4 21.41c.39.39.9.59 1.41.59.51 0 1.02-.2 1.41-.59l7.78-7.78 2.81-2.81c.8-.78.8-2.07 0-2.86zM5.41 20L4 18.59l7.72-7.72 1.47 1.35L5.41 20z\"/>\n",
              "  </svg>\n",
              "      </button>\n",
              "      \n",
              "  <style>\n",
              "    .colab-df-container {\n",
              "      display:flex;\n",
              "      flex-wrap:wrap;\n",
              "      gap: 12px;\n",
              "    }\n",
              "\n",
              "    .colab-df-convert {\n",
              "      background-color: #E8F0FE;\n",
              "      border: none;\n",
              "      border-radius: 50%;\n",
              "      cursor: pointer;\n",
              "      display: none;\n",
              "      fill: #1967D2;\n",
              "      height: 32px;\n",
              "      padding: 0 0 0 0;\n",
              "      width: 32px;\n",
              "    }\n",
              "\n",
              "    .colab-df-convert:hover {\n",
              "      background-color: #E2EBFA;\n",
              "      box-shadow: 0px 1px 2px rgba(60, 64, 67, 0.3), 0px 1px 3px 1px rgba(60, 64, 67, 0.15);\n",
              "      fill: #174EA6;\n",
              "    }\n",
              "\n",
              "    [theme=dark] .colab-df-convert {\n",
              "      background-color: #3B4455;\n",
              "      fill: #D2E3FC;\n",
              "    }\n",
              "\n",
              "    [theme=dark] .colab-df-convert:hover {\n",
              "      background-color: #434B5C;\n",
              "      box-shadow: 0px 1px 3px 1px rgba(0, 0, 0, 0.15);\n",
              "      filter: drop-shadow(0px 1px 2px rgba(0, 0, 0, 0.3));\n",
              "      fill: #FFFFFF;\n",
              "    }\n",
              "  </style>\n",
              "\n",
              "      <script>\n",
              "        const buttonEl =\n",
              "          document.querySelector('#df-5e022c80-3a5f-4f1f-b0fb-cd19b47632f3 button.colab-df-convert');\n",
              "        buttonEl.style.display =\n",
              "          google.colab.kernel.accessAllowed ? 'block' : 'none';\n",
              "\n",
              "        async function convertToInteractive(key) {\n",
              "          const element = document.querySelector('#df-5e022c80-3a5f-4f1f-b0fb-cd19b47632f3');\n",
              "          const dataTable =\n",
              "            await google.colab.kernel.invokeFunction('convertToInteractive',\n",
              "                                                     [key], {});\n",
              "          if (!dataTable) return;\n",
              "\n",
              "          const docLinkHtml = 'Like what you see? Visit the ' +\n",
              "            '<a target=\"_blank\" href=https://colab.research.google.com/notebooks/data_table.ipynb>data table notebook</a>'\n",
              "            + ' to learn more about interactive tables.';\n",
              "          element.innerHTML = '';\n",
              "          dataTable['output_type'] = 'display_data';\n",
              "          await google.colab.output.renderOutput(dataTable, element);\n",
              "          const docLink = document.createElement('div');\n",
              "          docLink.innerHTML = docLinkHtml;\n",
              "          element.appendChild(docLink);\n",
              "        }\n",
              "      </script>\n",
              "    </div>\n",
              "  </div>\n",
              "  "
            ]
          },
          "metadata": {},
          "execution_count": 22
        }
      ]
    },
    {
      "cell_type": "markdown",
      "source": [
        "  <p style='text-align:justify;'> From the above result, we can find the average age of patients, maximum and minimum value of clinical records stored in our data frame.</p>"
      ],
      "metadata": {
        "id": "MdgRAQiaz0fm"
      }
    },
    {
      "cell_type": "markdown",
      "source": [
        "#### Number of Male and Female patients "
      ],
      "metadata": {
        "id": "4c0YtgRSz8C-"
      }
    },
    {
      "cell_type": "code",
      "source": [
        "heart_failure_df.sex.value_counts()"
      ],
      "metadata": {
        "colab": {
          "base_uri": "https://localhost:8080/"
        },
        "id": "15Lxrl1Szv05",
        "outputId": "4d50a8dd-a789-400b-897c-5cd188b59142"
      },
      "execution_count": 23,
      "outputs": [
        {
          "output_type": "execute_result",
          "data": {
            "text/plain": [
              "Male      194\n",
              "Female    105\n",
              "Name: sex, dtype: int64"
            ]
          },
          "metadata": {},
          "execution_count": 23
        }
      ]
    },
    {
      "cell_type": "markdown",
      "source": [
        "#### Number of Patients with Anaemia "
      ],
      "metadata": {
        "id": "zXvJg2fK0B9K"
      }
    },
    {
      "cell_type": "code",
      "source": [
        "heart_failure_df.anaemia.value_counts()"
      ],
      "metadata": {
        "colab": {
          "base_uri": "https://localhost:8080/"
        },
        "id": "4bNRhuPJ0Ao6",
        "outputId": "b94678cf-1ea2-4f8a-ed93-8b4ef79c8cbd"
      },
      "execution_count": 24,
      "outputs": [
        {
          "output_type": "execute_result",
          "data": {
            "text/plain": [
              "False    170\n",
              "True     129\n",
              "Name: anaemia, dtype: int64"
            ]
          },
          "metadata": {},
          "execution_count": 24
        }
      ]
    },
    {
      "cell_type": "markdown",
      "source": [
        "#### Number of Patients with Diabetes"
      ],
      "metadata": {
        "id": "ER5zf5ta0KGN"
      }
    },
    {
      "cell_type": "code",
      "source": [
        "heart_failure_df.diabetes.value_counts()"
      ],
      "metadata": {
        "colab": {
          "base_uri": "https://localhost:8080/"
        },
        "id": "OIX2xiBP0GqS",
        "outputId": "4877835d-206a-4cf1-bc1e-a321e8398b42"
      },
      "execution_count": 25,
      "outputs": [
        {
          "output_type": "execute_result",
          "data": {
            "text/plain": [
              "False    174\n",
              "True     125\n",
              "Name: diabetes, dtype: int64"
            ]
          },
          "metadata": {},
          "execution_count": 25
        }
      ]
    },
    {
      "cell_type": "markdown",
      "source": [
        "#### Number of Patients with High Blood Pressure "
      ],
      "metadata": {
        "id": "mjnAIhQh0RhF"
      }
    },
    {
      "cell_type": "code",
      "source": [
        "heart_failure_df.high_blood_pressure.value_counts()"
      ],
      "metadata": {
        "colab": {
          "base_uri": "https://localhost:8080/"
        },
        "id": "hPx_Edet0NpK",
        "outputId": "5fb6b916-1042-4793-d17b-cf436da28e82"
      },
      "execution_count": 26,
      "outputs": [
        {
          "output_type": "execute_result",
          "data": {
            "text/plain": [
              "False    194\n",
              "True     105\n",
              "Name: high_blood_pressure, dtype: int64"
            ]
          },
          "metadata": {},
          "execution_count": 26
        }
      ]
    },
    {
      "cell_type": "markdown",
      "source": [
        "#### Number of Patients with Smoking Habit "
      ],
      "metadata": {
        "id": "GExzlxbU0XON"
      }
    },
    {
      "cell_type": "code",
      "source": [
        "heart_failure_df.smoking.value_counts()"
      ],
      "metadata": {
        "colab": {
          "base_uri": "https://localhost:8080/"
        },
        "id": "rjkK0Nwo0WIM",
        "outputId": "d518681e-dc46-4d2a-d9bf-e56de10e7dac"
      },
      "execution_count": 27,
      "outputs": [
        {
          "output_type": "execute_result",
          "data": {
            "text/plain": [
              "False    203\n",
              "True      96\n",
              "Name: smoking, dtype: int64"
            ]
          },
          "metadata": {},
          "execution_count": 27
        }
      ]
    },
    {
      "cell_type": "markdown",
      "source": [
        "#### Number of Patients died during follow-up period "
      ],
      "metadata": {
        "id": "_fibugoO0hxy"
      }
    },
    {
      "cell_type": "code",
      "source": [
        "heart_failure_df.groupby(['patient_dead', 'sex']).size().reset_index().pivot(columns= 'patient_dead',index = 'sex', values=0) "
      ],
      "metadata": {
        "colab": {
          "base_uri": "https://localhost:8080/",
          "height": 143
        },
        "id": "cpk07MIW0dhg",
        "outputId": "70ce499e-99d1-4c5c-9ff8-e6c925aea12c"
      },
      "execution_count": 28,
      "outputs": [
        {
          "output_type": "execute_result",
          "data": {
            "text/plain": [
              "patient_dead  False  True\n",
              "sex                      \n",
              "Female           71    34\n",
              "Male            132    62"
            ],
            "text/html": [
              "\n",
              "  <div id=\"df-71b7cf54-d6b0-4eb8-a12e-b22aaaa29e0d\">\n",
              "    <div class=\"colab-df-container\">\n",
              "      <div>\n",
              "<style scoped>\n",
              "    .dataframe tbody tr th:only-of-type {\n",
              "        vertical-align: middle;\n",
              "    }\n",
              "\n",
              "    .dataframe tbody tr th {\n",
              "        vertical-align: top;\n",
              "    }\n",
              "\n",
              "    .dataframe thead th {\n",
              "        text-align: right;\n",
              "    }\n",
              "</style>\n",
              "<table border=\"1\" class=\"dataframe\">\n",
              "  <thead>\n",
              "    <tr style=\"text-align: right;\">\n",
              "      <th>patient_dead</th>\n",
              "      <th>False</th>\n",
              "      <th>True</th>\n",
              "    </tr>\n",
              "    <tr>\n",
              "      <th>sex</th>\n",
              "      <th></th>\n",
              "      <th></th>\n",
              "    </tr>\n",
              "  </thead>\n",
              "  <tbody>\n",
              "    <tr>\n",
              "      <th>Female</th>\n",
              "      <td>71</td>\n",
              "      <td>34</td>\n",
              "    </tr>\n",
              "    <tr>\n",
              "      <th>Male</th>\n",
              "      <td>132</td>\n",
              "      <td>62</td>\n",
              "    </tr>\n",
              "  </tbody>\n",
              "</table>\n",
              "</div>\n",
              "      <button class=\"colab-df-convert\" onclick=\"convertToInteractive('df-71b7cf54-d6b0-4eb8-a12e-b22aaaa29e0d')\"\n",
              "              title=\"Convert this dataframe to an interactive table.\"\n",
              "              style=\"display:none;\">\n",
              "        \n",
              "  <svg xmlns=\"http://www.w3.org/2000/svg\" height=\"24px\"viewBox=\"0 0 24 24\"\n",
              "       width=\"24px\">\n",
              "    <path d=\"M0 0h24v24H0V0z\" fill=\"none\"/>\n",
              "    <path d=\"M18.56 5.44l.94 2.06.94-2.06 2.06-.94-2.06-.94-.94-2.06-.94 2.06-2.06.94zm-11 1L8.5 8.5l.94-2.06 2.06-.94-2.06-.94L8.5 2.5l-.94 2.06-2.06.94zm10 10l.94 2.06.94-2.06 2.06-.94-2.06-.94-.94-2.06-.94 2.06-2.06.94z\"/><path d=\"M17.41 7.96l-1.37-1.37c-.4-.4-.92-.59-1.43-.59-.52 0-1.04.2-1.43.59L10.3 9.45l-7.72 7.72c-.78.78-.78 2.05 0 2.83L4 21.41c.39.39.9.59 1.41.59.51 0 1.02-.2 1.41-.59l7.78-7.78 2.81-2.81c.8-.78.8-2.07 0-2.86zM5.41 20L4 18.59l7.72-7.72 1.47 1.35L5.41 20z\"/>\n",
              "  </svg>\n",
              "      </button>\n",
              "      \n",
              "  <style>\n",
              "    .colab-df-container {\n",
              "      display:flex;\n",
              "      flex-wrap:wrap;\n",
              "      gap: 12px;\n",
              "    }\n",
              "\n",
              "    .colab-df-convert {\n",
              "      background-color: #E8F0FE;\n",
              "      border: none;\n",
              "      border-radius: 50%;\n",
              "      cursor: pointer;\n",
              "      display: none;\n",
              "      fill: #1967D2;\n",
              "      height: 32px;\n",
              "      padding: 0 0 0 0;\n",
              "      width: 32px;\n",
              "    }\n",
              "\n",
              "    .colab-df-convert:hover {\n",
              "      background-color: #E2EBFA;\n",
              "      box-shadow: 0px 1px 2px rgba(60, 64, 67, 0.3), 0px 1px 3px 1px rgba(60, 64, 67, 0.15);\n",
              "      fill: #174EA6;\n",
              "    }\n",
              "\n",
              "    [theme=dark] .colab-df-convert {\n",
              "      background-color: #3B4455;\n",
              "      fill: #D2E3FC;\n",
              "    }\n",
              "\n",
              "    [theme=dark] .colab-df-convert:hover {\n",
              "      background-color: #434B5C;\n",
              "      box-shadow: 0px 1px 3px 1px rgba(0, 0, 0, 0.15);\n",
              "      filter: drop-shadow(0px 1px 2px rgba(0, 0, 0, 0.3));\n",
              "      fill: #FFFFFF;\n",
              "    }\n",
              "  </style>\n",
              "\n",
              "      <script>\n",
              "        const buttonEl =\n",
              "          document.querySelector('#df-71b7cf54-d6b0-4eb8-a12e-b22aaaa29e0d button.colab-df-convert');\n",
              "        buttonEl.style.display =\n",
              "          google.colab.kernel.accessAllowed ? 'block' : 'none';\n",
              "\n",
              "        async function convertToInteractive(key) {\n",
              "          const element = document.querySelector('#df-71b7cf54-d6b0-4eb8-a12e-b22aaaa29e0d');\n",
              "          const dataTable =\n",
              "            await google.colab.kernel.invokeFunction('convertToInteractive',\n",
              "                                                     [key], {});\n",
              "          if (!dataTable) return;\n",
              "\n",
              "          const docLinkHtml = 'Like what you see? Visit the ' +\n",
              "            '<a target=\"_blank\" href=https://colab.research.google.com/notebooks/data_table.ipynb>data table notebook</a>'\n",
              "            + ' to learn more about interactive tables.';\n",
              "          element.innerHTML = '';\n",
              "          dataTable['output_type'] = 'display_data';\n",
              "          await google.colab.output.renderOutput(dataTable, element);\n",
              "          const docLink = document.createElement('div');\n",
              "          docLink.innerHTML = docLinkHtml;\n",
              "          element.appendChild(docLink);\n",
              "        }\n",
              "      </script>\n",
              "    </div>\n",
              "  </div>\n",
              "  "
            ]
          },
          "metadata": {},
          "execution_count": 28
        }
      ]
    },
    {
      "cell_type": "markdown",
      "source": [
        "#### Number of Patients with Abnormal Ejection Fraction "
      ],
      "metadata": {
        "id": "m4dtfd_10swU"
      }
    },
    {
      "cell_type": "code",
      "source": [
        "#to find the normal value of Ejection Fraction \n",
        "column_details_df.normal_value['ejection_fraction']"
      ],
      "metadata": {
        "colab": {
          "base_uri": "https://localhost:8080/",
          "height": 36
        },
        "id": "YcoYO54w0mAd",
        "outputId": "9a7b228f-6458-42b6-d3ec-05825d076cd1"
      },
      "execution_count": 29,
      "outputs": [
        {
          "output_type": "execute_result",
          "data": {
            "text/plain": [
              "'55% - 70%'"
            ],
            "application/vnd.google.colaboratory.intrinsic+json": {
              "type": "string"
            }
          },
          "metadata": {},
          "execution_count": 29
        }
      ]
    },
    {
      "cell_type": "code",
      "source": [
        "abn_ef = heart_failure_df[(heart_failure_df.ejection_fraction < 55) | (heart_failure_df.ejection_fraction >70)]\n",
        "abn_ef"
      ],
      "metadata": {
        "colab": {
          "base_uri": "https://localhost:8080/",
          "height": 468
        },
        "id": "ck8A6SX_0vH4",
        "outputId": "916ae103-a19c-4dc1-89c7-8c4ac5d58e80"
      },
      "execution_count": 30,
      "outputs": [
        {
          "output_type": "execute_result",
          "data": {
            "text/plain": [
              "     age  anaemia  diabetes  ejection_fraction  high_blood_pressure  \\\n",
              "0     75    False     False                 20                 True   \n",
              "1     55    False     False                 38                False   \n",
              "2     65    False     False                 20                False   \n",
              "3     50     True     False                 20                False   \n",
              "4     65     True      True                 20                False   \n",
              "..   ...      ...       ...                ...                  ...   \n",
              "293   63     True      True                 35                False   \n",
              "294   62    False      True                 38                 True   \n",
              "295   55    False     False                 38                False   \n",
              "297   45    False     False                 38                False   \n",
              "298   50    False     False                 45                False   \n",
              "\n",
              "     platelets  serum_creatinine  serum_sodium     sex  smoking  patient_dead  \n",
              "0          265               1.9           130    Male    False          True  \n",
              "1          263               1.1           136    Male    False          True  \n",
              "2          162               1.3           129    Male     True          True  \n",
              "3          210               1.9           137    Male    False          True  \n",
              "4          327               2.7           116  Female    False          True  \n",
              "..         ...               ...           ...     ...      ...           ...  \n",
              "293        179               0.9           136    Male     True         False  \n",
              "294        155               1.1           143    Male     True         False  \n",
              "295        270               1.2           139  Female    False         False  \n",
              "297        140               1.4           140    Male     True         False  \n",
              "298        395               1.6           136    Male     True         False  \n",
              "\n",
              "[261 rows x 11 columns]"
            ],
            "text/html": [
              "\n",
              "  <div id=\"df-b9fd279f-d2ed-465e-8ad7-6c40f129321c\">\n",
              "    <div class=\"colab-df-container\">\n",
              "      <div>\n",
              "<style scoped>\n",
              "    .dataframe tbody tr th:only-of-type {\n",
              "        vertical-align: middle;\n",
              "    }\n",
              "\n",
              "    .dataframe tbody tr th {\n",
              "        vertical-align: top;\n",
              "    }\n",
              "\n",
              "    .dataframe thead th {\n",
              "        text-align: right;\n",
              "    }\n",
              "</style>\n",
              "<table border=\"1\" class=\"dataframe\">\n",
              "  <thead>\n",
              "    <tr style=\"text-align: right;\">\n",
              "      <th></th>\n",
              "      <th>age</th>\n",
              "      <th>anaemia</th>\n",
              "      <th>diabetes</th>\n",
              "      <th>ejection_fraction</th>\n",
              "      <th>high_blood_pressure</th>\n",
              "      <th>platelets</th>\n",
              "      <th>serum_creatinine</th>\n",
              "      <th>serum_sodium</th>\n",
              "      <th>sex</th>\n",
              "      <th>smoking</th>\n",
              "      <th>patient_dead</th>\n",
              "    </tr>\n",
              "  </thead>\n",
              "  <tbody>\n",
              "    <tr>\n",
              "      <th>0</th>\n",
              "      <td>75</td>\n",
              "      <td>False</td>\n",
              "      <td>False</td>\n",
              "      <td>20</td>\n",
              "      <td>True</td>\n",
              "      <td>265</td>\n",
              "      <td>1.9</td>\n",
              "      <td>130</td>\n",
              "      <td>Male</td>\n",
              "      <td>False</td>\n",
              "      <td>True</td>\n",
              "    </tr>\n",
              "    <tr>\n",
              "      <th>1</th>\n",
              "      <td>55</td>\n",
              "      <td>False</td>\n",
              "      <td>False</td>\n",
              "      <td>38</td>\n",
              "      <td>False</td>\n",
              "      <td>263</td>\n",
              "      <td>1.1</td>\n",
              "      <td>136</td>\n",
              "      <td>Male</td>\n",
              "      <td>False</td>\n",
              "      <td>True</td>\n",
              "    </tr>\n",
              "    <tr>\n",
              "      <th>2</th>\n",
              "      <td>65</td>\n",
              "      <td>False</td>\n",
              "      <td>False</td>\n",
              "      <td>20</td>\n",
              "      <td>False</td>\n",
              "      <td>162</td>\n",
              "      <td>1.3</td>\n",
              "      <td>129</td>\n",
              "      <td>Male</td>\n",
              "      <td>True</td>\n",
              "      <td>True</td>\n",
              "    </tr>\n",
              "    <tr>\n",
              "      <th>3</th>\n",
              "      <td>50</td>\n",
              "      <td>True</td>\n",
              "      <td>False</td>\n",
              "      <td>20</td>\n",
              "      <td>False</td>\n",
              "      <td>210</td>\n",
              "      <td>1.9</td>\n",
              "      <td>137</td>\n",
              "      <td>Male</td>\n",
              "      <td>False</td>\n",
              "      <td>True</td>\n",
              "    </tr>\n",
              "    <tr>\n",
              "      <th>4</th>\n",
              "      <td>65</td>\n",
              "      <td>True</td>\n",
              "      <td>True</td>\n",
              "      <td>20</td>\n",
              "      <td>False</td>\n",
              "      <td>327</td>\n",
              "      <td>2.7</td>\n",
              "      <td>116</td>\n",
              "      <td>Female</td>\n",
              "      <td>False</td>\n",
              "      <td>True</td>\n",
              "    </tr>\n",
              "    <tr>\n",
              "      <th>...</th>\n",
              "      <td>...</td>\n",
              "      <td>...</td>\n",
              "      <td>...</td>\n",
              "      <td>...</td>\n",
              "      <td>...</td>\n",
              "      <td>...</td>\n",
              "      <td>...</td>\n",
              "      <td>...</td>\n",
              "      <td>...</td>\n",
              "      <td>...</td>\n",
              "      <td>...</td>\n",
              "    </tr>\n",
              "    <tr>\n",
              "      <th>293</th>\n",
              "      <td>63</td>\n",
              "      <td>True</td>\n",
              "      <td>True</td>\n",
              "      <td>35</td>\n",
              "      <td>False</td>\n",
              "      <td>179</td>\n",
              "      <td>0.9</td>\n",
              "      <td>136</td>\n",
              "      <td>Male</td>\n",
              "      <td>True</td>\n",
              "      <td>False</td>\n",
              "    </tr>\n",
              "    <tr>\n",
              "      <th>294</th>\n",
              "      <td>62</td>\n",
              "      <td>False</td>\n",
              "      <td>True</td>\n",
              "      <td>38</td>\n",
              "      <td>True</td>\n",
              "      <td>155</td>\n",
              "      <td>1.1</td>\n",
              "      <td>143</td>\n",
              "      <td>Male</td>\n",
              "      <td>True</td>\n",
              "      <td>False</td>\n",
              "    </tr>\n",
              "    <tr>\n",
              "      <th>295</th>\n",
              "      <td>55</td>\n",
              "      <td>False</td>\n",
              "      <td>False</td>\n",
              "      <td>38</td>\n",
              "      <td>False</td>\n",
              "      <td>270</td>\n",
              "      <td>1.2</td>\n",
              "      <td>139</td>\n",
              "      <td>Female</td>\n",
              "      <td>False</td>\n",
              "      <td>False</td>\n",
              "    </tr>\n",
              "    <tr>\n",
              "      <th>297</th>\n",
              "      <td>45</td>\n",
              "      <td>False</td>\n",
              "      <td>False</td>\n",
              "      <td>38</td>\n",
              "      <td>False</td>\n",
              "      <td>140</td>\n",
              "      <td>1.4</td>\n",
              "      <td>140</td>\n",
              "      <td>Male</td>\n",
              "      <td>True</td>\n",
              "      <td>False</td>\n",
              "    </tr>\n",
              "    <tr>\n",
              "      <th>298</th>\n",
              "      <td>50</td>\n",
              "      <td>False</td>\n",
              "      <td>False</td>\n",
              "      <td>45</td>\n",
              "      <td>False</td>\n",
              "      <td>395</td>\n",
              "      <td>1.6</td>\n",
              "      <td>136</td>\n",
              "      <td>Male</td>\n",
              "      <td>True</td>\n",
              "      <td>False</td>\n",
              "    </tr>\n",
              "  </tbody>\n",
              "</table>\n",
              "<p>261 rows × 11 columns</p>\n",
              "</div>\n",
              "      <button class=\"colab-df-convert\" onclick=\"convertToInteractive('df-b9fd279f-d2ed-465e-8ad7-6c40f129321c')\"\n",
              "              title=\"Convert this dataframe to an interactive table.\"\n",
              "              style=\"display:none;\">\n",
              "        \n",
              "  <svg xmlns=\"http://www.w3.org/2000/svg\" height=\"24px\"viewBox=\"0 0 24 24\"\n",
              "       width=\"24px\">\n",
              "    <path d=\"M0 0h24v24H0V0z\" fill=\"none\"/>\n",
              "    <path d=\"M18.56 5.44l.94 2.06.94-2.06 2.06-.94-2.06-.94-.94-2.06-.94 2.06-2.06.94zm-11 1L8.5 8.5l.94-2.06 2.06-.94-2.06-.94L8.5 2.5l-.94 2.06-2.06.94zm10 10l.94 2.06.94-2.06 2.06-.94-2.06-.94-.94-2.06-.94 2.06-2.06.94z\"/><path d=\"M17.41 7.96l-1.37-1.37c-.4-.4-.92-.59-1.43-.59-.52 0-1.04.2-1.43.59L10.3 9.45l-7.72 7.72c-.78.78-.78 2.05 0 2.83L4 21.41c.39.39.9.59 1.41.59.51 0 1.02-.2 1.41-.59l7.78-7.78 2.81-2.81c.8-.78.8-2.07 0-2.86zM5.41 20L4 18.59l7.72-7.72 1.47 1.35L5.41 20z\"/>\n",
              "  </svg>\n",
              "      </button>\n",
              "      \n",
              "  <style>\n",
              "    .colab-df-container {\n",
              "      display:flex;\n",
              "      flex-wrap:wrap;\n",
              "      gap: 12px;\n",
              "    }\n",
              "\n",
              "    .colab-df-convert {\n",
              "      background-color: #E8F0FE;\n",
              "      border: none;\n",
              "      border-radius: 50%;\n",
              "      cursor: pointer;\n",
              "      display: none;\n",
              "      fill: #1967D2;\n",
              "      height: 32px;\n",
              "      padding: 0 0 0 0;\n",
              "      width: 32px;\n",
              "    }\n",
              "\n",
              "    .colab-df-convert:hover {\n",
              "      background-color: #E2EBFA;\n",
              "      box-shadow: 0px 1px 2px rgba(60, 64, 67, 0.3), 0px 1px 3px 1px rgba(60, 64, 67, 0.15);\n",
              "      fill: #174EA6;\n",
              "    }\n",
              "\n",
              "    [theme=dark] .colab-df-convert {\n",
              "      background-color: #3B4455;\n",
              "      fill: #D2E3FC;\n",
              "    }\n",
              "\n",
              "    [theme=dark] .colab-df-convert:hover {\n",
              "      background-color: #434B5C;\n",
              "      box-shadow: 0px 1px 3px 1px rgba(0, 0, 0, 0.15);\n",
              "      filter: drop-shadow(0px 1px 2px rgba(0, 0, 0, 0.3));\n",
              "      fill: #FFFFFF;\n",
              "    }\n",
              "  </style>\n",
              "\n",
              "      <script>\n",
              "        const buttonEl =\n",
              "          document.querySelector('#df-b9fd279f-d2ed-465e-8ad7-6c40f129321c button.colab-df-convert');\n",
              "        buttonEl.style.display =\n",
              "          google.colab.kernel.accessAllowed ? 'block' : 'none';\n",
              "\n",
              "        async function convertToInteractive(key) {\n",
              "          const element = document.querySelector('#df-b9fd279f-d2ed-465e-8ad7-6c40f129321c');\n",
              "          const dataTable =\n",
              "            await google.colab.kernel.invokeFunction('convertToInteractive',\n",
              "                                                     [key], {});\n",
              "          if (!dataTable) return;\n",
              "\n",
              "          const docLinkHtml = 'Like what you see? Visit the ' +\n",
              "            '<a target=\"_blank\" href=https://colab.research.google.com/notebooks/data_table.ipynb>data table notebook</a>'\n",
              "            + ' to learn more about interactive tables.';\n",
              "          element.innerHTML = '';\n",
              "          dataTable['output_type'] = 'display_data';\n",
              "          await google.colab.output.renderOutput(dataTable, element);\n",
              "          const docLink = document.createElement('div');\n",
              "          docLink.innerHTML = docLinkHtml;\n",
              "          element.appendChild(docLink);\n",
              "        }\n",
              "      </script>\n",
              "    </div>\n",
              "  </div>\n",
              "  "
            ]
          },
          "metadata": {},
          "execution_count": 30
        }
      ]
    },
    {
      "cell_type": "markdown",
      "source": [
        "  <p style='text-align:justify;'> The normal value of Ejection Fraction ranges from 55% to 70%. Here, we found that there are <b>261 patients with abnormal Ejection Fraction.</b>   </p>"
      ],
      "metadata": {
        "id": "9fdpfXmr03mD"
      }
    },
    {
      "cell_type": "markdown",
      "source": [
        "#### Number of Patients with Abnormal Platelets Count"
      ],
      "metadata": {
        "id": "haoWs5XU06WK"
      }
    },
    {
      "cell_type": "code",
      "source": [
        "#to find the normal value of Platelets Count \n",
        "column_details_df.normal_value['platelets']"
      ],
      "metadata": {
        "colab": {
          "base_uri": "https://localhost:8080/",
          "height": 36
        },
        "id": "-V02RA6m0zDA",
        "outputId": "33ee21cf-dbd6-4151-a561-194f2a4d6903"
      },
      "execution_count": 31,
      "outputs": [
        {
          "output_type": "execute_result",
          "data": {
            "text/plain": [
              "'150 - 400 kilo-platelets / mcL'"
            ],
            "application/vnd.google.colaboratory.intrinsic+json": {
              "type": "string"
            }
          },
          "metadata": {},
          "execution_count": 31
        }
      ]
    },
    {
      "cell_type": "code",
      "source": [
        "abn_platelets = heart_failure_df[(heart_failure_df.platelets < 150) | (heart_failure_df.platelets >400)]\n",
        "abn_platelets "
      ],
      "metadata": {
        "colab": {
          "base_uri": "https://localhost:8080/",
          "height": 1000
        },
        "id": "YBpYcT8O09Qw",
        "outputId": "55ed9925-49ab-4c3f-8828-dee7de91f62b"
      },
      "execution_count": 32,
      "outputs": [
        {
          "output_type": "execute_result",
          "data": {
            "text/plain": [
              "     age  anaemia  diabetes  ejection_fraction  high_blood_pressure  \\\n",
              "6     75     True     False                 15                False   \n",
              "7     60     True      True                 60                False   \n",
              "12    45     True     False                 30                False   \n",
              "14    49     True     False                 30                 True   \n",
              "15    82     True     False                 50                False   \n",
              "19    48     True      True                 55                False   \n",
              "25    80    False      True                 38                False   \n",
              "47    60    False      True                 38                 True   \n",
              "48    80     True     False                 20                 True   \n",
              "51    53     True     False                 20                 True   \n",
              "55    95     True     False                 30                False   \n",
              "65    60    False     False                 20                False   \n",
              "69    65    False      True                 25                False   \n",
              "71    58    False      True                 35                False   \n",
              "73    65    False      True                 50                False   \n",
              "85    51    False     False                 50                False   \n",
              "102   80    False     False                 25                False   \n",
              "105   72     True     False                 30                 True   \n",
              "109   45    False      True                 35                False   \n",
              "117   85     True     False                 60                False   \n",
              "123   60     True     False                 30                 True   \n",
              "162   63     True     False                 40                False   \n",
              "163   50     True      True                 35                False   \n",
              "167   59    False      True                 20                False   \n",
              "176   69    False     False                 40                False   \n",
              "177   49     True     False                 50                False   \n",
              "194   45    False     False                 20                 True   \n",
              "200   63     True     False                 45                False   \n",
              "211   50    False     False                 62                 True   \n",
              "212   78    False     False                 50                False   \n",
              "223   47    False     False                 25                False   \n",
              "224   58    False      True                 25                False   \n",
              "227   55     True     False                 35                 True   \n",
              "230   60    False     False                 30                False   \n",
              "235   77     True     False                 50                 True   \n",
              "240   70    False      True                 35                 True   \n",
              "250   50    False     False                 30                 True   \n",
              "264   61    False      True                 38                False   \n",
              "267   56     True      True                 38                False   \n",
              "275   45    False     False                 38                 True   \n",
              "277   70    False      True                 38                False   \n",
              "279   55    False      True                 38                False   \n",
              "281   70    False     False                 40                False   \n",
              "287   45    False      True                 55                False   \n",
              "291   60    False     False                 35                False   \n",
              "296   45    False      True                 60                False   \n",
              "297   45    False     False                 38                False   \n",
              "\n",
              "     platelets  serum_creatinine  serum_sodium     sex  smoking  patient_dead  \n",
              "6          127              1.20           137    Male    False          True  \n",
              "7          454              1.10           131    Male     True          True  \n",
              "12         136              1.10           137    Male    False          True  \n",
              "14         427              1.00           138  Female    False         False  \n",
              "15          47              1.30           136    Male    False          True  \n",
              "19          87              1.90           121  Female    False          True  \n",
              "25         149              1.90           144    Male     True          True  \n",
              "47         451              0.60           138    Male     True          True  \n",
              "48         140              4.40           133    Male    False          True  \n",
              "51         418              1.40           139  Female    False          True  \n",
              "55         461              2.00           132    Male    False          True  \n",
              "65         119              2.90           127    Male     True          True  \n",
              "69         497              1.83           135    Male    False          True  \n",
              "71         122              0.90           139    Male     True         False  \n",
              "73         149              1.30           137    Male     True         False  \n",
              "85         406              0.70           140    Male    False         False  \n",
              "102        149              1.10           144    Male     True         False  \n",
              "105        621              1.70           138  Female     True          True  \n",
              "109        850              1.30           142    Male     True         False  \n",
              "117        507              3.20           138  Female    False         False  \n",
              "123        127              0.90           145  Female    False         False  \n",
              "162        448              0.90           137    Male     True         False  \n",
              "163         75              0.90           142  Female    False          True  \n",
              "167         70              2.40           134    Male    False          True  \n",
              "176        105              1.00           135    Male     True         False  \n",
              "177        132              1.00           140  Female    False         False  \n",
              "194        126              1.60           135    Male    False          True  \n",
              "200         73              0.70           137    Male    False         False  \n",
              "211        147              0.80           140    Male     True         False  \n",
              "212        481              1.40           138    Male     True         False  \n",
              "223        130              0.80           134    Male    False         False  \n",
              "224        504              1.00           138    Male    False         False  \n",
              "227        141              1.00           140    Male    False         False  \n",
              "230         62              1.70           127  Female    False          True  \n",
              "235        406              1.10           137    Male    False         False  \n",
              "240        533              1.30           139  Female    False         False  \n",
              "250        404              0.50           139  Female    False         False  \n",
              "264        147              1.20           141    Male    False         False  \n",
              "267        133              1.70           140    Male    False         False  \n",
              "275        422              0.80           137  Female    False         False  \n",
              "277         25              1.10           140    Male    False         False  \n",
              "279        451              1.30           136  Female    False         False  \n",
              "281         51              2.70           136    Male     True         False  \n",
              "287        543              1.00           132  Female    False         False  \n",
              "291        133              1.40           139    Male    False         False  \n",
              "296        742              0.80           138  Female    False         False  \n",
              "297        140              1.40           140    Male     True         False  "
            ],
            "text/html": [
              "\n",
              "  <div id=\"df-15f86e14-6838-46d4-a91f-2cf95b50dd0d\">\n",
              "    <div class=\"colab-df-container\">\n",
              "      <div>\n",
              "<style scoped>\n",
              "    .dataframe tbody tr th:only-of-type {\n",
              "        vertical-align: middle;\n",
              "    }\n",
              "\n",
              "    .dataframe tbody tr th {\n",
              "        vertical-align: top;\n",
              "    }\n",
              "\n",
              "    .dataframe thead th {\n",
              "        text-align: right;\n",
              "    }\n",
              "</style>\n",
              "<table border=\"1\" class=\"dataframe\">\n",
              "  <thead>\n",
              "    <tr style=\"text-align: right;\">\n",
              "      <th></th>\n",
              "      <th>age</th>\n",
              "      <th>anaemia</th>\n",
              "      <th>diabetes</th>\n",
              "      <th>ejection_fraction</th>\n",
              "      <th>high_blood_pressure</th>\n",
              "      <th>platelets</th>\n",
              "      <th>serum_creatinine</th>\n",
              "      <th>serum_sodium</th>\n",
              "      <th>sex</th>\n",
              "      <th>smoking</th>\n",
              "      <th>patient_dead</th>\n",
              "    </tr>\n",
              "  </thead>\n",
              "  <tbody>\n",
              "    <tr>\n",
              "      <th>6</th>\n",
              "      <td>75</td>\n",
              "      <td>True</td>\n",
              "      <td>False</td>\n",
              "      <td>15</td>\n",
              "      <td>False</td>\n",
              "      <td>127</td>\n",
              "      <td>1.20</td>\n",
              "      <td>137</td>\n",
              "      <td>Male</td>\n",
              "      <td>False</td>\n",
              "      <td>True</td>\n",
              "    </tr>\n",
              "    <tr>\n",
              "      <th>7</th>\n",
              "      <td>60</td>\n",
              "      <td>True</td>\n",
              "      <td>True</td>\n",
              "      <td>60</td>\n",
              "      <td>False</td>\n",
              "      <td>454</td>\n",
              "      <td>1.10</td>\n",
              "      <td>131</td>\n",
              "      <td>Male</td>\n",
              "      <td>True</td>\n",
              "      <td>True</td>\n",
              "    </tr>\n",
              "    <tr>\n",
              "      <th>12</th>\n",
              "      <td>45</td>\n",
              "      <td>True</td>\n",
              "      <td>False</td>\n",
              "      <td>30</td>\n",
              "      <td>False</td>\n",
              "      <td>136</td>\n",
              "      <td>1.10</td>\n",
              "      <td>137</td>\n",
              "      <td>Male</td>\n",
              "      <td>False</td>\n",
              "      <td>True</td>\n",
              "    </tr>\n",
              "    <tr>\n",
              "      <th>14</th>\n",
              "      <td>49</td>\n",
              "      <td>True</td>\n",
              "      <td>False</td>\n",
              "      <td>30</td>\n",
              "      <td>True</td>\n",
              "      <td>427</td>\n",
              "      <td>1.00</td>\n",
              "      <td>138</td>\n",
              "      <td>Female</td>\n",
              "      <td>False</td>\n",
              "      <td>False</td>\n",
              "    </tr>\n",
              "    <tr>\n",
              "      <th>15</th>\n",
              "      <td>82</td>\n",
              "      <td>True</td>\n",
              "      <td>False</td>\n",
              "      <td>50</td>\n",
              "      <td>False</td>\n",
              "      <td>47</td>\n",
              "      <td>1.30</td>\n",
              "      <td>136</td>\n",
              "      <td>Male</td>\n",
              "      <td>False</td>\n",
              "      <td>True</td>\n",
              "    </tr>\n",
              "    <tr>\n",
              "      <th>19</th>\n",
              "      <td>48</td>\n",
              "      <td>True</td>\n",
              "      <td>True</td>\n",
              "      <td>55</td>\n",
              "      <td>False</td>\n",
              "      <td>87</td>\n",
              "      <td>1.90</td>\n",
              "      <td>121</td>\n",
              "      <td>Female</td>\n",
              "      <td>False</td>\n",
              "      <td>True</td>\n",
              "    </tr>\n",
              "    <tr>\n",
              "      <th>25</th>\n",
              "      <td>80</td>\n",
              "      <td>False</td>\n",
              "      <td>True</td>\n",
              "      <td>38</td>\n",
              "      <td>False</td>\n",
              "      <td>149</td>\n",
              "      <td>1.90</td>\n",
              "      <td>144</td>\n",
              "      <td>Male</td>\n",
              "      <td>True</td>\n",
              "      <td>True</td>\n",
              "    </tr>\n",
              "    <tr>\n",
              "      <th>47</th>\n",
              "      <td>60</td>\n",
              "      <td>False</td>\n",
              "      <td>True</td>\n",
              "      <td>38</td>\n",
              "      <td>True</td>\n",
              "      <td>451</td>\n",
              "      <td>0.60</td>\n",
              "      <td>138</td>\n",
              "      <td>Male</td>\n",
              "      <td>True</td>\n",
              "      <td>True</td>\n",
              "    </tr>\n",
              "    <tr>\n",
              "      <th>48</th>\n",
              "      <td>80</td>\n",
              "      <td>True</td>\n",
              "      <td>False</td>\n",
              "      <td>20</td>\n",
              "      <td>True</td>\n",
              "      <td>140</td>\n",
              "      <td>4.40</td>\n",
              "      <td>133</td>\n",
              "      <td>Male</td>\n",
              "      <td>False</td>\n",
              "      <td>True</td>\n",
              "    </tr>\n",
              "    <tr>\n",
              "      <th>51</th>\n",
              "      <td>53</td>\n",
              "      <td>True</td>\n",
              "      <td>False</td>\n",
              "      <td>20</td>\n",
              "      <td>True</td>\n",
              "      <td>418</td>\n",
              "      <td>1.40</td>\n",
              "      <td>139</td>\n",
              "      <td>Female</td>\n",
              "      <td>False</td>\n",
              "      <td>True</td>\n",
              "    </tr>\n",
              "    <tr>\n",
              "      <th>55</th>\n",
              "      <td>95</td>\n",
              "      <td>True</td>\n",
              "      <td>False</td>\n",
              "      <td>30</td>\n",
              "      <td>False</td>\n",
              "      <td>461</td>\n",
              "      <td>2.00</td>\n",
              "      <td>132</td>\n",
              "      <td>Male</td>\n",
              "      <td>False</td>\n",
              "      <td>True</td>\n",
              "    </tr>\n",
              "    <tr>\n",
              "      <th>65</th>\n",
              "      <td>60</td>\n",
              "      <td>False</td>\n",
              "      <td>False</td>\n",
              "      <td>20</td>\n",
              "      <td>False</td>\n",
              "      <td>119</td>\n",
              "      <td>2.90</td>\n",
              "      <td>127</td>\n",
              "      <td>Male</td>\n",
              "      <td>True</td>\n",
              "      <td>True</td>\n",
              "    </tr>\n",
              "    <tr>\n",
              "      <th>69</th>\n",
              "      <td>65</td>\n",
              "      <td>False</td>\n",
              "      <td>True</td>\n",
              "      <td>25</td>\n",
              "      <td>False</td>\n",
              "      <td>497</td>\n",
              "      <td>1.83</td>\n",
              "      <td>135</td>\n",
              "      <td>Male</td>\n",
              "      <td>False</td>\n",
              "      <td>True</td>\n",
              "    </tr>\n",
              "    <tr>\n",
              "      <th>71</th>\n",
              "      <td>58</td>\n",
              "      <td>False</td>\n",
              "      <td>True</td>\n",
              "      <td>35</td>\n",
              "      <td>False</td>\n",
              "      <td>122</td>\n",
              "      <td>0.90</td>\n",
              "      <td>139</td>\n",
              "      <td>Male</td>\n",
              "      <td>True</td>\n",
              "      <td>False</td>\n",
              "    </tr>\n",
              "    <tr>\n",
              "      <th>73</th>\n",
              "      <td>65</td>\n",
              "      <td>False</td>\n",
              "      <td>True</td>\n",
              "      <td>50</td>\n",
              "      <td>False</td>\n",
              "      <td>149</td>\n",
              "      <td>1.30</td>\n",
              "      <td>137</td>\n",
              "      <td>Male</td>\n",
              "      <td>True</td>\n",
              "      <td>False</td>\n",
              "    </tr>\n",
              "    <tr>\n",
              "      <th>85</th>\n",
              "      <td>51</td>\n",
              "      <td>False</td>\n",
              "      <td>False</td>\n",
              "      <td>50</td>\n",
              "      <td>False</td>\n",
              "      <td>406</td>\n",
              "      <td>0.70</td>\n",
              "      <td>140</td>\n",
              "      <td>Male</td>\n",
              "      <td>False</td>\n",
              "      <td>False</td>\n",
              "    </tr>\n",
              "    <tr>\n",
              "      <th>102</th>\n",
              "      <td>80</td>\n",
              "      <td>False</td>\n",
              "      <td>False</td>\n",
              "      <td>25</td>\n",
              "      <td>False</td>\n",
              "      <td>149</td>\n",
              "      <td>1.10</td>\n",
              "      <td>144</td>\n",
              "      <td>Male</td>\n",
              "      <td>True</td>\n",
              "      <td>False</td>\n",
              "    </tr>\n",
              "    <tr>\n",
              "      <th>105</th>\n",
              "      <td>72</td>\n",
              "      <td>True</td>\n",
              "      <td>False</td>\n",
              "      <td>30</td>\n",
              "      <td>True</td>\n",
              "      <td>621</td>\n",
              "      <td>1.70</td>\n",
              "      <td>138</td>\n",
              "      <td>Female</td>\n",
              "      <td>True</td>\n",
              "      <td>True</td>\n",
              "    </tr>\n",
              "    <tr>\n",
              "      <th>109</th>\n",
              "      <td>45</td>\n",
              "      <td>False</td>\n",
              "      <td>True</td>\n",
              "      <td>35</td>\n",
              "      <td>False</td>\n",
              "      <td>850</td>\n",
              "      <td>1.30</td>\n",
              "      <td>142</td>\n",
              "      <td>Male</td>\n",
              "      <td>True</td>\n",
              "      <td>False</td>\n",
              "    </tr>\n",
              "    <tr>\n",
              "      <th>117</th>\n",
              "      <td>85</td>\n",
              "      <td>True</td>\n",
              "      <td>False</td>\n",
              "      <td>60</td>\n",
              "      <td>False</td>\n",
              "      <td>507</td>\n",
              "      <td>3.20</td>\n",
              "      <td>138</td>\n",
              "      <td>Female</td>\n",
              "      <td>False</td>\n",
              "      <td>False</td>\n",
              "    </tr>\n",
              "    <tr>\n",
              "      <th>123</th>\n",
              "      <td>60</td>\n",
              "      <td>True</td>\n",
              "      <td>False</td>\n",
              "      <td>30</td>\n",
              "      <td>True</td>\n",
              "      <td>127</td>\n",
              "      <td>0.90</td>\n",
              "      <td>145</td>\n",
              "      <td>Female</td>\n",
              "      <td>False</td>\n",
              "      <td>False</td>\n",
              "    </tr>\n",
              "    <tr>\n",
              "      <th>162</th>\n",
              "      <td>63</td>\n",
              "      <td>True</td>\n",
              "      <td>False</td>\n",
              "      <td>40</td>\n",
              "      <td>False</td>\n",
              "      <td>448</td>\n",
              "      <td>0.90</td>\n",
              "      <td>137</td>\n",
              "      <td>Male</td>\n",
              "      <td>True</td>\n",
              "      <td>False</td>\n",
              "    </tr>\n",
              "    <tr>\n",
              "      <th>163</th>\n",
              "      <td>50</td>\n",
              "      <td>True</td>\n",
              "      <td>True</td>\n",
              "      <td>35</td>\n",
              "      <td>False</td>\n",
              "      <td>75</td>\n",
              "      <td>0.90</td>\n",
              "      <td>142</td>\n",
              "      <td>Female</td>\n",
              "      <td>False</td>\n",
              "      <td>True</td>\n",
              "    </tr>\n",
              "    <tr>\n",
              "      <th>167</th>\n",
              "      <td>59</td>\n",
              "      <td>False</td>\n",
              "      <td>True</td>\n",
              "      <td>20</td>\n",
              "      <td>False</td>\n",
              "      <td>70</td>\n",
              "      <td>2.40</td>\n",
              "      <td>134</td>\n",
              "      <td>Male</td>\n",
              "      <td>False</td>\n",
              "      <td>True</td>\n",
              "    </tr>\n",
              "    <tr>\n",
              "      <th>176</th>\n",
              "      <td>69</td>\n",
              "      <td>False</td>\n",
              "      <td>False</td>\n",
              "      <td>40</td>\n",
              "      <td>False</td>\n",
              "      <td>105</td>\n",
              "      <td>1.00</td>\n",
              "      <td>135</td>\n",
              "      <td>Male</td>\n",
              "      <td>True</td>\n",
              "      <td>False</td>\n",
              "    </tr>\n",
              "    <tr>\n",
              "      <th>177</th>\n",
              "      <td>49</td>\n",
              "      <td>True</td>\n",
              "      <td>False</td>\n",
              "      <td>50</td>\n",
              "      <td>False</td>\n",
              "      <td>132</td>\n",
              "      <td>1.00</td>\n",
              "      <td>140</td>\n",
              "      <td>Female</td>\n",
              "      <td>False</td>\n",
              "      <td>False</td>\n",
              "    </tr>\n",
              "    <tr>\n",
              "      <th>194</th>\n",
              "      <td>45</td>\n",
              "      <td>False</td>\n",
              "      <td>False</td>\n",
              "      <td>20</td>\n",
              "      <td>True</td>\n",
              "      <td>126</td>\n",
              "      <td>1.60</td>\n",
              "      <td>135</td>\n",
              "      <td>Male</td>\n",
              "      <td>False</td>\n",
              "      <td>True</td>\n",
              "    </tr>\n",
              "    <tr>\n",
              "      <th>200</th>\n",
              "      <td>63</td>\n",
              "      <td>True</td>\n",
              "      <td>False</td>\n",
              "      <td>45</td>\n",
              "      <td>False</td>\n",
              "      <td>73</td>\n",
              "      <td>0.70</td>\n",
              "      <td>137</td>\n",
              "      <td>Male</td>\n",
              "      <td>False</td>\n",
              "      <td>False</td>\n",
              "    </tr>\n",
              "    <tr>\n",
              "      <th>211</th>\n",
              "      <td>50</td>\n",
              "      <td>False</td>\n",
              "      <td>False</td>\n",
              "      <td>62</td>\n",
              "      <td>True</td>\n",
              "      <td>147</td>\n",
              "      <td>0.80</td>\n",
              "      <td>140</td>\n",
              "      <td>Male</td>\n",
              "      <td>True</td>\n",
              "      <td>False</td>\n",
              "    </tr>\n",
              "    <tr>\n",
              "      <th>212</th>\n",
              "      <td>78</td>\n",
              "      <td>False</td>\n",
              "      <td>False</td>\n",
              "      <td>50</td>\n",
              "      <td>False</td>\n",
              "      <td>481</td>\n",
              "      <td>1.40</td>\n",
              "      <td>138</td>\n",
              "      <td>Male</td>\n",
              "      <td>True</td>\n",
              "      <td>False</td>\n",
              "    </tr>\n",
              "    <tr>\n",
              "      <th>223</th>\n",
              "      <td>47</td>\n",
              "      <td>False</td>\n",
              "      <td>False</td>\n",
              "      <td>25</td>\n",
              "      <td>False</td>\n",
              "      <td>130</td>\n",
              "      <td>0.80</td>\n",
              "      <td>134</td>\n",
              "      <td>Male</td>\n",
              "      <td>False</td>\n",
              "      <td>False</td>\n",
              "    </tr>\n",
              "    <tr>\n",
              "      <th>224</th>\n",
              "      <td>58</td>\n",
              "      <td>False</td>\n",
              "      <td>True</td>\n",
              "      <td>25</td>\n",
              "      <td>False</td>\n",
              "      <td>504</td>\n",
              "      <td>1.00</td>\n",
              "      <td>138</td>\n",
              "      <td>Male</td>\n",
              "      <td>False</td>\n",
              "      <td>False</td>\n",
              "    </tr>\n",
              "    <tr>\n",
              "      <th>227</th>\n",
              "      <td>55</td>\n",
              "      <td>True</td>\n",
              "      <td>False</td>\n",
              "      <td>35</td>\n",
              "      <td>True</td>\n",
              "      <td>141</td>\n",
              "      <td>1.00</td>\n",
              "      <td>140</td>\n",
              "      <td>Male</td>\n",
              "      <td>False</td>\n",
              "      <td>False</td>\n",
              "    </tr>\n",
              "    <tr>\n",
              "      <th>230</th>\n",
              "      <td>60</td>\n",
              "      <td>False</td>\n",
              "      <td>False</td>\n",
              "      <td>30</td>\n",
              "      <td>False</td>\n",
              "      <td>62</td>\n",
              "      <td>1.70</td>\n",
              "      <td>127</td>\n",
              "      <td>Female</td>\n",
              "      <td>False</td>\n",
              "      <td>True</td>\n",
              "    </tr>\n",
              "    <tr>\n",
              "      <th>235</th>\n",
              "      <td>77</td>\n",
              "      <td>True</td>\n",
              "      <td>False</td>\n",
              "      <td>50</td>\n",
              "      <td>True</td>\n",
              "      <td>406</td>\n",
              "      <td>1.10</td>\n",
              "      <td>137</td>\n",
              "      <td>Male</td>\n",
              "      <td>False</td>\n",
              "      <td>False</td>\n",
              "    </tr>\n",
              "    <tr>\n",
              "      <th>240</th>\n",
              "      <td>70</td>\n",
              "      <td>False</td>\n",
              "      <td>True</td>\n",
              "      <td>35</td>\n",
              "      <td>True</td>\n",
              "      <td>533</td>\n",
              "      <td>1.30</td>\n",
              "      <td>139</td>\n",
              "      <td>Female</td>\n",
              "      <td>False</td>\n",
              "      <td>False</td>\n",
              "    </tr>\n",
              "    <tr>\n",
              "      <th>250</th>\n",
              "      <td>50</td>\n",
              "      <td>False</td>\n",
              "      <td>False</td>\n",
              "      <td>30</td>\n",
              "      <td>True</td>\n",
              "      <td>404</td>\n",
              "      <td>0.50</td>\n",
              "      <td>139</td>\n",
              "      <td>Female</td>\n",
              "      <td>False</td>\n",
              "      <td>False</td>\n",
              "    </tr>\n",
              "    <tr>\n",
              "      <th>264</th>\n",
              "      <td>61</td>\n",
              "      <td>False</td>\n",
              "      <td>True</td>\n",
              "      <td>38</td>\n",
              "      <td>False</td>\n",
              "      <td>147</td>\n",
              "      <td>1.20</td>\n",
              "      <td>141</td>\n",
              "      <td>Male</td>\n",
              "      <td>False</td>\n",
              "      <td>False</td>\n",
              "    </tr>\n",
              "    <tr>\n",
              "      <th>267</th>\n",
              "      <td>56</td>\n",
              "      <td>True</td>\n",
              "      <td>True</td>\n",
              "      <td>38</td>\n",
              "      <td>False</td>\n",
              "      <td>133</td>\n",
              "      <td>1.70</td>\n",
              "      <td>140</td>\n",
              "      <td>Male</td>\n",
              "      <td>False</td>\n",
              "      <td>False</td>\n",
              "    </tr>\n",
              "    <tr>\n",
              "      <th>275</th>\n",
              "      <td>45</td>\n",
              "      <td>False</td>\n",
              "      <td>False</td>\n",
              "      <td>38</td>\n",
              "      <td>True</td>\n",
              "      <td>422</td>\n",
              "      <td>0.80</td>\n",
              "      <td>137</td>\n",
              "      <td>Female</td>\n",
              "      <td>False</td>\n",
              "      <td>False</td>\n",
              "    </tr>\n",
              "    <tr>\n",
              "      <th>277</th>\n",
              "      <td>70</td>\n",
              "      <td>False</td>\n",
              "      <td>True</td>\n",
              "      <td>38</td>\n",
              "      <td>False</td>\n",
              "      <td>25</td>\n",
              "      <td>1.10</td>\n",
              "      <td>140</td>\n",
              "      <td>Male</td>\n",
              "      <td>False</td>\n",
              "      <td>False</td>\n",
              "    </tr>\n",
              "    <tr>\n",
              "      <th>279</th>\n",
              "      <td>55</td>\n",
              "      <td>False</td>\n",
              "      <td>True</td>\n",
              "      <td>38</td>\n",
              "      <td>False</td>\n",
              "      <td>451</td>\n",
              "      <td>1.30</td>\n",
              "      <td>136</td>\n",
              "      <td>Female</td>\n",
              "      <td>False</td>\n",
              "      <td>False</td>\n",
              "    </tr>\n",
              "    <tr>\n",
              "      <th>281</th>\n",
              "      <td>70</td>\n",
              "      <td>False</td>\n",
              "      <td>False</td>\n",
              "      <td>40</td>\n",
              "      <td>False</td>\n",
              "      <td>51</td>\n",
              "      <td>2.70</td>\n",
              "      <td>136</td>\n",
              "      <td>Male</td>\n",
              "      <td>True</td>\n",
              "      <td>False</td>\n",
              "    </tr>\n",
              "    <tr>\n",
              "      <th>287</th>\n",
              "      <td>45</td>\n",
              "      <td>False</td>\n",
              "      <td>True</td>\n",
              "      <td>55</td>\n",
              "      <td>False</td>\n",
              "      <td>543</td>\n",
              "      <td>1.00</td>\n",
              "      <td>132</td>\n",
              "      <td>Female</td>\n",
              "      <td>False</td>\n",
              "      <td>False</td>\n",
              "    </tr>\n",
              "    <tr>\n",
              "      <th>291</th>\n",
              "      <td>60</td>\n",
              "      <td>False</td>\n",
              "      <td>False</td>\n",
              "      <td>35</td>\n",
              "      <td>False</td>\n",
              "      <td>133</td>\n",
              "      <td>1.40</td>\n",
              "      <td>139</td>\n",
              "      <td>Male</td>\n",
              "      <td>False</td>\n",
              "      <td>False</td>\n",
              "    </tr>\n",
              "    <tr>\n",
              "      <th>296</th>\n",
              "      <td>45</td>\n",
              "      <td>False</td>\n",
              "      <td>True</td>\n",
              "      <td>60</td>\n",
              "      <td>False</td>\n",
              "      <td>742</td>\n",
              "      <td>0.80</td>\n",
              "      <td>138</td>\n",
              "      <td>Female</td>\n",
              "      <td>False</td>\n",
              "      <td>False</td>\n",
              "    </tr>\n",
              "    <tr>\n",
              "      <th>297</th>\n",
              "      <td>45</td>\n",
              "      <td>False</td>\n",
              "      <td>False</td>\n",
              "      <td>38</td>\n",
              "      <td>False</td>\n",
              "      <td>140</td>\n",
              "      <td>1.40</td>\n",
              "      <td>140</td>\n",
              "      <td>Male</td>\n",
              "      <td>True</td>\n",
              "      <td>False</td>\n",
              "    </tr>\n",
              "  </tbody>\n",
              "</table>\n",
              "</div>\n",
              "      <button class=\"colab-df-convert\" onclick=\"convertToInteractive('df-15f86e14-6838-46d4-a91f-2cf95b50dd0d')\"\n",
              "              title=\"Convert this dataframe to an interactive table.\"\n",
              "              style=\"display:none;\">\n",
              "        \n",
              "  <svg xmlns=\"http://www.w3.org/2000/svg\" height=\"24px\"viewBox=\"0 0 24 24\"\n",
              "       width=\"24px\">\n",
              "    <path d=\"M0 0h24v24H0V0z\" fill=\"none\"/>\n",
              "    <path d=\"M18.56 5.44l.94 2.06.94-2.06 2.06-.94-2.06-.94-.94-2.06-.94 2.06-2.06.94zm-11 1L8.5 8.5l.94-2.06 2.06-.94-2.06-.94L8.5 2.5l-.94 2.06-2.06.94zm10 10l.94 2.06.94-2.06 2.06-.94-2.06-.94-.94-2.06-.94 2.06-2.06.94z\"/><path d=\"M17.41 7.96l-1.37-1.37c-.4-.4-.92-.59-1.43-.59-.52 0-1.04.2-1.43.59L10.3 9.45l-7.72 7.72c-.78.78-.78 2.05 0 2.83L4 21.41c.39.39.9.59 1.41.59.51 0 1.02-.2 1.41-.59l7.78-7.78 2.81-2.81c.8-.78.8-2.07 0-2.86zM5.41 20L4 18.59l7.72-7.72 1.47 1.35L5.41 20z\"/>\n",
              "  </svg>\n",
              "      </button>\n",
              "      \n",
              "  <style>\n",
              "    .colab-df-container {\n",
              "      display:flex;\n",
              "      flex-wrap:wrap;\n",
              "      gap: 12px;\n",
              "    }\n",
              "\n",
              "    .colab-df-convert {\n",
              "      background-color: #E8F0FE;\n",
              "      border: none;\n",
              "      border-radius: 50%;\n",
              "      cursor: pointer;\n",
              "      display: none;\n",
              "      fill: #1967D2;\n",
              "      height: 32px;\n",
              "      padding: 0 0 0 0;\n",
              "      width: 32px;\n",
              "    }\n",
              "\n",
              "    .colab-df-convert:hover {\n",
              "      background-color: #E2EBFA;\n",
              "      box-shadow: 0px 1px 2px rgba(60, 64, 67, 0.3), 0px 1px 3px 1px rgba(60, 64, 67, 0.15);\n",
              "      fill: #174EA6;\n",
              "    }\n",
              "\n",
              "    [theme=dark] .colab-df-convert {\n",
              "      background-color: #3B4455;\n",
              "      fill: #D2E3FC;\n",
              "    }\n",
              "\n",
              "    [theme=dark] .colab-df-convert:hover {\n",
              "      background-color: #434B5C;\n",
              "      box-shadow: 0px 1px 3px 1px rgba(0, 0, 0, 0.15);\n",
              "      filter: drop-shadow(0px 1px 2px rgba(0, 0, 0, 0.3));\n",
              "      fill: #FFFFFF;\n",
              "    }\n",
              "  </style>\n",
              "\n",
              "      <script>\n",
              "        const buttonEl =\n",
              "          document.querySelector('#df-15f86e14-6838-46d4-a91f-2cf95b50dd0d button.colab-df-convert');\n",
              "        buttonEl.style.display =\n",
              "          google.colab.kernel.accessAllowed ? 'block' : 'none';\n",
              "\n",
              "        async function convertToInteractive(key) {\n",
              "          const element = document.querySelector('#df-15f86e14-6838-46d4-a91f-2cf95b50dd0d');\n",
              "          const dataTable =\n",
              "            await google.colab.kernel.invokeFunction('convertToInteractive',\n",
              "                                                     [key], {});\n",
              "          if (!dataTable) return;\n",
              "\n",
              "          const docLinkHtml = 'Like what you see? Visit the ' +\n",
              "            '<a target=\"_blank\" href=https://colab.research.google.com/notebooks/data_table.ipynb>data table notebook</a>'\n",
              "            + ' to learn more about interactive tables.';\n",
              "          element.innerHTML = '';\n",
              "          dataTable['output_type'] = 'display_data';\n",
              "          await google.colab.output.renderOutput(dataTable, element);\n",
              "          const docLink = document.createElement('div');\n",
              "          docLink.innerHTML = docLinkHtml;\n",
              "          element.appendChild(docLink);\n",
              "        }\n",
              "      </script>\n",
              "    </div>\n",
              "  </div>\n",
              "  "
            ]
          },
          "metadata": {},
          "execution_count": 32
        }
      ]
    },
    {
      "cell_type": "markdown",
      "source": [
        "<p> The normal value of Platelets Count ranges from 150 -  400 kilo-platelets / mcL. Here, we found that there are <b>47 patients with abnormal Platelets Count.</b></p>"
      ],
      "metadata": {
        "id": "tvuUBATB1FfZ"
      }
    },
    {
      "cell_type": "markdown",
      "source": [
        "#### Number of Patients with Abnormal Creatinine level in the blood "
      ],
      "metadata": {
        "id": "iZ0xO4iF1Jr5"
      }
    },
    {
      "cell_type": "code",
      "source": [
        "#to find the normal value of Creatinine level in the blood \n",
        "column_details_df.normal_value['serum_creatinine']"
      ],
      "metadata": {
        "colab": {
          "base_uri": "https://localhost:8080/",
          "height": 36
        },
        "id": "oORa55mG1Aob",
        "outputId": "d723433a-a4b6-431f-f01c-6c4fca3956cb"
      },
      "execution_count": 33,
      "outputs": [
        {
          "output_type": "execute_result",
          "data": {
            "text/plain": [
              "'0.6 - 1.2 mg/dL'"
            ],
            "application/vnd.google.colaboratory.intrinsic+json": {
              "type": "string"
            }
          },
          "metadata": {},
          "execution_count": 33
        }
      ]
    },
    {
      "cell_type": "code",
      "source": [
        "abn_creatinine = heart_failure_df[(heart_failure_df.serum_creatinine < 0.6) | (heart_failure_df.serum_creatinine >1.2)]\n",
        "abn_creatinine "
      ],
      "metadata": {
        "colab": {
          "base_uri": "https://localhost:8080/",
          "height": 468
        },
        "id": "Qibni_hp1MXx",
        "outputId": "8c4a97ba-2e36-41d5-9913-ff0fb1fb3649"
      },
      "execution_count": 34,
      "outputs": [
        {
          "output_type": "execute_result",
          "data": {
            "text/plain": [
              "     age  anaemia  diabetes  ejection_fraction  high_blood_pressure  \\\n",
              "0     75    False     False                 20                 True   \n",
              "2     65    False     False                 20                False   \n",
              "3     50     True     False                 20                False   \n",
              "4     65     True      True                 20                False   \n",
              "5     90     True     False                 40                 True   \n",
              "..   ...      ...       ...                ...                  ...   \n",
              "282   42    False     False                 30                False   \n",
              "286   60    False     False                 35                False   \n",
              "291   60    False     False                 35                False   \n",
              "297   45    False     False                 38                False   \n",
              "298   50    False     False                 45                False   \n",
              "\n",
              "     platelets  serum_creatinine  serum_sodium     sex  smoking  patient_dead  \n",
              "0          265               1.9           130    Male    False          True  \n",
              "2          162               1.3           129    Male     True          True  \n",
              "3          210               1.9           137    Male    False          True  \n",
              "4          327               2.7           116  Female    False          True  \n",
              "5          204               2.1           132    Male     True          True  \n",
              "..         ...               ...           ...     ...      ...           ...  \n",
              "282        215               3.8           128    Male     True         False  \n",
              "286        279               1.7           140    Male    False         False  \n",
              "291        133               1.4           139    Male    False         False  \n",
              "297        140               1.4           140    Male     True         False  \n",
              "298        395               1.6           136    Male     True         False  \n",
              "\n",
              "[102 rows x 11 columns]"
            ],
            "text/html": [
              "\n",
              "  <div id=\"df-23e670f3-b92f-49b4-8ea5-0f3e61fc74a5\">\n",
              "    <div class=\"colab-df-container\">\n",
              "      <div>\n",
              "<style scoped>\n",
              "    .dataframe tbody tr th:only-of-type {\n",
              "        vertical-align: middle;\n",
              "    }\n",
              "\n",
              "    .dataframe tbody tr th {\n",
              "        vertical-align: top;\n",
              "    }\n",
              "\n",
              "    .dataframe thead th {\n",
              "        text-align: right;\n",
              "    }\n",
              "</style>\n",
              "<table border=\"1\" class=\"dataframe\">\n",
              "  <thead>\n",
              "    <tr style=\"text-align: right;\">\n",
              "      <th></th>\n",
              "      <th>age</th>\n",
              "      <th>anaemia</th>\n",
              "      <th>diabetes</th>\n",
              "      <th>ejection_fraction</th>\n",
              "      <th>high_blood_pressure</th>\n",
              "      <th>platelets</th>\n",
              "      <th>serum_creatinine</th>\n",
              "      <th>serum_sodium</th>\n",
              "      <th>sex</th>\n",
              "      <th>smoking</th>\n",
              "      <th>patient_dead</th>\n",
              "    </tr>\n",
              "  </thead>\n",
              "  <tbody>\n",
              "    <tr>\n",
              "      <th>0</th>\n",
              "      <td>75</td>\n",
              "      <td>False</td>\n",
              "      <td>False</td>\n",
              "      <td>20</td>\n",
              "      <td>True</td>\n",
              "      <td>265</td>\n",
              "      <td>1.9</td>\n",
              "      <td>130</td>\n",
              "      <td>Male</td>\n",
              "      <td>False</td>\n",
              "      <td>True</td>\n",
              "    </tr>\n",
              "    <tr>\n",
              "      <th>2</th>\n",
              "      <td>65</td>\n",
              "      <td>False</td>\n",
              "      <td>False</td>\n",
              "      <td>20</td>\n",
              "      <td>False</td>\n",
              "      <td>162</td>\n",
              "      <td>1.3</td>\n",
              "      <td>129</td>\n",
              "      <td>Male</td>\n",
              "      <td>True</td>\n",
              "      <td>True</td>\n",
              "    </tr>\n",
              "    <tr>\n",
              "      <th>3</th>\n",
              "      <td>50</td>\n",
              "      <td>True</td>\n",
              "      <td>False</td>\n",
              "      <td>20</td>\n",
              "      <td>False</td>\n",
              "      <td>210</td>\n",
              "      <td>1.9</td>\n",
              "      <td>137</td>\n",
              "      <td>Male</td>\n",
              "      <td>False</td>\n",
              "      <td>True</td>\n",
              "    </tr>\n",
              "    <tr>\n",
              "      <th>4</th>\n",
              "      <td>65</td>\n",
              "      <td>True</td>\n",
              "      <td>True</td>\n",
              "      <td>20</td>\n",
              "      <td>False</td>\n",
              "      <td>327</td>\n",
              "      <td>2.7</td>\n",
              "      <td>116</td>\n",
              "      <td>Female</td>\n",
              "      <td>False</td>\n",
              "      <td>True</td>\n",
              "    </tr>\n",
              "    <tr>\n",
              "      <th>5</th>\n",
              "      <td>90</td>\n",
              "      <td>True</td>\n",
              "      <td>False</td>\n",
              "      <td>40</td>\n",
              "      <td>True</td>\n",
              "      <td>204</td>\n",
              "      <td>2.1</td>\n",
              "      <td>132</td>\n",
              "      <td>Male</td>\n",
              "      <td>True</td>\n",
              "      <td>True</td>\n",
              "    </tr>\n",
              "    <tr>\n",
              "      <th>...</th>\n",
              "      <td>...</td>\n",
              "      <td>...</td>\n",
              "      <td>...</td>\n",
              "      <td>...</td>\n",
              "      <td>...</td>\n",
              "      <td>...</td>\n",
              "      <td>...</td>\n",
              "      <td>...</td>\n",
              "      <td>...</td>\n",
              "      <td>...</td>\n",
              "      <td>...</td>\n",
              "    </tr>\n",
              "    <tr>\n",
              "      <th>282</th>\n",
              "      <td>42</td>\n",
              "      <td>False</td>\n",
              "      <td>False</td>\n",
              "      <td>30</td>\n",
              "      <td>False</td>\n",
              "      <td>215</td>\n",
              "      <td>3.8</td>\n",
              "      <td>128</td>\n",
              "      <td>Male</td>\n",
              "      <td>True</td>\n",
              "      <td>False</td>\n",
              "    </tr>\n",
              "    <tr>\n",
              "      <th>286</th>\n",
              "      <td>60</td>\n",
              "      <td>False</td>\n",
              "      <td>False</td>\n",
              "      <td>35</td>\n",
              "      <td>False</td>\n",
              "      <td>279</td>\n",
              "      <td>1.7</td>\n",
              "      <td>140</td>\n",
              "      <td>Male</td>\n",
              "      <td>False</td>\n",
              "      <td>False</td>\n",
              "    </tr>\n",
              "    <tr>\n",
              "      <th>291</th>\n",
              "      <td>60</td>\n",
              "      <td>False</td>\n",
              "      <td>False</td>\n",
              "      <td>35</td>\n",
              "      <td>False</td>\n",
              "      <td>133</td>\n",
              "      <td>1.4</td>\n",
              "      <td>139</td>\n",
              "      <td>Male</td>\n",
              "      <td>False</td>\n",
              "      <td>False</td>\n",
              "    </tr>\n",
              "    <tr>\n",
              "      <th>297</th>\n",
              "      <td>45</td>\n",
              "      <td>False</td>\n",
              "      <td>False</td>\n",
              "      <td>38</td>\n",
              "      <td>False</td>\n",
              "      <td>140</td>\n",
              "      <td>1.4</td>\n",
              "      <td>140</td>\n",
              "      <td>Male</td>\n",
              "      <td>True</td>\n",
              "      <td>False</td>\n",
              "    </tr>\n",
              "    <tr>\n",
              "      <th>298</th>\n",
              "      <td>50</td>\n",
              "      <td>False</td>\n",
              "      <td>False</td>\n",
              "      <td>45</td>\n",
              "      <td>False</td>\n",
              "      <td>395</td>\n",
              "      <td>1.6</td>\n",
              "      <td>136</td>\n",
              "      <td>Male</td>\n",
              "      <td>True</td>\n",
              "      <td>False</td>\n",
              "    </tr>\n",
              "  </tbody>\n",
              "</table>\n",
              "<p>102 rows × 11 columns</p>\n",
              "</div>\n",
              "      <button class=\"colab-df-convert\" onclick=\"convertToInteractive('df-23e670f3-b92f-49b4-8ea5-0f3e61fc74a5')\"\n",
              "              title=\"Convert this dataframe to an interactive table.\"\n",
              "              style=\"display:none;\">\n",
              "        \n",
              "  <svg xmlns=\"http://www.w3.org/2000/svg\" height=\"24px\"viewBox=\"0 0 24 24\"\n",
              "       width=\"24px\">\n",
              "    <path d=\"M0 0h24v24H0V0z\" fill=\"none\"/>\n",
              "    <path d=\"M18.56 5.44l.94 2.06.94-2.06 2.06-.94-2.06-.94-.94-2.06-.94 2.06-2.06.94zm-11 1L8.5 8.5l.94-2.06 2.06-.94-2.06-.94L8.5 2.5l-.94 2.06-2.06.94zm10 10l.94 2.06.94-2.06 2.06-.94-2.06-.94-.94-2.06-.94 2.06-2.06.94z\"/><path d=\"M17.41 7.96l-1.37-1.37c-.4-.4-.92-.59-1.43-.59-.52 0-1.04.2-1.43.59L10.3 9.45l-7.72 7.72c-.78.78-.78 2.05 0 2.83L4 21.41c.39.39.9.59 1.41.59.51 0 1.02-.2 1.41-.59l7.78-7.78 2.81-2.81c.8-.78.8-2.07 0-2.86zM5.41 20L4 18.59l7.72-7.72 1.47 1.35L5.41 20z\"/>\n",
              "  </svg>\n",
              "      </button>\n",
              "      \n",
              "  <style>\n",
              "    .colab-df-container {\n",
              "      display:flex;\n",
              "      flex-wrap:wrap;\n",
              "      gap: 12px;\n",
              "    }\n",
              "\n",
              "    .colab-df-convert {\n",
              "      background-color: #E8F0FE;\n",
              "      border: none;\n",
              "      border-radius: 50%;\n",
              "      cursor: pointer;\n",
              "      display: none;\n",
              "      fill: #1967D2;\n",
              "      height: 32px;\n",
              "      padding: 0 0 0 0;\n",
              "      width: 32px;\n",
              "    }\n",
              "\n",
              "    .colab-df-convert:hover {\n",
              "      background-color: #E2EBFA;\n",
              "      box-shadow: 0px 1px 2px rgba(60, 64, 67, 0.3), 0px 1px 3px 1px rgba(60, 64, 67, 0.15);\n",
              "      fill: #174EA6;\n",
              "    }\n",
              "\n",
              "    [theme=dark] .colab-df-convert {\n",
              "      background-color: #3B4455;\n",
              "      fill: #D2E3FC;\n",
              "    }\n",
              "\n",
              "    [theme=dark] .colab-df-convert:hover {\n",
              "      background-color: #434B5C;\n",
              "      box-shadow: 0px 1px 3px 1px rgba(0, 0, 0, 0.15);\n",
              "      filter: drop-shadow(0px 1px 2px rgba(0, 0, 0, 0.3));\n",
              "      fill: #FFFFFF;\n",
              "    }\n",
              "  </style>\n",
              "\n",
              "      <script>\n",
              "        const buttonEl =\n",
              "          document.querySelector('#df-23e670f3-b92f-49b4-8ea5-0f3e61fc74a5 button.colab-df-convert');\n",
              "        buttonEl.style.display =\n",
              "          google.colab.kernel.accessAllowed ? 'block' : 'none';\n",
              "\n",
              "        async function convertToInteractive(key) {\n",
              "          const element = document.querySelector('#df-23e670f3-b92f-49b4-8ea5-0f3e61fc74a5');\n",
              "          const dataTable =\n",
              "            await google.colab.kernel.invokeFunction('convertToInteractive',\n",
              "                                                     [key], {});\n",
              "          if (!dataTable) return;\n",
              "\n",
              "          const docLinkHtml = 'Like what you see? Visit the ' +\n",
              "            '<a target=\"_blank\" href=https://colab.research.google.com/notebooks/data_table.ipynb>data table notebook</a>'\n",
              "            + ' to learn more about interactive tables.';\n",
              "          element.innerHTML = '';\n",
              "          dataTable['output_type'] = 'display_data';\n",
              "          await google.colab.output.renderOutput(dataTable, element);\n",
              "          const docLink = document.createElement('div');\n",
              "          docLink.innerHTML = docLinkHtml;\n",
              "          element.appendChild(docLink);\n",
              "        }\n",
              "      </script>\n",
              "    </div>\n",
              "  </div>\n",
              "  "
            ]
          },
          "metadata": {},
          "execution_count": 34
        }
      ]
    },
    {
      "cell_type": "markdown",
      "source": [
        "  <p style='text-align:justify;'> The normal value of Platelets Count ranges from 0.6 - 1.2 mg/dL. Here, we found that there are <b>102 patients with abnormal Creatinine level in the blood.</b></p>"
      ],
      "metadata": {
        "id": "pKpGWQbR1QIL"
      }
    },
    {
      "cell_type": "code",
      "source": [
        "#to find the normal value of Sodium level in the blood \n",
        "column_details_df.normal_value['serum_sodium']"
      ],
      "metadata": {
        "colab": {
          "base_uri": "https://localhost:8080/",
          "height": 36
        },
        "id": "i7sXfJh91PCP",
        "outputId": "f0d46366-aeba-4c55-bfdf-25fad1535945"
      },
      "execution_count": 35,
      "outputs": [
        {
          "output_type": "execute_result",
          "data": {
            "text/plain": [
              "'135 - 145 mEq /L'"
            ],
            "application/vnd.google.colaboratory.intrinsic+json": {
              "type": "string"
            }
          },
          "metadata": {},
          "execution_count": 35
        }
      ]
    },
    {
      "cell_type": "code",
      "source": [
        "abn_sodium = heart_failure_df[(heart_failure_df.serum_sodium < 135) | (heart_failure_df.serum_sodium >145)]\n",
        "abn_sodium "
      ],
      "metadata": {
        "colab": {
          "base_uri": "https://localhost:8080/",
          "height": 468
        },
        "id": "hd6O-17w1UtV",
        "outputId": "f27f9c48-6db6-4300-d9cf-106ccd6fd44b"
      },
      "execution_count": 36,
      "outputs": [
        {
          "output_type": "execute_result",
          "data": {
            "text/plain": [
              "     age  anaemia  diabetes  ejection_fraction  high_blood_pressure  \\\n",
              "0     75    False     False                 20                 True   \n",
              "2     65    False     False                 20                False   \n",
              "4     65     True      True                 20                False   \n",
              "5     90     True     False                 40                 True   \n",
              "7     60     True      True                 60                False   \n",
              "..   ...      ...       ...                ...                  ...   \n",
              "270   44    False      True                 30                 True   \n",
              "271   51    False      True                 40                False   \n",
              "272   67    False     False                 38                False   \n",
              "282   42    False     False                 30                False   \n",
              "287   45    False      True                 55                False   \n",
              "\n",
              "     platelets  serum_creatinine  serum_sodium     sex  smoking  patient_dead  \n",
              "0          265               1.9           130    Male    False          True  \n",
              "2          162               1.3           129    Male     True          True  \n",
              "4          327               2.7           116  Female    False          True  \n",
              "5          204               2.1           132    Male     True          True  \n",
              "7          454               1.1           131    Male     True          True  \n",
              "..         ...               ...           ...     ...      ...           ...  \n",
              "270        263               1.6           130    Male     True         False  \n",
              "271        221               0.9           134  Female    False         False  \n",
              "272        215               1.2           133  Female    False         False  \n",
              "282        215               3.8           128    Male     True         False  \n",
              "287        543               1.0           132  Female    False         False  \n",
              "\n",
              "[85 rows x 11 columns]"
            ],
            "text/html": [
              "\n",
              "  <div id=\"df-47711a8b-238b-4cc1-9e7e-869134261dc9\">\n",
              "    <div class=\"colab-df-container\">\n",
              "      <div>\n",
              "<style scoped>\n",
              "    .dataframe tbody tr th:only-of-type {\n",
              "        vertical-align: middle;\n",
              "    }\n",
              "\n",
              "    .dataframe tbody tr th {\n",
              "        vertical-align: top;\n",
              "    }\n",
              "\n",
              "    .dataframe thead th {\n",
              "        text-align: right;\n",
              "    }\n",
              "</style>\n",
              "<table border=\"1\" class=\"dataframe\">\n",
              "  <thead>\n",
              "    <tr style=\"text-align: right;\">\n",
              "      <th></th>\n",
              "      <th>age</th>\n",
              "      <th>anaemia</th>\n",
              "      <th>diabetes</th>\n",
              "      <th>ejection_fraction</th>\n",
              "      <th>high_blood_pressure</th>\n",
              "      <th>platelets</th>\n",
              "      <th>serum_creatinine</th>\n",
              "      <th>serum_sodium</th>\n",
              "      <th>sex</th>\n",
              "      <th>smoking</th>\n",
              "      <th>patient_dead</th>\n",
              "    </tr>\n",
              "  </thead>\n",
              "  <tbody>\n",
              "    <tr>\n",
              "      <th>0</th>\n",
              "      <td>75</td>\n",
              "      <td>False</td>\n",
              "      <td>False</td>\n",
              "      <td>20</td>\n",
              "      <td>True</td>\n",
              "      <td>265</td>\n",
              "      <td>1.9</td>\n",
              "      <td>130</td>\n",
              "      <td>Male</td>\n",
              "      <td>False</td>\n",
              "      <td>True</td>\n",
              "    </tr>\n",
              "    <tr>\n",
              "      <th>2</th>\n",
              "      <td>65</td>\n",
              "      <td>False</td>\n",
              "      <td>False</td>\n",
              "      <td>20</td>\n",
              "      <td>False</td>\n",
              "      <td>162</td>\n",
              "      <td>1.3</td>\n",
              "      <td>129</td>\n",
              "      <td>Male</td>\n",
              "      <td>True</td>\n",
              "      <td>True</td>\n",
              "    </tr>\n",
              "    <tr>\n",
              "      <th>4</th>\n",
              "      <td>65</td>\n",
              "      <td>True</td>\n",
              "      <td>True</td>\n",
              "      <td>20</td>\n",
              "      <td>False</td>\n",
              "      <td>327</td>\n",
              "      <td>2.7</td>\n",
              "      <td>116</td>\n",
              "      <td>Female</td>\n",
              "      <td>False</td>\n",
              "      <td>True</td>\n",
              "    </tr>\n",
              "    <tr>\n",
              "      <th>5</th>\n",
              "      <td>90</td>\n",
              "      <td>True</td>\n",
              "      <td>False</td>\n",
              "      <td>40</td>\n",
              "      <td>True</td>\n",
              "      <td>204</td>\n",
              "      <td>2.1</td>\n",
              "      <td>132</td>\n",
              "      <td>Male</td>\n",
              "      <td>True</td>\n",
              "      <td>True</td>\n",
              "    </tr>\n",
              "    <tr>\n",
              "      <th>7</th>\n",
              "      <td>60</td>\n",
              "      <td>True</td>\n",
              "      <td>True</td>\n",
              "      <td>60</td>\n",
              "      <td>False</td>\n",
              "      <td>454</td>\n",
              "      <td>1.1</td>\n",
              "      <td>131</td>\n",
              "      <td>Male</td>\n",
              "      <td>True</td>\n",
              "      <td>True</td>\n",
              "    </tr>\n",
              "    <tr>\n",
              "      <th>...</th>\n",
              "      <td>...</td>\n",
              "      <td>...</td>\n",
              "      <td>...</td>\n",
              "      <td>...</td>\n",
              "      <td>...</td>\n",
              "      <td>...</td>\n",
              "      <td>...</td>\n",
              "      <td>...</td>\n",
              "      <td>...</td>\n",
              "      <td>...</td>\n",
              "      <td>...</td>\n",
              "    </tr>\n",
              "    <tr>\n",
              "      <th>270</th>\n",
              "      <td>44</td>\n",
              "      <td>False</td>\n",
              "      <td>True</td>\n",
              "      <td>30</td>\n",
              "      <td>True</td>\n",
              "      <td>263</td>\n",
              "      <td>1.6</td>\n",
              "      <td>130</td>\n",
              "      <td>Male</td>\n",
              "      <td>True</td>\n",
              "      <td>False</td>\n",
              "    </tr>\n",
              "    <tr>\n",
              "      <th>271</th>\n",
              "      <td>51</td>\n",
              "      <td>False</td>\n",
              "      <td>True</td>\n",
              "      <td>40</td>\n",
              "      <td>False</td>\n",
              "      <td>221</td>\n",
              "      <td>0.9</td>\n",
              "      <td>134</td>\n",
              "      <td>Female</td>\n",
              "      <td>False</td>\n",
              "      <td>False</td>\n",
              "    </tr>\n",
              "    <tr>\n",
              "      <th>272</th>\n",
              "      <td>67</td>\n",
              "      <td>False</td>\n",
              "      <td>False</td>\n",
              "      <td>38</td>\n",
              "      <td>False</td>\n",
              "      <td>215</td>\n",
              "      <td>1.2</td>\n",
              "      <td>133</td>\n",
              "      <td>Female</td>\n",
              "      <td>False</td>\n",
              "      <td>False</td>\n",
              "    </tr>\n",
              "    <tr>\n",
              "      <th>282</th>\n",
              "      <td>42</td>\n",
              "      <td>False</td>\n",
              "      <td>False</td>\n",
              "      <td>30</td>\n",
              "      <td>False</td>\n",
              "      <td>215</td>\n",
              "      <td>3.8</td>\n",
              "      <td>128</td>\n",
              "      <td>Male</td>\n",
              "      <td>True</td>\n",
              "      <td>False</td>\n",
              "    </tr>\n",
              "    <tr>\n",
              "      <th>287</th>\n",
              "      <td>45</td>\n",
              "      <td>False</td>\n",
              "      <td>True</td>\n",
              "      <td>55</td>\n",
              "      <td>False</td>\n",
              "      <td>543</td>\n",
              "      <td>1.0</td>\n",
              "      <td>132</td>\n",
              "      <td>Female</td>\n",
              "      <td>False</td>\n",
              "      <td>False</td>\n",
              "    </tr>\n",
              "  </tbody>\n",
              "</table>\n",
              "<p>85 rows × 11 columns</p>\n",
              "</div>\n",
              "      <button class=\"colab-df-convert\" onclick=\"convertToInteractive('df-47711a8b-238b-4cc1-9e7e-869134261dc9')\"\n",
              "              title=\"Convert this dataframe to an interactive table.\"\n",
              "              style=\"display:none;\">\n",
              "        \n",
              "  <svg xmlns=\"http://www.w3.org/2000/svg\" height=\"24px\"viewBox=\"0 0 24 24\"\n",
              "       width=\"24px\">\n",
              "    <path d=\"M0 0h24v24H0V0z\" fill=\"none\"/>\n",
              "    <path d=\"M18.56 5.44l.94 2.06.94-2.06 2.06-.94-2.06-.94-.94-2.06-.94 2.06-2.06.94zm-11 1L8.5 8.5l.94-2.06 2.06-.94-2.06-.94L8.5 2.5l-.94 2.06-2.06.94zm10 10l.94 2.06.94-2.06 2.06-.94-2.06-.94-.94-2.06-.94 2.06-2.06.94z\"/><path d=\"M17.41 7.96l-1.37-1.37c-.4-.4-.92-.59-1.43-.59-.52 0-1.04.2-1.43.59L10.3 9.45l-7.72 7.72c-.78.78-.78 2.05 0 2.83L4 21.41c.39.39.9.59 1.41.59.51 0 1.02-.2 1.41-.59l7.78-7.78 2.81-2.81c.8-.78.8-2.07 0-2.86zM5.41 20L4 18.59l7.72-7.72 1.47 1.35L5.41 20z\"/>\n",
              "  </svg>\n",
              "      </button>\n",
              "      \n",
              "  <style>\n",
              "    .colab-df-container {\n",
              "      display:flex;\n",
              "      flex-wrap:wrap;\n",
              "      gap: 12px;\n",
              "    }\n",
              "\n",
              "    .colab-df-convert {\n",
              "      background-color: #E8F0FE;\n",
              "      border: none;\n",
              "      border-radius: 50%;\n",
              "      cursor: pointer;\n",
              "      display: none;\n",
              "      fill: #1967D2;\n",
              "      height: 32px;\n",
              "      padding: 0 0 0 0;\n",
              "      width: 32px;\n",
              "    }\n",
              "\n",
              "    .colab-df-convert:hover {\n",
              "      background-color: #E2EBFA;\n",
              "      box-shadow: 0px 1px 2px rgba(60, 64, 67, 0.3), 0px 1px 3px 1px rgba(60, 64, 67, 0.15);\n",
              "      fill: #174EA6;\n",
              "    }\n",
              "\n",
              "    [theme=dark] .colab-df-convert {\n",
              "      background-color: #3B4455;\n",
              "      fill: #D2E3FC;\n",
              "    }\n",
              "\n",
              "    [theme=dark] .colab-df-convert:hover {\n",
              "      background-color: #434B5C;\n",
              "      box-shadow: 0px 1px 3px 1px rgba(0, 0, 0, 0.15);\n",
              "      filter: drop-shadow(0px 1px 2px rgba(0, 0, 0, 0.3));\n",
              "      fill: #FFFFFF;\n",
              "    }\n",
              "  </style>\n",
              "\n",
              "      <script>\n",
              "        const buttonEl =\n",
              "          document.querySelector('#df-47711a8b-238b-4cc1-9e7e-869134261dc9 button.colab-df-convert');\n",
              "        buttonEl.style.display =\n",
              "          google.colab.kernel.accessAllowed ? 'block' : 'none';\n",
              "\n",
              "        async function convertToInteractive(key) {\n",
              "          const element = document.querySelector('#df-47711a8b-238b-4cc1-9e7e-869134261dc9');\n",
              "          const dataTable =\n",
              "            await google.colab.kernel.invokeFunction('convertToInteractive',\n",
              "                                                     [key], {});\n",
              "          if (!dataTable) return;\n",
              "\n",
              "          const docLinkHtml = 'Like what you see? Visit the ' +\n",
              "            '<a target=\"_blank\" href=https://colab.research.google.com/notebooks/data_table.ipynb>data table notebook</a>'\n",
              "            + ' to learn more about interactive tables.';\n",
              "          element.innerHTML = '';\n",
              "          dataTable['output_type'] = 'display_data';\n",
              "          await google.colab.output.renderOutput(dataTable, element);\n",
              "          const docLink = document.createElement('div');\n",
              "          docLink.innerHTML = docLinkHtml;\n",
              "          element.appendChild(docLink);\n",
              "        }\n",
              "      </script>\n",
              "    </div>\n",
              "  </div>\n",
              "  "
            ]
          },
          "metadata": {},
          "execution_count": 36
        }
      ]
    },
    {
      "cell_type": "markdown",
      "source": [
        "  <p style='text-align:justify;'> The normal value of Sodium level in the blood ranges from 135 - 145 mEq/L. Here, we found that there are <b>85 patients with abnormal Sodium level in the blood.</b></p>    "
      ],
      "metadata": {
        "id": "3zlbfLSq1Y8V"
      }
    },
    {
      "cell_type": "markdown",
      "source": [
        "#Sample Data\n",
        "We've now cleaned up and prepared the dataset for our analysis. Let's take a look at a sample of rows from the data frame."
      ],
      "metadata": {
        "id": "dyyoYLm11hlC"
      }
    },
    {
      "cell_type": "code",
      "source": [
        "heart_failure_df.sample(5)"
      ],
      "metadata": {
        "colab": {
          "base_uri": "https://localhost:8080/",
          "height": 206
        },
        "id": "oP22bZsQ1Xrm",
        "outputId": "5d9efef8-85e7-4e40-e8b4-018c1a3c75ce"
      },
      "execution_count": 37,
      "outputs": [
        {
          "output_type": "execute_result",
          "data": {
            "text/plain": [
              "     age  anaemia  diabetes  ejection_fraction  high_blood_pressure  \\\n",
              "10    75     True     False                 38                 True   \n",
              "293   63     True      True                 35                False   \n",
              "91    60    False      True                 45                False   \n",
              "81    67    False     False                 50                False   \n",
              "40    70    False     False                 20                 True   \n",
              "\n",
              "     platelets  serum_creatinine  serum_sodium   sex  smoking  patient_dead  \n",
              "10         368              4.00           131  Male     True          True  \n",
              "293        179              0.90           136  Male     True         False  \n",
              "91         297              1.00           133  Male    False         False  \n",
              "81         263              1.18           137  Male     True         False  \n",
              "40         263              1.83           134  Male     True          True  "
            ],
            "text/html": [
              "\n",
              "  <div id=\"df-8f28e8aa-0455-4da9-be15-cf8a2e5a32d6\">\n",
              "    <div class=\"colab-df-container\">\n",
              "      <div>\n",
              "<style scoped>\n",
              "    .dataframe tbody tr th:only-of-type {\n",
              "        vertical-align: middle;\n",
              "    }\n",
              "\n",
              "    .dataframe tbody tr th {\n",
              "        vertical-align: top;\n",
              "    }\n",
              "\n",
              "    .dataframe thead th {\n",
              "        text-align: right;\n",
              "    }\n",
              "</style>\n",
              "<table border=\"1\" class=\"dataframe\">\n",
              "  <thead>\n",
              "    <tr style=\"text-align: right;\">\n",
              "      <th></th>\n",
              "      <th>age</th>\n",
              "      <th>anaemia</th>\n",
              "      <th>diabetes</th>\n",
              "      <th>ejection_fraction</th>\n",
              "      <th>high_blood_pressure</th>\n",
              "      <th>platelets</th>\n",
              "      <th>serum_creatinine</th>\n",
              "      <th>serum_sodium</th>\n",
              "      <th>sex</th>\n",
              "      <th>smoking</th>\n",
              "      <th>patient_dead</th>\n",
              "    </tr>\n",
              "  </thead>\n",
              "  <tbody>\n",
              "    <tr>\n",
              "      <th>10</th>\n",
              "      <td>75</td>\n",
              "      <td>True</td>\n",
              "      <td>False</td>\n",
              "      <td>38</td>\n",
              "      <td>True</td>\n",
              "      <td>368</td>\n",
              "      <td>4.00</td>\n",
              "      <td>131</td>\n",
              "      <td>Male</td>\n",
              "      <td>True</td>\n",
              "      <td>True</td>\n",
              "    </tr>\n",
              "    <tr>\n",
              "      <th>293</th>\n",
              "      <td>63</td>\n",
              "      <td>True</td>\n",
              "      <td>True</td>\n",
              "      <td>35</td>\n",
              "      <td>False</td>\n",
              "      <td>179</td>\n",
              "      <td>0.90</td>\n",
              "      <td>136</td>\n",
              "      <td>Male</td>\n",
              "      <td>True</td>\n",
              "      <td>False</td>\n",
              "    </tr>\n",
              "    <tr>\n",
              "      <th>91</th>\n",
              "      <td>60</td>\n",
              "      <td>False</td>\n",
              "      <td>True</td>\n",
              "      <td>45</td>\n",
              "      <td>False</td>\n",
              "      <td>297</td>\n",
              "      <td>1.00</td>\n",
              "      <td>133</td>\n",
              "      <td>Male</td>\n",
              "      <td>False</td>\n",
              "      <td>False</td>\n",
              "    </tr>\n",
              "    <tr>\n",
              "      <th>81</th>\n",
              "      <td>67</td>\n",
              "      <td>False</td>\n",
              "      <td>False</td>\n",
              "      <td>50</td>\n",
              "      <td>False</td>\n",
              "      <td>263</td>\n",
              "      <td>1.18</td>\n",
              "      <td>137</td>\n",
              "      <td>Male</td>\n",
              "      <td>True</td>\n",
              "      <td>False</td>\n",
              "    </tr>\n",
              "    <tr>\n",
              "      <th>40</th>\n",
              "      <td>70</td>\n",
              "      <td>False</td>\n",
              "      <td>False</td>\n",
              "      <td>20</td>\n",
              "      <td>True</td>\n",
              "      <td>263</td>\n",
              "      <td>1.83</td>\n",
              "      <td>134</td>\n",
              "      <td>Male</td>\n",
              "      <td>True</td>\n",
              "      <td>True</td>\n",
              "    </tr>\n",
              "  </tbody>\n",
              "</table>\n",
              "</div>\n",
              "      <button class=\"colab-df-convert\" onclick=\"convertToInteractive('df-8f28e8aa-0455-4da9-be15-cf8a2e5a32d6')\"\n",
              "              title=\"Convert this dataframe to an interactive table.\"\n",
              "              style=\"display:none;\">\n",
              "        \n",
              "  <svg xmlns=\"http://www.w3.org/2000/svg\" height=\"24px\"viewBox=\"0 0 24 24\"\n",
              "       width=\"24px\">\n",
              "    <path d=\"M0 0h24v24H0V0z\" fill=\"none\"/>\n",
              "    <path d=\"M18.56 5.44l.94 2.06.94-2.06 2.06-.94-2.06-.94-.94-2.06-.94 2.06-2.06.94zm-11 1L8.5 8.5l.94-2.06 2.06-.94-2.06-.94L8.5 2.5l-.94 2.06-2.06.94zm10 10l.94 2.06.94-2.06 2.06-.94-2.06-.94-.94-2.06-.94 2.06-2.06.94z\"/><path d=\"M17.41 7.96l-1.37-1.37c-.4-.4-.92-.59-1.43-.59-.52 0-1.04.2-1.43.59L10.3 9.45l-7.72 7.72c-.78.78-.78 2.05 0 2.83L4 21.41c.39.39.9.59 1.41.59.51 0 1.02-.2 1.41-.59l7.78-7.78 2.81-2.81c.8-.78.8-2.07 0-2.86zM5.41 20L4 18.59l7.72-7.72 1.47 1.35L5.41 20z\"/>\n",
              "  </svg>\n",
              "      </button>\n",
              "      \n",
              "  <style>\n",
              "    .colab-df-container {\n",
              "      display:flex;\n",
              "      flex-wrap:wrap;\n",
              "      gap: 12px;\n",
              "    }\n",
              "\n",
              "    .colab-df-convert {\n",
              "      background-color: #E8F0FE;\n",
              "      border: none;\n",
              "      border-radius: 50%;\n",
              "      cursor: pointer;\n",
              "      display: none;\n",
              "      fill: #1967D2;\n",
              "      height: 32px;\n",
              "      padding: 0 0 0 0;\n",
              "      width: 32px;\n",
              "    }\n",
              "\n",
              "    .colab-df-convert:hover {\n",
              "      background-color: #E2EBFA;\n",
              "      box-shadow: 0px 1px 2px rgba(60, 64, 67, 0.3), 0px 1px 3px 1px rgba(60, 64, 67, 0.15);\n",
              "      fill: #174EA6;\n",
              "    }\n",
              "\n",
              "    [theme=dark] .colab-df-convert {\n",
              "      background-color: #3B4455;\n",
              "      fill: #D2E3FC;\n",
              "    }\n",
              "\n",
              "    [theme=dark] .colab-df-convert:hover {\n",
              "      background-color: #434B5C;\n",
              "      box-shadow: 0px 1px 3px 1px rgba(0, 0, 0, 0.15);\n",
              "      filter: drop-shadow(0px 1px 2px rgba(0, 0, 0, 0.3));\n",
              "      fill: #FFFFFF;\n",
              "    }\n",
              "  </style>\n",
              "\n",
              "      <script>\n",
              "        const buttonEl =\n",
              "          document.querySelector('#df-8f28e8aa-0455-4da9-be15-cf8a2e5a32d6 button.colab-df-convert');\n",
              "        buttonEl.style.display =\n",
              "          google.colab.kernel.accessAllowed ? 'block' : 'none';\n",
              "\n",
              "        async function convertToInteractive(key) {\n",
              "          const element = document.querySelector('#df-8f28e8aa-0455-4da9-be15-cf8a2e5a32d6');\n",
              "          const dataTable =\n",
              "            await google.colab.kernel.invokeFunction('convertToInteractive',\n",
              "                                                     [key], {});\n",
              "          if (!dataTable) return;\n",
              "\n",
              "          const docLinkHtml = 'Like what you see? Visit the ' +\n",
              "            '<a target=\"_blank\" href=https://colab.research.google.com/notebooks/data_table.ipynb>data table notebook</a>'\n",
              "            + ' to learn more about interactive tables.';\n",
              "          element.innerHTML = '';\n",
              "          dataTable['output_type'] = 'display_data';\n",
              "          await google.colab.output.renderOutput(dataTable, element);\n",
              "          const docLink = document.createElement('div');\n",
              "          docLink.innerHTML = docLinkHtml;\n",
              "          element.appendChild(docLink);\n",
              "        }\n",
              "      </script>\n",
              "    </div>\n",
              "  </div>\n",
              "  "
            ]
          },
          "metadata": {},
          "execution_count": 37
        }
      ]
    },
    {
      "cell_type": "markdown",
      "source": [
        "#Exploratory Data Analysis & Visualization\n",
        "Data visualization is the representation of data through use of common graphics, such as charts, plots, infographics, and even animations. These visual displays of information communicate complex data relationships and data-driven insights in a way that is easy to understand.\n",
        "\n",
        "Let's install and import \"seaborn\" library as \"sns\" and \"matplotlib.pyplot\" module as \"plt\" to perform some visualization operations on our data frame to understand the distribution and relationships of attributes."
      ],
      "metadata": {
        "id": "qZyT4SC02BJq"
      }
    },
    {
      "cell_type": "code",
      "source": [
        "#import seaborn and matplotlib.pyplot \n",
        "import seaborn as sns\n",
        "import matplotlib\n",
        "import matplotlib.pyplot as plt\n",
        "import matplotlib.patches as mpatches\n",
        "%matplotlib inline \n",
        "#set some default style for our graphs\n",
        "sns.set_style('darkgrid')\n",
        "matplotlib.rcParams['font.size'] = 14\n",
        "matplotlib.rcParams['figure.figsize'] = (9, 5)\n",
        "matplotlib.rcParams['figure.facecolor'] = 'white'"
      ],
      "metadata": {
        "id": "v9ljI1_j1nS9"
      },
      "execution_count": 38,
      "outputs": []
    },
    {
      "cell_type": "markdown",
      "source": [
        "#Age\n",
        "\n",
        "  <p style='text-align:justify;'> Let's have a look at the distribution of age of the heart failure patients recorded in our dataset by using \"hist\" function from \"matplotlib.pyplot\" which is used to create histograms.</p>\n",
        "\n",
        "  <p style='text-align:justify;'><b> \"A histogram represents the distribution of a variable by creating bins (interval) along the range of values and showing vertical bars to indicate the number of observations in each bin\".</b></p>\n"
      ],
      "metadata": {
        "id": "4OqSCOY12QbJ"
      }
    },
    {
      "cell_type": "code",
      "source": [
        "plt.hist(heart_failure_df.age, bins=np.arange(40,100, 5), color ='mediumpurple')\n",
        "plt.xlabel(\"Age of Patients (Years)\")\n",
        "plt.ylabel(\"Number of Patients\")\n",
        "plt.title(\"Distribution of Age\");"
      ],
      "metadata": {
        "colab": {
          "base_uri": "https://localhost:8080/",
          "height": 362
        },
        "id": "jzRPnURM2LJm",
        "outputId": "89ff5098-8046-49bc-c05f-07fb5d4e1294"
      },
      "execution_count": 39,
      "outputs": [
        {
          "output_type": "display_data",
          "data": {
            "text/plain": [
              "<Figure size 648x360 with 1 Axes>"
            ],
            "image/png": "[encoded data removed]"
          },
          "metadata": {}
        }
      ]
    },
    {
      "cell_type": "markdown",
      "source": [
        "  <p style='text-align:justify;'> From the above histogram, it's clear that most of the patients falls under 60-65 age group and the next place goes to 50-55 age group.</p>\n",
        "  <p style='text-align:justify;'> \n",
        "The life expectancy of a person in Pakistan in 2015 was approximately 67 years. It's obvious that the number of patients recorded starts declining from 65-70 age group. You can see the complete list of life expectancy of people in Pakistan (1950 - 2021) using the link given in the reference section.</p>"
      ],
      "metadata": {
        "id": "eA9OBvbe2v5K"
      }
    },
    {
      "cell_type": "markdown",
      "source": [
        "#Gender\n",
        "The distribution of gender of the Heart Failure patients is another crucial factor to look at. Let's visualize the gender distribution using pie chart."
      ],
      "metadata": {
        "id": "g5l8FB8F217h"
      }
    },
    {
      "cell_type": "code",
      "source": [
        "#to store the gender counts into a variable\n",
        "gender_counts = heart_failure_df.sex.value_counts()"
      ],
      "metadata": {
        "id": "vSXP896e2cT2"
      },
      "execution_count": 40,
      "outputs": []
    },
    {
      "cell_type": "code",
      "source": [
        "plt.figure(figsize=(12, 6))\n",
        "plt.pie(gender_counts, labels = gender_counts.index, autopct ='%.1f%%', startangle = 90, explode = [0.1, 0], colors = ['lightskyblue', 'plum'])\n",
        "plt.title(\"Gender Distribution (Male or Female)\");"
      ],
      "metadata": {
        "colab": {
          "base_uri": "https://localhost:8080/",
          "height": 377
        },
        "id": "xhCjsPCf25ms",
        "outputId": "03e63cdd-71ca-468c-8ba8-87d080ae73f7"
      },
      "execution_count": 41,
      "outputs": [
        {
          "output_type": "display_data",
          "data": {
            "text/plain": [
              "<Figure size 864x432 with 1 Axes>"
            ],
            "image/png": "[encoded data removed]"
          },
          "metadata": {}
        }
      ]
    },
    {
      "cell_type": "markdown",
      "source": [
        "  <p style='text-align:justify;'> As we can clearly see, only 35.1% of the heart failure patients were female in our observation. This means that we have more number of male patients when compared to females in the dataset. So, we can easily say that this dataset is slightly imbalanced. </p>"
      ],
      "metadata": {
        "id": "2QJEYGoH2-Yp"
      }
    },
    {
      "cell_type": "markdown",
      "source": [
        "#Death\n",
        "Let's check the relationship between death of the patients and their age group and gender.\n",
        "\n",
        "#Death Rate\n",
        "An important factor to look at is the percentage of patients died during the follow-up period. Let's use pie chart to visualize."
      ],
      "metadata": {
        "id": "cF-mi8ja3PIQ"
      }
    },
    {
      "cell_type": "code",
      "source": [
        "#count number of patients dead\n",
        "dead_counts = heart_failure_df.patient_dead.value_counts()\n",
        "dead_counts "
      ],
      "metadata": {
        "colab": {
          "base_uri": "https://localhost:8080/"
        },
        "id": "ZJ-qJpoM27n6",
        "outputId": "9624d11f-f9fa-4dcc-ec74-47929ac83c96"
      },
      "execution_count": 42,
      "outputs": [
        {
          "output_type": "execute_result",
          "data": {
            "text/plain": [
              "False    203\n",
              "True      96\n",
              "Name: patient_dead, dtype: int64"
            ]
          },
          "metadata": {},
          "execution_count": 42
        }
      ]
    },
    {
      "cell_type": "code",
      "source": [
        "plt.figure(figsize=(12, 6))\n",
        "plt.pie(dead_counts, labels = ['Alive', 'Dead'] , autopct ='%.1f%%', startangle = 90, explode=[0.1, 0], colors =['aquamarine', 'lightcoral'])\n",
        "plt.title(\"% of Patients Dead & Alive\");"
      ],
      "metadata": {
        "colab": {
          "base_uri": "https://localhost:8080/",
          "height": 377
        },
        "id": "b1h4wvZX3UFE",
        "outputId": "7980ff90-2525-4563-8783-b99e3781f9ca"
      },
      "execution_count": 43,
      "outputs": [
        {
          "output_type": "display_data",
          "data": {
            "text/plain": [
              "<Figure size 864x432 with 1 Axes>"
            ],
            "image/png": "[encoded data removed]"
          },
          "metadata": {}
        }
      ]
    },
    {
      "cell_type": "markdown",
      "source": [
        "  <p style='text-align:justify;'> As we can clearly see that, the percentage of patients died during the follow-up period is 32.1%. This might be because the data mentioned in our data frame corresponds to only the certain period of time (April'15 - December'15) and more number of patients might have died after this period which isn't recorded. </p>"
      ],
      "metadata": {
        "id": "TILM8XSy3e6Y"
      }
    },
    {
      "cell_type": "markdown",
      "source": [
        "#Death and Age Group\n",
        "Let's define a helper function to create another column in our actual data frame which describes the age group of the heart failure patients. Since, the age of patients ranges from 40 to 95 years. Let's group them into a category like '40-45', '45-50', '50-55', '55-60' and so on. Age groups of the patient helps us to easily understand and visualize relationship of various attributes with age."
      ],
      "metadata": {
        "id": "V9dV2cML3j-2"
      }
    },
    {
      "cell_type": "code",
      "source": [
        "def create_range_series(number_series):\n",
        "    \"\"\"Creates a series with range(group) for the numeric values \n",
        "    provided in another series which is passed as an argument.\n",
        "    This function takes only one argument which is (Pandas) series object, \n",
        "    returns another (Pandas) series object. \n",
        "    \n",
        "    Argument:\n",
        "        number_series - A column in pandas data frame with numeric values. \n",
        "    \"\"\"\n",
        "    condition = [\n",
        "    (number_series >= 0) & (number_series < 5), \n",
        "    (number_series >= 5) & (number_series < 10), \n",
        "    (number_series >= 10) & (number_series < 15), \n",
        "    (number_series >= 15) & (number_series < 20), \n",
        "    (number_series >= 20) & (number_series < 25), \n",
        "    (number_series >= 25) & (number_series < 30), \n",
        "    (number_series >= 30) & (number_series < 35), \n",
        "    (number_series >= 35) & (number_series < 40), \n",
        "    (number_series >= 40) & (number_series < 45), \n",
        "    (number_series >= 45) & (number_series < 50), \n",
        "    (number_series >= 50) & (number_series < 55), \n",
        "    (number_series >= 55) & (number_series < 60), \n",
        "    (number_series >= 60) & (number_series < 65), \n",
        "    (number_series >= 65) & (number_series < 70), \n",
        "    (number_series >= 70) & (number_series < 75), \n",
        "    (number_series >= 75) & (number_series < 80), \n",
        "    (number_series >= 80) & (number_series < 85), \n",
        "    (number_series >= 85) & (number_series < 90), \n",
        "    (number_series >= 90) & (number_series < 95), \n",
        "    (number_series >= 95) & (number_series < 100)\n",
        "    ]\n",
        "    \n",
        "    output = ['0-5', \n",
        "              '5-10', \n",
        "              '10-15', \n",
        "              '15-20', \n",
        "              '20-25', \n",
        "              '25-30', \n",
        "              '30-35', \n",
        "              '35-40', \n",
        "              '40-45', \n",
        "              '45-50', \n",
        "              '50-55', \n",
        "              '55-60', \n",
        "              '60-65', \n",
        "              '65-70', \n",
        "              '70-75', \n",
        "              '75-80', \n",
        "              '80-85', \n",
        "              '85-90', \n",
        "              '90-95', \n",
        "              '95-100'\n",
        "              ] \n",
        "    result = np.select(condition, output, '>100')\n",
        "    return pd.Series(result)"
      ],
      "metadata": {
        "id": "FaVr2dmG3fjj"
      },
      "execution_count": 44,
      "outputs": []
    },
    {
      "cell_type": "code",
      "source": [
        "#to create a column with age group \n",
        "heart_failure_df['age_group'] = create_range_series(heart_failure_df.age)\n",
        "heart_failure_df"
      ],
      "metadata": {
        "colab": {
          "base_uri": "https://localhost:8080/",
          "height": 488
        },
        "id": "B0Ug_PBe3sjG",
        "outputId": "0b156f70-4425-4c7a-c5de-e0415caf5bff"
      },
      "execution_count": 45,
      "outputs": [
        {
          "output_type": "execute_result",
          "data": {
            "text/plain": [
              "     age  anaemia  diabetes  ejection_fraction  high_blood_pressure  \\\n",
              "0     75    False     False                 20                 True   \n",
              "1     55    False     False                 38                False   \n",
              "2     65    False     False                 20                False   \n",
              "3     50     True     False                 20                False   \n",
              "4     65     True      True                 20                False   \n",
              "..   ...      ...       ...                ...                  ...   \n",
              "294   62    False      True                 38                 True   \n",
              "295   55    False     False                 38                False   \n",
              "296   45    False      True                 60                False   \n",
              "297   45    False     False                 38                False   \n",
              "298   50    False     False                 45                False   \n",
              "\n",
              "     platelets  serum_creatinine  serum_sodium     sex  smoking  patient_dead  \\\n",
              "0          265               1.9           130    Male    False          True   \n",
              "1          263               1.1           136    Male    False          True   \n",
              "2          162               1.3           129    Male     True          True   \n",
              "3          210               1.9           137    Male    False          True   \n",
              "4          327               2.7           116  Female    False          True   \n",
              "..         ...               ...           ...     ...      ...           ...   \n",
              "294        155               1.1           143    Male     True         False   \n",
              "295        270               1.2           139  Female    False         False   \n",
              "296        742               0.8           138  Female    False         False   \n",
              "297        140               1.4           140    Male     True         False   \n",
              "298        395               1.6           136    Male     True         False   \n",
              "\n",
              "    age_group  \n",
              "0       75-80  \n",
              "1       55-60  \n",
              "2       65-70  \n",
              "3       50-55  \n",
              "4       65-70  \n",
              "..        ...  \n",
              "294     60-65  \n",
              "295     55-60  \n",
              "296     45-50  \n",
              "297     45-50  \n",
              "298     50-55  \n",
              "\n",
              "[299 rows x 12 columns]"
            ],
            "text/html": [
              "\n",
              "  <div id=\"df-69b8944a-fc3a-40aa-8b3b-4438cb9bdbd6\">\n",
              "    <div class=\"colab-df-container\">\n",
              "      <div>\n",
              "<style scoped>\n",
              "    .dataframe tbody tr th:only-of-type {\n",
              "        vertical-align: middle;\n",
              "    }\n",
              "\n",
              "    .dataframe tbody tr th {\n",
              "        vertical-align: top;\n",
              "    }\n",
              "\n",
              "    .dataframe thead th {\n",
              "        text-align: right;\n",
              "    }\n",
              "</style>\n",
              "<table border=\"1\" class=\"dataframe\">\n",
              "  <thead>\n",
              "    <tr style=\"text-align: right;\">\n",
              "      <th></th>\n",
              "      <th>age</th>\n",
              "      <th>anaemia</th>\n",
              "      <th>diabetes</th>\n",
              "      <th>ejection_fraction</th>\n",
              "      <th>high_blood_pressure</th>\n",
              "      <th>platelets</th>\n",
              "      <th>serum_creatinine</th>\n",
              "      <th>serum_sodium</th>\n",
              "      <th>sex</th>\n",
              "      <th>smoking</th>\n",
              "      <th>patient_dead</th>\n",
              "      <th>age_group</th>\n",
              "    </tr>\n",
              "  </thead>\n",
              "  <tbody>\n",
              "    <tr>\n",
              "      <th>0</th>\n",
              "      <td>75</td>\n",
              "      <td>False</td>\n",
              "      <td>False</td>\n",
              "      <td>20</td>\n",
              "      <td>True</td>\n",
              "      <td>265</td>\n",
              "      <td>1.9</td>\n",
              "      <td>130</td>\n",
              "      <td>Male</td>\n",
              "      <td>False</td>\n",
              "      <td>True</td>\n",
              "      <td>75-80</td>\n",
              "    </tr>\n",
              "    <tr>\n",
              "      <th>1</th>\n",
              "      <td>55</td>\n",
              "      <td>False</td>\n",
              "      <td>False</td>\n",
              "      <td>38</td>\n",
              "      <td>False</td>\n",
              "      <td>263</td>\n",
              "      <td>1.1</td>\n",
              "      <td>136</td>\n",
              "      <td>Male</td>\n",
              "      <td>False</td>\n",
              "      <td>True</td>\n",
              "      <td>55-60</td>\n",
              "    </tr>\n",
              "    <tr>\n",
              "      <th>2</th>\n",
              "      <td>65</td>\n",
              "      <td>False</td>\n",
              "      <td>False</td>\n",
              "      <td>20</td>\n",
              "      <td>False</td>\n",
              "      <td>162</td>\n",
              "      <td>1.3</td>\n",
              "      <td>129</td>\n",
              "      <td>Male</td>\n",
              "      <td>True</td>\n",
              "      <td>True</td>\n",
              "      <td>65-70</td>\n",
              "    </tr>\n",
              "    <tr>\n",
              "      <th>3</th>\n",
              "      <td>50</td>\n",
              "      <td>True</td>\n",
              "      <td>False</td>\n",
              "      <td>20</td>\n",
              "      <td>False</td>\n",
              "      <td>210</td>\n",
              "      <td>1.9</td>\n",
              "      <td>137</td>\n",
              "      <td>Male</td>\n",
              "      <td>False</td>\n",
              "      <td>True</td>\n",
              "      <td>50-55</td>\n",
              "    </tr>\n",
              "    <tr>\n",
              "      <th>4</th>\n",
              "      <td>65</td>\n",
              "      <td>True</td>\n",
              "      <td>True</td>\n",
              "      <td>20</td>\n",
              "      <td>False</td>\n",
              "      <td>327</td>\n",
              "      <td>2.7</td>\n",
              "      <td>116</td>\n",
              "      <td>Female</td>\n",
              "      <td>False</td>\n",
              "      <td>True</td>\n",
              "      <td>65-70</td>\n",
              "    </tr>\n",
              "    <tr>\n",
              "      <th>...</th>\n",
              "      <td>...</td>\n",
              "      <td>...</td>\n",
              "      <td>...</td>\n",
              "      <td>...</td>\n",
              "      <td>...</td>\n",
              "      <td>...</td>\n",
              "      <td>...</td>\n",
              "      <td>...</td>\n",
              "      <td>...</td>\n",
              "      <td>...</td>\n",
              "      <td>...</td>\n",
              "      <td>...</td>\n",
              "    </tr>\n",
              "    <tr>\n",
              "      <th>294</th>\n",
              "      <td>62</td>\n",
              "      <td>False</td>\n",
              "      <td>True</td>\n",
              "      <td>38</td>\n",
              "      <td>True</td>\n",
              "      <td>155</td>\n",
              "      <td>1.1</td>\n",
              "      <td>143</td>\n",
              "      <td>Male</td>\n",
              "      <td>True</td>\n",
              "      <td>False</td>\n",
              "      <td>60-65</td>\n",
              "    </tr>\n",
              "    <tr>\n",
              "      <th>295</th>\n",
              "      <td>55</td>\n",
              "      <td>False</td>\n",
              "      <td>False</td>\n",
              "      <td>38</td>\n",
              "      <td>False</td>\n",
              "      <td>270</td>\n",
              "      <td>1.2</td>\n",
              "      <td>139</td>\n",
              "      <td>Female</td>\n",
              "      <td>False</td>\n",
              "      <td>False</td>\n",
              "      <td>55-60</td>\n",
              "    </tr>\n",
              "    <tr>\n",
              "      <th>296</th>\n",
              "      <td>45</td>\n",
              "      <td>False</td>\n",
              "      <td>True</td>\n",
              "      <td>60</td>\n",
              "      <td>False</td>\n",
              "      <td>742</td>\n",
              "      <td>0.8</td>\n",
              "      <td>138</td>\n",
              "      <td>Female</td>\n",
              "      <td>False</td>\n",
              "      <td>False</td>\n",
              "      <td>45-50</td>\n",
              "    </tr>\n",
              "    <tr>\n",
              "      <th>297</th>\n",
              "      <td>45</td>\n",
              "      <td>False</td>\n",
              "      <td>False</td>\n",
              "      <td>38</td>\n",
              "      <td>False</td>\n",
              "      <td>140</td>\n",
              "      <td>1.4</td>\n",
              "      <td>140</td>\n",
              "      <td>Male</td>\n",
              "      <td>True</td>\n",
              "      <td>False</td>\n",
              "      <td>45-50</td>\n",
              "    </tr>\n",
              "    <tr>\n",
              "      <th>298</th>\n",
              "      <td>50</td>\n",
              "      <td>False</td>\n",
              "      <td>False</td>\n",
              "      <td>45</td>\n",
              "      <td>False</td>\n",
              "      <td>395</td>\n",
              "      <td>1.6</td>\n",
              "      <td>136</td>\n",
              "      <td>Male</td>\n",
              "      <td>True</td>\n",
              "      <td>False</td>\n",
              "      <td>50-55</td>\n",
              "    </tr>\n",
              "  </tbody>\n",
              "</table>\n",
              "<p>299 rows × 12 columns</p>\n",
              "</div>\n",
              "      <button class=\"colab-df-convert\" onclick=\"convertToInteractive('df-69b8944a-fc3a-40aa-8b3b-4438cb9bdbd6')\"\n",
              "              title=\"Convert this dataframe to an interactive table.\"\n",
              "              style=\"display:none;\">\n",
              "        \n",
              "  <svg xmlns=\"http://www.w3.org/2000/svg\" height=\"24px\"viewBox=\"0 0 24 24\"\n",
              "       width=\"24px\">\n",
              "    <path d=\"M0 0h24v24H0V0z\" fill=\"none\"/>\n",
              "    <path d=\"M18.56 5.44l.94 2.06.94-2.06 2.06-.94-2.06-.94-.94-2.06-.94 2.06-2.06.94zm-11 1L8.5 8.5l.94-2.06 2.06-.94-2.06-.94L8.5 2.5l-.94 2.06-2.06.94zm10 10l.94 2.06.94-2.06 2.06-.94-2.06-.94-.94-2.06-.94 2.06-2.06.94z\"/><path d=\"M17.41 7.96l-1.37-1.37c-.4-.4-.92-.59-1.43-.59-.52 0-1.04.2-1.43.59L10.3 9.45l-7.72 7.72c-.78.78-.78 2.05 0 2.83L4 21.41c.39.39.9.59 1.41.59.51 0 1.02-.2 1.41-.59l7.78-7.78 2.81-2.81c.8-.78.8-2.07 0-2.86zM5.41 20L4 18.59l7.72-7.72 1.47 1.35L5.41 20z\"/>\n",
              "  </svg>\n",
              "      </button>\n",
              "      \n",
              "  <style>\n",
              "    .colab-df-container {\n",
              "      display:flex;\n",
              "      flex-wrap:wrap;\n",
              "      gap: 12px;\n",
              "    }\n",
              "\n",
              "    .colab-df-convert {\n",
              "      background-color: #E8F0FE;\n",
              "      border: none;\n",
              "      border-radius: 50%;\n",
              "      cursor: pointer;\n",
              "      display: none;\n",
              "      fill: #1967D2;\n",
              "      height: 32px;\n",
              "      padding: 0 0 0 0;\n",
              "      width: 32px;\n",
              "    }\n",
              "\n",
              "    .colab-df-convert:hover {\n",
              "      background-color: #E2EBFA;\n",
              "      box-shadow: 0px 1px 2px rgba(60, 64, 67, 0.3), 0px 1px 3px 1px rgba(60, 64, 67, 0.15);\n",
              "      fill: #174EA6;\n",
              "    }\n",
              "\n",
              "    [theme=dark] .colab-df-convert {\n",
              "      background-color: #3B4455;\n",
              "      fill: #D2E3FC;\n",
              "    }\n",
              "\n",
              "    [theme=dark] .colab-df-convert:hover {\n",
              "      background-color: #434B5C;\n",
              "      box-shadow: 0px 1px 3px 1px rgba(0, 0, 0, 0.15);\n",
              "      filter: drop-shadow(0px 1px 2px rgba(0, 0, 0, 0.3));\n",
              "      fill: #FFFFFF;\n",
              "    }\n",
              "  </style>\n",
              "\n",
              "      <script>\n",
              "        const buttonEl =\n",
              "          document.querySelector('#df-69b8944a-fc3a-40aa-8b3b-4438cb9bdbd6 button.colab-df-convert');\n",
              "        buttonEl.style.display =\n",
              "          google.colab.kernel.accessAllowed ? 'block' : 'none';\n",
              "\n",
              "        async function convertToInteractive(key) {\n",
              "          const element = document.querySelector('#df-69b8944a-fc3a-40aa-8b3b-4438cb9bdbd6');\n",
              "          const dataTable =\n",
              "            await google.colab.kernel.invokeFunction('convertToInteractive',\n",
              "                                                     [key], {});\n",
              "          if (!dataTable) return;\n",
              "\n",
              "          const docLinkHtml = 'Like what you see? Visit the ' +\n",
              "            '<a target=\"_blank\" href=https://colab.research.google.com/notebooks/data_table.ipynb>data table notebook</a>'\n",
              "            + ' to learn more about interactive tables.';\n",
              "          element.innerHTML = '';\n",
              "          dataTable['output_type'] = 'display_data';\n",
              "          await google.colab.output.renderOutput(dataTable, element);\n",
              "          const docLink = document.createElement('div');\n",
              "          docLink.innerHTML = docLinkHtml;\n",
              "          element.appendChild(docLink);\n",
              "        }\n",
              "      </script>\n",
              "    </div>\n",
              "  </div>\n",
              "  "
            ]
          },
          "metadata": {},
          "execution_count": 45
        }
      ]
    },
    {
      "cell_type": "markdown",
      "source": [
        "  <p style='text-align:justify;'> Now that we have created another column in our 'heart_failure_df' data frame for the age groups using our helper function 'create_range_series', let's find the number of patients dead corresponding to the particular age group. </p>"
      ],
      "metadata": {
        "id": "MonmPSUu30Ug"
      }
    },
    {
      "cell_type": "code",
      "source": [
        "dead_patients = heart_failure_df[heart_failure_df.patient_dead == True].groupby('age_group').count()\n",
        "alive_patients = heart_failure_df[heart_failure_df.patient_dead == False].groupby('age_group').count()"
      ],
      "metadata": {
        "id": "Yi8jvueh3wpM"
      },
      "execution_count": 46,
      "outputs": []
    },
    {
      "cell_type": "code",
      "source": [
        "plt.figure(figsize=(12,10))\n",
        "sns.barplot(x = dead_patients.index , y = dead_patients.patient_dead, alpha=1, palette =['red'])\n",
        "sns.barplot(x = alive_patients.index, y = alive_patients.patient_dead, alpha = 0.5, palette = ['aquamarine'], estimator=sum, ci=None, )\n",
        "plt.title('Dead or Alive')\n",
        "plt.xlabel('Age group of Patients')\n",
        "dead = mpatches.Patch(color= 'red', label='Dead')\n",
        "alive = mpatches.Patch(color='aquamarine', label='Alive')\n",
        "plt.legend(handles=[dead, alive])\n",
        "plt.ylabel('Number of Patients');"
      ],
      "metadata": {
        "colab": {
          "base_uri": "https://localhost:8080/",
          "height": 634
        },
        "id": "xWwGsABY34DA",
        "outputId": "29543592-5be7-493f-c08b-677d78af7237"
      },
      "execution_count": 47,
      "outputs": [
        {
          "output_type": "display_data",
          "data": {
            "text/plain": [
              "<Figure size 864x720 with 1 Axes>"
            ],
            "image/png": "[encoded data removed]"
          },
          "metadata": {}
        }
      ]
    },
    {
      "cell_type": "markdown",
      "source": [
        "  <p style='text-align:justify;'> As we can clearly see, that there are more number of patients died (during the follow-up period is) in 60-65 age group (i.e 15 Patients). It's obvious, since we have more number of patients in 60-65 age group. And the proportion of patients died starts increasing from 65-70 age group and the number of patients died is more than alive patients in the age group of '80-85', '85-90' and '90-95'. This is because over the time, the body’s immune system naturally becomes less capable of handling new threats, such as viruses including novel corona virus. This increases the risk of having issues with various illnesses which ultimately leads to their end. </p>"
      ],
      "metadata": {
        "id": "xGZT_F7u4CJm"
      }
    },
    {
      "cell_type": "markdown",
      "source": [
        "#Death and Gender\n",
        "We already have a look at the relationship between the different age groups and death rate. Now let's have a look at how the death rate varies with respect to patients gender. Let's use 'countplot' function from seaborn library to visualize."
      ],
      "metadata": {
        "id": "-uuvOva84HWJ"
      }
    },
    {
      "cell_type": "code",
      "source": [
        "sns.countplot(x = heart_failure_df.patient_dead, hue = heart_failure_df.sex, palette =['lightskyblue', 'plum'])\n",
        "plt.title('Dead or Alive')\n",
        "plt.xlabel('Patient Dead')\n",
        "plt.ylabel('Number of Patients');"
      ],
      "metadata": {
        "colab": {
          "base_uri": "https://localhost:8080/",
          "height": 362
        },
        "id": "0rzsjpb336Qm",
        "outputId": "99079caf-6588-4512-d820-02dee37f900d"
      },
      "execution_count": 48,
      "outputs": [
        {
          "output_type": "display_data",
          "data": {
            "text/plain": [
              "<Figure size 648x360 with 1 Axes>"
            ],
            "image/png": "[encoded data removed]"
          },
          "metadata": {}
        }
      ]
    },
    {
      "cell_type": "markdown",
      "source": [
        "  <p style='text-align:justify;'> We can conclude from the above output, though we have more number of male patients, the proportion of male and female patients died during the follow-up period is almost equal. </p>"
      ],
      "metadata": {
        "id": "dMcKGG_-4PtF"
      }
    },
    {
      "cell_type": "markdown",
      "source": [
        "#Diseases\n",
        "We have to analyze the number of patients having anaemia, diabetes, high blood pressure, smoking habit, abnormal ejection fraction, abnormal creatinine and sodium level.\n",
        "\n",
        "So, let's create another column in our data frame to indicate the abnormalities of the various records.\n",
        "\n",
        "Let's use 'subplot' function from 'matplotlib.pyplot' to display 8 plots in a single output."
      ],
      "metadata": {
        "id": "nN2F1ABn4TDX"
      }
    },
    {
      "cell_type": "code",
      "source": [
        "#create columns to indicate abnormalities \n",
        "heart_failure_df['abnormal_ef'] = np.where(((heart_failure_df.ejection_fraction >= 55) & (heart_failure_df.ejection_fraction <=70)) , 'Normal', 'Abormal')\n",
        "heart_failure_df['abnormal_platelets'] = np.where(((heart_failure_df.platelets >= 150) & (heart_failure_df.platelets <= 400)) , 'Normal', 'Abnormal')\n",
        "heart_failure_df['abnormal_creatinine'] = np.where(((heart_failure_df.serum_creatinine >= 0.6) & (heart_failure_df.serum_creatinine <= 1.2)), 'Normal','Abnormal')\n",
        "heart_failure_df['abnormal_sodium'] = np.where(((heart_failure_df.serum_sodium >= 135) & (heart_failure_df.serum_sodium <= 145)) , 'Normal', 'Abnormal') "
      ],
      "metadata": {
        "id": "7AOAmqlN4K8C"
      },
      "execution_count": 49,
      "outputs": []
    },
    {
      "cell_type": "code",
      "source": [
        "fig, axis = plt.subplots(2,4, figsize =(24, 12)) \n",
        "#axis(0,0) use this axis for Anaemia \n",
        "axis[0,0].set_title(\" Patients with Anaemia\")\n",
        "sns.countplot(x = heart_failure_df.anaemia, ax=axis[0,0], palette=['aquamarine', 'lightcoral'] )\n",
        "axis[0,0].set_xlabel(\"\")\n",
        "axis[0,0].set_ylabel(\"Number of Patients\")\n",
        "axis[0,0].set_ylim([0, 220])\n",
        "\n",
        "#axis(0,1) use this axis for Diabetes \n",
        "axis[0,1].set_title(\" Patients with Diabetes\")\n",
        "sns.countplot(x = heart_failure_df.diabetes, ax=axis[0,1], palette=['aquamarine', 'lightcoral'])\n",
        "axis[0,1].set_xlabel(\"\")\n",
        "axis[0,1].set_ylabel(\"Number of Patients\")\n",
        "axis[0,1].set_ylim([0, 220])\n",
        "\n",
        "\n",
        "#axis(0,2) use this axis for High blood pressure \n",
        "axis[0,2].set_title(\" Patients with High Blood Pressure\")\n",
        "sns.countplot(x = heart_failure_df.high_blood_pressure, ax=axis[0,2], palette=['aquamarine', 'lightcoral'])\n",
        "axis[0,2].set_xlabel(\"\")\n",
        "axis[0,2].set_ylabel(\"Number of Patients\")\n",
        "axis[0,2].set_ylim([0, 220])\n",
        "\n",
        "#axis(0,3) use this axis for smoking habit \n",
        "axis[0,3].set_title(\" Patients with Smoking Habit\")\n",
        "sns.countplot(x = heart_failure_df.smoking, ax=axis[0,3], palette=['aquamarine', 'lightcoral'])\n",
        "axis[0,3].set_xlabel(\"\")\n",
        "axis[0,3].set_ylabel(\"Number of Patients\")\n",
        "axis[0,3].set_ylim([0, 220])\n",
        "\n",
        "\n",
        "#axis(1,0) use this axis for Ejection Fraction \n",
        "axis[1,0].set_title(\" Patients with Abnormal EF\")\n",
        "sns.countplot(x = heart_failure_df.abnormal_ef.sort_values(ascending =False) , ax=axis[1,0], palette=['aquamarine', 'lightcoral'])\n",
        "axis[1,0].set_xlabel(\"\")\n",
        "axis[1,0].set_ylabel(\"Number of Patients\")\n",
        "axis[1,0].set_ylim([0, 270])\n",
        "\n",
        "#axis(1,1) use this axis for Platelets count \n",
        "axis[1,1].set_title(\" Patients with Abnormal Platelets Count\")\n",
        "sns.countplot(x = heart_failure_df.abnormal_platelets.sort_values(ascending =False) , ax=axis[1,1], palette=['aquamarine', 'lightcoral'])\n",
        "axis[1,1].set_xlabel(\"\")\n",
        "axis[1,1].set_ylabel(\"Number of Patients\")\n",
        "axis[1,1].set_ylim([0, 270])\n",
        "\n",
        "#axis(1,2) use this axis for Creatinine level \n",
        "axis[1,2].set_title(\" Patients with Abnormal Creatinine level\")\n",
        "sns.countplot(x = heart_failure_df.abnormal_creatinine.sort_values(ascending =False), ax=axis[1,2], palette=['aquamarine', 'lightcoral'])\n",
        "axis[1,2].set_xlabel(\"\")\n",
        "axis[1,2].set_ylabel(\"Number of Patients\")\n",
        "axis[1,2].set_ylim([0, 270])\n",
        "\n",
        "#axis(1,3) use this axis for sodium level\n",
        "axis[1,3].set_title(\" Patients with Abnormal Sodium level\")\n",
        "sns.countplot(x = heart_failure_df.abnormal_sodium.sort_values(ascending =False), ax=axis[1,3], palette=['aquamarine', 'lightcoral'])\n",
        "axis[1,3].set_xlabel(\"\")\n",
        "axis[1,3].set_ylabel(\"Number of Patients\")\n",
        "axis[1,3].set_ylim([0, 270])\n",
        "\n",
        "#to provide spacing between adjacent plots\n",
        "plt.tight_layout(pad=2);"
      ],
      "metadata": {
        "colab": {
          "base_uri": "https://localhost:8080/",
          "height": 563
        },
        "id": "ozqgIGN94YDz",
        "outputId": "3c3cb536-7382-4e4c-f57f-35d9a9af98db"
      },
      "execution_count": 50,
      "outputs": [
        {
          "output_type": "display_data",
          "data": {
            "text/plain": [
              "<Figure size 1728x864 with 8 Axes>"
            ],
            "image/png": "[encoded data removed]"
          },
          "metadata": {}
        }
      ]
    },
    {
      "cell_type": "code",
      "source": [
        "fig, axis = plt.subplots(2,4, figsize =(24, 12)) \n",
        "#axis(0,0) use this axis for Anaemia \n",
        "axis[0,0].set_title(\" Patients with Anaemia\")\n",
        "sns.countplot(x = heart_failure_df.anaemia, ax=axis[0,0], palette=['aquamarine', 'lightcoral'] )\n",
        "axis[0,0].set_xlabel(\"\")\n",
        "axis[0,0].set_ylabel(\"Number of Patients\")\n",
        "axis[0,0].set_ylim([0, 220])\n",
        "\n",
        "#axis(0,1) use this axis for Diabetes \n",
        "axis[0,1].set_title(\" Patients with Diabetes\")\n",
        "sns.countplot(x = heart_failure_df.diabetes, ax=axis[0,1], palette=['aquamarine', 'lightcoral'])\n",
        "axis[0,1].set_xlabel(\"\")\n",
        "axis[0,1].set_ylabel(\"Number of Patients\")\n",
        "axis[0,1].set_ylim([0, 220])\n",
        "\n",
        "\n",
        "#axis(0,2) use this axis for High blood pressure \n",
        "axis[0,2].set_title(\" Patients with High Blood Pressure\")\n",
        "sns.countplot(x = heart_failure_df.high_blood_pressure, ax=axis[0,2], palette=['aquamarine', 'lightcoral'])\n",
        "axis[0,2].set_xlabel(\"\")\n",
        "axis[0,2].set_ylabel(\"Number of Patients\")\n",
        "axis[0,2].set_ylim([0, 220])\n",
        "\n",
        "#axis(0,3) use this axis for smoking habit \n",
        "axis[0,3].set_title(\" Patients with Smoking Habit\")\n",
        "sns.countplot(x = heart_failure_df.smoking, ax=axis[0,3], palette=['aquamarine', 'lightcoral'])\n",
        "axis[0,3].set_xlabel(\"\")\n",
        "axis[0,3].set_ylabel(\"Number of Patients\")\n",
        "axis[0,3].set_ylim([0, 220])\n",
        "\n",
        "\n",
        "#axis(1,0) use this axis for Ejection Fraction \n",
        "axis[1,0].set_title(\" Patients with Abnormal EF\")\n",
        "sns.countplot(x = heart_failure_df.abnormal_ef.sort_values(ascending =False) , ax=axis[1,0], palette=['aquamarine', 'lightcoral'])\n",
        "axis[1,0].set_xlabel(\"\")\n",
        "axis[1,0].set_ylabel(\"Number of Patients\")\n",
        "axis[1,0].set_ylim([0, 270])\n",
        "\n",
        "#axis(1,1) use this axis for Platelets count \n",
        "axis[1,1].set_title(\" Patients with Abnormal Platelets Count\")\n",
        "sns.countplot(x = heart_failure_df.abnormal_platelets.sort_values(ascending =False) , ax=axis[1,1], palette=['aquamarine', 'lightcoral'])\n",
        "axis[1,1].set_xlabel(\"\")\n",
        "axis[1,1].set_ylabel(\"Number of Patients\")\n",
        "axis[1,1].set_ylim([0, 270])\n",
        "\n",
        "#axis(1,2) use this axis for Creatinine level \n",
        "axis[1,2].set_title(\" Patients with Abnormal Creatinine level\")\n",
        "sns.countplot(x = heart_failure_df.abnormal_creatinine.sort_values(ascending =False), ax=axis[1,2], palette=['aquamarine', 'lightcoral'])\n",
        "axis[1,2].set_xlabel(\"\")\n",
        "axis[1,2].set_ylabel(\"Number of Patients\")\n",
        "axis[1,2].set_ylim([0, 270])\n",
        "\n",
        "#axis(1,3) use this axis for sodium level\n",
        "axis[1,3].set_title(\" Patients with Abnormal Sodium level\")\n",
        "sns.countplot(x = heart_failure_df.abnormal_sodium.sort_values(ascending =False), ax=axis[1,3], palette=['aquamarine', 'lightcoral'])\n",
        "axis[1,3].set_xlabel(\"\")\n",
        "axis[1,3].set_ylabel(\"Number of Patients\")\n",
        "axis[1,3].set_ylim([0, 270])\n",
        "\n",
        "#to provide spacing between adjacent plots\n",
        "plt.tight_layout(pad=2);"
      ],
      "metadata": {
        "colab": {
          "base_uri": "https://localhost:8080/",
          "height": 563
        },
        "id": "Ce67hLSq4cij",
        "outputId": "6b261733-fff4-43c6-b665-ddb545d3cc5b"
      },
      "execution_count": 51,
      "outputs": [
        {
          "output_type": "display_data",
          "data": {
            "text/plain": [
              "<Figure size 1728x864 with 8 Axes>"
            ],
            "image/png": "[encoded data removed]"
          },
          "metadata": {}
        }
      ]
    },
    {
      "cell_type": "markdown",
      "source": [
        "  <p style='text-align:justify;'> As we can clearly identify, that abnormality in Ejection Fraction(EF) is the most common factor among the heart failure patients.</p>\n",
        "\n",
        "  <p style='text-align:justify;'><b>\"EF refers to the amount of blood being pumped out of the left ventricle each time it contracts. The left ventricle is the heart's main pumping chamber. Heart failure (HF) occurs when the heart cannot pump enough blood to meet the needs of the body\".</b></p>\n",
        "  <p style='text-align:justify;'> \n",
        "Low EF is one of the primary reasons which causes heart failure, that's the reason we have more number of patients with abnormal Ejection Fraction.</p>\n",
        "  <p style='text-align:justify;'> \n",
        "Abnormal Ejection Fraction is followed by the abnormal creatinine and sodium level respectively, the factor which is least common among the heart failure patients is abnormal Platelets Count (i.e only 47 Patients). </p>\n",
        "  <p style='text-align:justify;'> \n",
        "Number of Patients with Anaemia, Diabetes and High Blood Pressure are almost equal and ranges from 100 -  120 Patients. </p>"
      ],
      "metadata": {
        "id": "LaJF9eFz4lOg"
      }
    },
    {
      "cell_type": "markdown",
      "source": [
        "#Pair wise relationship\n",
        "A pair plot gives pairwise relationships in a dataset. Let’s say that we have 5 variables in a dataset. When we implement pair plot with this data, it will create plots between those 5 variables. Say for example, the first variable will be taken as the x-axis value and other variables will be taken as y-axis value individually. As a result, you will have 5 plots for 1st variable alone. This will be repeated for the other variables as well.\n",
        "\n",
        "The idea behind pair plot is to understand the relationship between the variables present in the data.\n",
        "\n",
        "Let's separate numeric columns from the dataset to apply 'pairplot' function to understand the relationship between the different attributes."
      ],
      "metadata": {
        "id": "7rzqv6IC4psc"
      }
    },
    {
      "cell_type": "code",
      "source": [
        "#filter columns with numeric value\n",
        "numeric_column = heart_failure_df[['age', 'ejection_fraction', 'platelets', 'serum_creatinine', 'serum_sodium']]"
      ],
      "metadata": {
        "id": "zxiYreT24g74"
      },
      "execution_count": 52,
      "outputs": []
    },
    {
      "cell_type": "code",
      "source": [
        "sns.pairplot(numeric_column);"
      ],
      "metadata": {
        "colab": {
          "base_uri": "https://localhost:8080/",
          "height": 899
        },
        "id": "eo-UPwQc4uYK",
        "outputId": "9963c80b-fe51-4030-988e-3f9cb64aee19"
      },
      "execution_count": 53,
      "outputs": [
        {
          "output_type": "display_data",
          "data": {
            "text/plain": [
              "<Figure size 900x900 with 30 Axes>"
            ],
            "image/png": "[encoded data removed]"
          },
          "metadata": {}
        }
      ]
    },
    {
      "cell_type": "markdown",
      "source": [
        "  <p style='text-align:justify;'> By using 'pairplot' function, we can easily understand and visualize the relationship between the different variables. For example, from the above output we found that only a few patients has normal creatinine and sodium level. </p>"
      ],
      "metadata": {
        "id": "d8IWFIbu43lL"
      }
    },
    {
      "cell_type": "markdown",
      "source": [
        "#### Attributes - Distribution \n",
        "\n",
        "  <p style='text-align:justify;'> Let's build distribution plot for all  columns with numeric values.</p>\n",
        "\n",
        "  <p style='text-align:justify;'><b> Distribution plot helps us to find whether the variables are normally distributed or skewed. </b></p>"
      ],
      "metadata": {
        "id": "GcKehHy-4_HF"
      }
    },
    {
      "cell_type": "code",
      "source": [
        "plt.title(\"Distribution of Ejection Fraction\")\n",
        "sns.histplot(heart_failure_df.ejection_fraction, kde = True, color ='purple');"
      ],
      "metadata": {
        "colab": {
          "base_uri": "https://localhost:8080/",
          "height": 362
        },
        "id": "cnsyUavC4zn6",
        "outputId": "d211b8fe-6b71-4f12-a31c-116630651df3"
      },
      "execution_count": 54,
      "outputs": [
        {
          "output_type": "display_data",
          "data": {
            "text/plain": [
              "<Figure size 648x360 with 1 Axes>"
            ],
            "image/png": "[encoded data removed]"
          },
          "metadata": {}
        }
      ]
    },
    {
      "cell_type": "code",
      "source": [
        "plt.title(\"Distribution of Platelets Count\") \n",
        "sns.histplot(heart_failure_df.platelets, kde = True, color ='purple');"
      ],
      "metadata": {
        "colab": {
          "base_uri": "https://localhost:8080/",
          "height": 362
        },
        "id": "VE0XhV8j5C9y",
        "outputId": "6a0a694e-88a3-4e8c-a75b-5bd4f36bac5e"
      },
      "execution_count": 55,
      "outputs": [
        {
          "output_type": "display_data",
          "data": {
            "text/plain": [
              "<Figure size 648x360 with 1 Axes>"
            ],
            "image/png": "[encoded data removed]"
          },
          "metadata": {}
        }
      ]
    },
    {
      "cell_type": "code",
      "source": [
        "plt.title(\"Distribution of Creatinine Level in the blood\") \n",
        "sns.histplot(heart_failure_df.serum_creatinine, kde = True, bins = 30, color ='purple');"
      ],
      "metadata": {
        "colab": {
          "base_uri": "https://localhost:8080/",
          "height": 362
        },
        "id": "PDONGMZm5Fi6",
        "outputId": "bdefb239-d8d7-4896-dd74-f349cd005d9a"
      },
      "execution_count": 56,
      "outputs": [
        {
          "output_type": "display_data",
          "data": {
            "text/plain": [
              "<Figure size 648x360 with 1 Axes>"
            ],
            "image/png": "[encoded data removed]"
          },
          "metadata": {}
        }
      ]
    },
    {
      "cell_type": "code",
      "source": [
        "plt.title(\"Distribution of Sodium Level in the blood\") \n",
        "sns.histplot(heart_failure_df.serum_sodium, kde = True, color ='purple');"
      ],
      "metadata": {
        "colab": {
          "base_uri": "https://localhost:8080/",
          "height": 362
        },
        "id": "pkgXfPwM5Ie0",
        "outputId": "10a4eb04-0f7a-47a6-b380-948926992aec"
      },
      "execution_count": 57,
      "outputs": [
        {
          "output_type": "display_data",
          "data": {
            "text/plain": [
              "<Figure size 648x360 with 1 Axes>"
            ],
            "image/png": "[encoded data removed]"
          },
          "metadata": {}
        }
      ]
    },
    {
      "cell_type": "markdown",
      "source": [
        "  <p style='text-align:justify;'> Now that we have plotted distribution plot for platelets count, creatinine level, sodium level and ejection fraction and it's obvious that no values are normally distributed. Platelets count, Ejection Fraction and Creatinine Level are right skewed and Sodium Level is left skewed. If the skewness in the data is more, we may have to perform some modifications, in order to get better results from the Machine Learning models once we train them.</p>"
      ],
      "metadata": {
        "id": "-ltq9WB15Mfd"
      }
    },
    {
      "cell_type": "markdown",
      "source": [
        "# Exploration\n",
        "\n",
        "  <p style='text-align:justify;'> We've already gained several insights about the heart failure patients and their clinical records by exploring individual columns of the dataset. Let's ask some specific questions and we'll try to answer them using data frame operations and visualization. </p>"
      ],
      "metadata": {
        "id": "N4YLQqFW5S66"
      }
    },
    {
      "cell_type": "markdown",
      "source": [
        "#### Q: How many number of patients are there in our observation? out of them how many male and  female patients are there? "
      ],
      "metadata": {
        "id": "r0JT09ei5V8T"
      }
    },
    {
      "cell_type": "code",
      "source": [
        "heart_failure_df.shape"
      ],
      "metadata": {
        "colab": {
          "base_uri": "https://localhost:8080/"
        },
        "id": "JCDwfmXB5KbR",
        "outputId": "a47c673c-dce5-474d-9dfa-3a9e58db3e65"
      },
      "execution_count": 58,
      "outputs": [
        {
          "output_type": "execute_result",
          "data": {
            "text/plain": [
              "(299, 16)"
            ]
          },
          "metadata": {},
          "execution_count": 58
        }
      ]
    },
    {
      "cell_type": "code",
      "source": [
        "print(\"Total number of patients in our observation is {}.\".format(heart_failure_df.shape[0]))"
      ],
      "metadata": {
        "colab": {
          "base_uri": "https://localhost:8080/"
        },
        "id": "G7kt41775ZAu",
        "outputId": "a3dc8316-b87c-4bf9-bf6e-54842fd6cee6"
      },
      "execution_count": 59,
      "outputs": [
        {
          "output_type": "stream",
          "name": "stdout",
          "text": [
            "Total number of patients in our observation is 299.\n"
          ]
        }
      ]
    },
    {
      "cell_type": "code",
      "source": [
        "heart_failure_df.sex.value_counts()"
      ],
      "metadata": {
        "colab": {
          "base_uri": "https://localhost:8080/"
        },
        "id": "RrV9RFY25b5a",
        "outputId": "fe23ad0e-3e97-4915-d97a-710dfabda7ed"
      },
      "execution_count": 60,
      "outputs": [
        {
          "output_type": "execute_result",
          "data": {
            "text/plain": [
              "Male      194\n",
              "Female    105\n",
              "Name: sex, dtype: int64"
            ]
          },
          "metadata": {},
          "execution_count": 60
        }
      ]
    },
    {
      "cell_type": "code",
      "source": [
        "print(\"Number of Male patients in our observation is {}.\".format(heart_failure_df.sex.value_counts()[0]))\n",
        "print(\"Number of Female patients in our observation is {}.\".format(heart_failure_df.sex.value_counts()[1]))"
      ],
      "metadata": {
        "colab": {
          "base_uri": "https://localhost:8080/"
        },
        "id": "kVGVL4lb5gUJ",
        "outputId": "46bc26dc-718f-40a9-efa4-729f57cadf72"
      },
      "execution_count": 61,
      "outputs": [
        {
          "output_type": "stream",
          "name": "stdout",
          "text": [
            "Number of Male patients in our observation is 194.\n",
            "Number of Female patients in our observation is 105.\n"
          ]
        }
      ]
    },
    {
      "cell_type": "markdown",
      "source": [
        "#### Q: What is the normal level of Ejection Fraction? How many patients had abnormal Ejection Fraction? "
      ],
      "metadata": {
        "id": "vbEufL9I5l9y"
      }
    },
    {
      "cell_type": "code",
      "source": [
        "column_details_df.normal_value['ejection_fraction']"
      ],
      "metadata": {
        "colab": {
          "base_uri": "https://localhost:8080/",
          "height": 36
        },
        "id": "jNiisGPq5jxM",
        "outputId": "187599b8-342f-4715-8ce4-d80cd506d44e"
      },
      "execution_count": 62,
      "outputs": [
        {
          "output_type": "execute_result",
          "data": {
            "text/plain": [
              "'55% - 70%'"
            ],
            "application/vnd.google.colaboratory.intrinsic+json": {
              "type": "string"
            }
          },
          "metadata": {},
          "execution_count": 62
        }
      ]
    },
    {
      "cell_type": "code",
      "source": [
        "print(\"The normal level of Ejection Fraction is {}.\".format(column_details_df.normal_value['ejection_fraction']))"
      ],
      "metadata": {
        "colab": {
          "base_uri": "https://localhost:8080/"
        },
        "id": "dcC7svyF5rBl",
        "outputId": "ef0b4bc1-d512-427d-faf1-077f84b650c2"
      },
      "execution_count": 63,
      "outputs": [
        {
          "output_type": "stream",
          "name": "stdout",
          "text": [
            "The normal level of Ejection Fraction is 55% - 70%.\n"
          ]
        }
      ]
    },
    {
      "cell_type": "code",
      "source": [
        "heart_failure_df[(heart_failure_df.ejection_fraction >= 55) & (heart_failure_df.ejection_fraction <= 70)].shape"
      ],
      "metadata": {
        "colab": {
          "base_uri": "https://localhost:8080/"
        },
        "id": "wfZnmuLv5tLK",
        "outputId": "e488a3fe-5065-4489-eb68-387905f7cd56"
      },
      "execution_count": 64,
      "outputs": [
        {
          "output_type": "execute_result",
          "data": {
            "text/plain": [
              "(38, 16)"
            ]
          },
          "metadata": {},
          "execution_count": 64
        }
      ]
    },
    {
      "cell_type": "code",
      "source": [
        "print(\"Number of Patients with Normal Ejection Fraction rate is {}.\".format(heart_failure_df[(heart_failure_df.ejection_fraction >= 55) & (heart_failure_df.ejection_fraction <= 70)].shape[0]))"
      ],
      "metadata": {
        "colab": {
          "base_uri": "https://localhost:8080/"
        },
        "id": "Z9Y2VmaN5vq4",
        "outputId": "a37a641b-720d-444c-924d-098dd61d9097"
      },
      "execution_count": 65,
      "outputs": [
        {
          "output_type": "stream",
          "name": "stdout",
          "text": [
            "Number of Patients with Normal Ejection Fraction rate is 38.\n"
          ]
        }
      ]
    },
    {
      "cell_type": "markdown",
      "source": [
        "#### Q: What is the normal level of Platelets Count? How many patients had abnormal Platelets Count? "
      ],
      "metadata": {
        "id": "BvsQ07wD52BS"
      }
    },
    {
      "cell_type": "code",
      "source": [
        "column_details_df.normal_value['platelets']"
      ],
      "metadata": {
        "colab": {
          "base_uri": "https://localhost:8080/",
          "height": 36
        },
        "id": "Y7MLmyu05zMx",
        "outputId": "2ae3ff60-ff20-4d63-c36d-343946f684b7"
      },
      "execution_count": 66,
      "outputs": [
        {
          "output_type": "execute_result",
          "data": {
            "text/plain": [
              "'150 - 400 kilo-platelets / mcL'"
            ],
            "application/vnd.google.colaboratory.intrinsic+json": {
              "type": "string"
            }
          },
          "metadata": {},
          "execution_count": 66
        }
      ]
    },
    {
      "cell_type": "code",
      "source": [
        "print(\"The normal level of Platelets Count in human body is {}.\".format(column_details_df.normal_value['platelets']))"
      ],
      "metadata": {
        "colab": {
          "base_uri": "https://localhost:8080/"
        },
        "id": "dXwdIjvK54le",
        "outputId": "9ee4c232-f265-4a84-e5dd-7af2bdb45e29"
      },
      "execution_count": 67,
      "outputs": [
        {
          "output_type": "stream",
          "name": "stdout",
          "text": [
            "The normal level of Platelets Count in human body is 150 - 400 kilo-platelets / mcL.\n"
          ]
        }
      ]
    },
    {
      "cell_type": "code",
      "source": [
        "heart_failure_df[(heart_failure_df.platelets >= 150) & (heart_failure_df.platelets <= 400)].shape"
      ],
      "metadata": {
        "colab": {
          "base_uri": "https://localhost:8080/"
        },
        "id": "Keqi_d9I57am",
        "outputId": "41e5e2d1-d63d-47bd-8ddb-c9e02bf92e12"
      },
      "execution_count": 68,
      "outputs": [
        {
          "output_type": "execute_result",
          "data": {
            "text/plain": [
              "(252, 16)"
            ]
          },
          "metadata": {},
          "execution_count": 68
        }
      ]
    },
    {
      "cell_type": "code",
      "source": [
        "print(\"Number of Patients with Normal Platelets Count is {}.\".format(heart_failure_df[(heart_failure_df.platelets >= 150) & (heart_failure_df.platelets <= 400)].shape[0]))"
      ],
      "metadata": {
        "colab": {
          "base_uri": "https://localhost:8080/"
        },
        "id": "TXzLEQrD5-8v",
        "outputId": "90e64bf4-2b70-4163-ce72-26812a3827cb"
      },
      "execution_count": 69,
      "outputs": [
        {
          "output_type": "stream",
          "name": "stdout",
          "text": [
            "Number of Patients with Normal Platelets Count is 252.\n"
          ]
        }
      ]
    },
    {
      "cell_type": "markdown",
      "source": [
        "#### Q: What is the normal level of Creatinine in the blood? How many patients had abnormal Creatinine level? "
      ],
      "metadata": {
        "id": "XrCvGpvd6Lrh"
      }
    },
    {
      "cell_type": "code",
      "source": [
        "column_details_df.normal_value['serum_creatinine']"
      ],
      "metadata": {
        "colab": {
          "base_uri": "https://localhost:8080/",
          "height": 36
        },
        "id": "TEwiCI3d6CDo",
        "outputId": "053ad0e0-3161-419a-c035-3bea5d6e0582"
      },
      "execution_count": 70,
      "outputs": [
        {
          "output_type": "execute_result",
          "data": {
            "text/plain": [
              "'0.6 - 1.2 mg/dL'"
            ],
            "application/vnd.google.colaboratory.intrinsic+json": {
              "type": "string"
            }
          },
          "metadata": {},
          "execution_count": 70
        }
      ]
    },
    {
      "cell_type": "code",
      "source": [
        "print(\"The normal level of Creatinine in the blood is {}.\".format(column_details_df.normal_value['serum_creatinine']))"
      ],
      "metadata": {
        "colab": {
          "base_uri": "https://localhost:8080/"
        },
        "id": "IQzu4pW_6RRi",
        "outputId": "806e0e72-708e-4c16-9a42-d601ea3026b9"
      },
      "execution_count": 71,
      "outputs": [
        {
          "output_type": "stream",
          "name": "stdout",
          "text": [
            "The normal level of Creatinine in the blood is 0.6 - 1.2 mg/dL.\n"
          ]
        }
      ]
    },
    {
      "cell_type": "code",
      "source": [
        "heart_failure_df[(heart_failure_df.serum_creatinine >= 0.6) & (heart_failure_df.serum_creatinine <= 1.2)].shape"
      ],
      "metadata": {
        "colab": {
          "base_uri": "https://localhost:8080/"
        },
        "id": "x0x7EuP96Vjc",
        "outputId": "5f19a082-7455-4b01-d78d-1de27833b5de"
      },
      "execution_count": 72,
      "outputs": [
        {
          "output_type": "execute_result",
          "data": {
            "text/plain": [
              "(197, 16)"
            ]
          },
          "metadata": {},
          "execution_count": 72
        }
      ]
    },
    {
      "cell_type": "code",
      "source": [
        "print(\"Number of Patients with Normal Creatinine level in the blood is {}.\".format(heart_failure_df[(heart_failure_df.serum_creatinine >= 0.6) & (heart_failure_df.serum_creatinine <= 1.2)].shape[0])) "
      ],
      "metadata": {
        "colab": {
          "base_uri": "https://localhost:8080/"
        },
        "id": "xXHYva7n6X12",
        "outputId": "e8425379-3450-4f83-83f7-641e33bc326b"
      },
      "execution_count": 73,
      "outputs": [
        {
          "output_type": "stream",
          "name": "stdout",
          "text": [
            "Number of Patients with Normal Creatinine level in the blood is 197.\n"
          ]
        }
      ]
    },
    {
      "cell_type": "markdown",
      "source": [
        "Further Q&A can be done."
      ],
      "metadata": {
        "id": "Psb364Um6cjo"
      }
    }
  ]
}